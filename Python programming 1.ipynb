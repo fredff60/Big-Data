{
 "cells": [
  {
   "cell_type": "markdown",
   "metadata": {
    "pycharm": {
     "name": "#%% md\n"
    }
   },
   "source": [
    "# Introduzione a Python\n",
    "\n",
    "Python è un linguaggo interpretato, generalista, orientato agli oggetti che viene molto utilizzato al giorno d'oggi per l'analisi dei dati ed le applicazioni di Machine Learning.\n",
    "\n",
    "In questa breve introduzione si farà riferimento principalmente alle seguenti fonti:\n",
    "\n",
    "- Il testo di Kenneth A. Lambert [Programmazione in Python](http://www.apogeoeducation.com/programmazione-in-python.html) disponibile su tutti gli store di libri\n",
    "- Il sito [RealPython](https://realpython.com/) che contiene molti tutorial di livello base e avanzato\n",
    "- Il portale della [documentazione ufficiale di Python 3](https://docs.python.org/3/)\n",
    "\n",
    "Ecco un esempio di primo programma Python, `hello.py`:"
   ]
  },
  {
   "cell_type": "markdown",
   "metadata": {
    "pycharm": {
     "is_executing": false,
     "name": "#%% md\n"
    }
   },
   "source": [
    "```python\n",
    "#!/usr/bin/env python\n",
    "\n",
    "# import modules used here -- sys is a very standard one\n",
    "import sys\n",
    "\n",
    "# Gather our code in a main() function\n",
    "def main():\n",
    "    print ('Hello there', sys.argv[1])\n",
    "    # Command line args are in sys.argv[1], sys.argv[2] ...\n",
    "    # sys.argv[0] is the script name itself and can be ignored\n",
    "\n",
    "# Standard boilerplate to call the main() function to begin\n",
    "# the program.\n",
    "if __name__ == '__main__':\n",
    "    main()\n",
    "```\n",
    "Eseguiamolo:"
   ]
  },
  {
   "cell_type": "code",
   "execution_count": 1,
   "metadata": {
    "collapsed": false,
    "jupyter": {
     "outputs_hidden": false
    },
    "pycharm": {
     "is_executing": false,
     "name": "#%%\n"
    },
    "tags": []
   },
   "outputs": [
    {
     "name": "stdout",
     "output_type": "stream",
     "text": [
      "/Users/pirrone/src/github repositories/Big-Data/Python programming\n",
      "Hello Peppino\n"
     ]
    }
   ],
   "source": [
    "%cd \"Python programming\"\n",
    "%run hello.py Peppino"
   ]
  },
  {
   "cell_type": "markdown",
   "metadata": {},
   "source": [
    "Un programma Python standalone va eseguito con l'indicazione dell'interprete da usare e cioè `#!/usr/bin/env python` che invoca l'interprete predefinito nell'ambiente dell'utente.\n",
    "\n",
    "I commenti si inseriscono con:\n",
    "```python\n",
    "# questo è un commento\n",
    "'''\n",
    "Questo è un commento\n",
    "su più linee\n",
    "'''\n",
    "```\n",
    "\n",
    "`import` è la direttiva di importazione di moduli realizzati dall'utente ovvero di moduli di libreria. I moduli più comuni di libreria sono:\n",
    "- `sys`: utility di sistema, gestione dello standard input/output, `exit()`, lista degli argomenti di input `argv` etc.\n",
    "- `os`: accesso al sistema operativo, esecuzione di comandi di shell, variabili di ambiente etc.\n",
    "- `re`: espressioni regolari\n",
    "- `math`: libreria matematica\n",
    "\n",
    "\n",
    "```python\n",
    "import <modulo>  # importa l'intero modulo <modulo> che farà da riferimento ai suoi metodi e classi interne     \n",
    "import <package>.<modulo> [as <nome>] # importa solamente <package>.<modulo> e, se usa il nome <nome>, ne fa il binding nell'ambiente                \n",
    "from <modulo> import <proprietà> [as <nome>] # importa solamente <proprietà>, eventualmente con il nome <nome>, e ne fa sempre il binding nell'ambiente\n",
    "```\n",
    "\n",
    "Python utilizza `def` come istruzione per creare funzioni definite dall'utente:\n",
    "```python\n",
    "def <nomefunzione>(<argomenti>):\n",
    "    istruzione\n",
    "    istruzione\n",
    "    ...\n",
    "```\n",
    "L'indentazione con il tasto `TAB` è ***fondamentale*** in Python perché non ci sono parentesi ad individuare gli _scope_ o ambiti di visibilità. Si entra in uno scope con il simbolo `:` e le istruzioni del blocco sono tutte ad un livello di indentazione più rientrato rispetto alla istruzione che controllas il blocco (dichiarazione di funzione o istruzione di controllo del flusso). Non si usa il \";\" a fine istruzione. Appena si toglie l'indentazione si esce dal blocco.\n",
    "\n",
    "La funzione `main()` costituisce il programma principale, ma la sua esecuzione è legata al codice:\n",
    "```python\n",
    "if __name__ == '__main__':\n",
    "    main()\n",
    "```\n",
    "\n",
    "`__name__` è una delle _variabli speciali_ di Python che è legata alla costruzione dei moduli. In particolare essa contiene il nome del modulo. Tale nome viene impostato automaticamente a `__main__` quando il modulo viene eseguito interattivamente e quindi è connesso allo standard input e output. Di conseguenza usiamo questa istruzione come punto di accesso al nostro programma principale che eseguirà tutte le altre funzioni definite all'interno del nostro codice.\n",
    "\n",
    "Il nostro programma principale:\n",
    "\n",
    "```python\n",
    "def main():\n",
    "    print ('Hello there', sys.argv[1])\n",
    "```\n",
    "richiama la funzione built-in `print()`per l'output eventualmente formattato di una sequenza di oggetti, nel nostro caso una stringa e il _secondo_ elemento della lista `sys.argv` che contiene gli argomenti passati dalla linea di comando, il primo essendo il nome del comando stesso. Le liste in Python si accedono con la notazione array ed indice che parte da 0, ma ***non sono*** array numerici bensì sequenze di oggetti i quali possono essere anche numeri.\n",
    "\n",
    "## Informazioni e documentazione on line\n",
    "Da console interattiva la funzione `help()` fornisce la descrizione del modulo/classe/oggetto/metodo richiesto come argomento, mentre `dir()` fornisce l'elenco dei _simboli_ o _attributi_ in questo definiti. Un modo semplice di ottenere la lista degli attributi di un oggetto è anche quello di usare il tasto `TAB` dopo aver digitato il punto."
   ]
  },
  {
   "cell_type": "code",
   "execution_count": null,
   "metadata": {
    "collapsed": false,
    "jupyter": {
     "outputs_hidden": false
    },
    "pycharm": {
     "is_executing": false,
     "name": "#%%\n"
    }
   },
   "outputs": [],
   "source": [
    "import sys\n",
    "\n",
    "help('pippo'.capitalize)\n",
    "\n",
    "help(sys)\n",
    "\n",
    "dir(sys)"
   ]
  },
  {
   "cell_type": "markdown",
   "metadata": {
    "pycharm": {
     "name": "#%% md\n"
    }
   },
   "source": [
    "## Tipi di dati e variabili\n",
    "\n",
    "Qualunque dato è un oggetto in Python."
   ]
  },
  {
   "cell_type": "code",
   "execution_count": 3,
   "metadata": {
    "collapsed": false,
    "jupyter": {
     "outputs_hidden": false
    },
    "pycharm": {
     "is_executing": false,
     "name": "#%%\n"
    },
    "tags": []
   },
   "outputs": [
    {
     "name": "stdout",
     "output_type": "stream",
     "text": [
      "<class 'int'>\n",
      "<class 'float'>\n"
     ]
    },
    {
     "data": {
      "text/plain": [
       "True"
      ]
     },
     "execution_count": 3,
     "metadata": {},
     "output_type": "execute_result"
    }
   ],
   "source": [
    "print(type(5))\n",
    "\n",
    "a=3.56\n",
    "\n",
    "print(a.__class__)\n",
    "isinstance('pippo',str)"
   ]
  },
  {
   "cell_type": "markdown",
   "metadata": {
    "pycharm": {
     "name": "#%% md\n"
    }
   },
   "source": [
    "I tipi di dati principali sono:\n",
    "- Interi\n",
    "    - tipicamente implementati in 32 bit, ma con rappresentazione interna dipendente dall'architettura, si possono convertire da altre rappresentazioni con la funzione built-in `int()` ed accettano anche la forma esadecimale e ottale: ```21, 0x15, 0o25``` rispettivamente ottenibili tramite `hex()` e `oct()` rispettivamente.\n",
    "- Reali\n",
    "    - si possono ottenere con la funzione built-in `float()` con range tipico $[-10^{308},\\ 10^{308}]$; letterali tipici sono, per esempio ```-3.456``` oppure in notazione scientifica ```-3.456e-7```\n",
    "- Numeri complessi\n",
    "    - si possono ottenere con la funzione built-in `complex()` e il letterale ha la forma del tipo `1.2±3.4j`\n",
    "- Booleani\n",
    "    - sono legati alle espressioni logiche ed agli operatori relazionali ed hanno i soli valori `True` e `False`\n",
    "- Caratteri\n",
    "    - si ottengono con `chr()`applicato alla codifica ASCII o Unicode e di converso `ord()` restituisce il codice del carattere; il letterale è racchiuso da apici singoli `'f'`\n",
    "- Stringhe\n",
    "    - si ottengono con `str()` e possono essere racchiuse da apici singoli o doppi; si possono accedere tramite notazione array ed usano la funzione built-in `len()` per ottenere la lunghezza.\n"
   ]
  },
  {
   "cell_type": "code",
   "execution_count": 4,
   "metadata": {
    "collapsed": false,
    "jupyter": {
     "outputs_hidden": false
    },
    "pycharm": {
     "is_executing": false,
     "name": "#%%\n"
    },
    "tags": []
   },
   "outputs": [
    {
     "name": "stdout",
     "output_type": "stream",
     "text": [
      "5\n",
      "m\n",
      "o\n",
      "aper\n"
     ]
    }
   ],
   "source": [
    "print(str(len('Pippo'))+'\\n'+\"mamma\"[2]+'\\n'+'pluto'[-1]+'\\n'+'paperino'[1:5])"
   ]
  },
  {
   "cell_type": "markdown",
   "metadata": {
    "pycharm": {
     "name": "#%% md\n"
    }
   },
   "source": [
    "In Python sono in uso i caratteri di _escape_ `\\n, \\t, \\b, \\\\, \\', \\\"` e l'operatore `+` è sovraccaricato del significato di concatenazione tra _sole_ stringhe.\n",
    " \n",
    "Le stringhe, ma anche le liste e le tuple, che vedremo in seguito, possono essere accedute usando la notazione slice `[start:stop:step]` che è l'equivalente di creare un oggetto con `slice(start:stop:step)`. La posizione `stop` è esclusa dallo slicing per cui si arriva a `stop - 1`. Sussiste una seconda indicizzazione a partire da `-1` per valori negativi che riferisce la stringa (tupla o lista) dall'ultima posizione fino alla prima.\n",
    "\n",
    "![Indicizzazione in Python](https://developers.google.com/edu/python/images/hello.png)\n",
    "\n",
    "_Fonte: [Google Python Class](https://developers.google.com/edu/python/strings)_"
   ]
  },
  {
   "cell_type": "code",
   "execution_count": 1,
   "metadata": {
    "collapsed": false,
    "jupyter": {
     "outputs_hidden": false
    },
    "pycharm": {
     "is_executing": false,
     "name": "#%%\n"
    }
   },
   "outputs": [
    {
     "name": "stdout",
     "output_type": "stream",
     "text": [
      "n\n",
      "pprn\n",
      "aeio\n",
      "otulp\n"
     ]
    }
   ],
   "source": [
    "print(\"paperino\"[-2])\n",
    "print(\"paperino\"[::2])\n",
    "print(\"paperino\"[1::2])\n",
    "print(\"pluto\"[::-1])"
   ]
  },
  {
   "cell_type": "markdown",
   "metadata": {
    "pycharm": {
     "name": "#%% md\n"
    }
   },
   "source": [
    "Per completezza si riporta la lista delle [funzioni built-in](https://docs.python.org/3/library/functions.html).\n",
    "\n",
    "\n",
    "### Convenzioni sui nomi\n",
    "\n",
    "- moduli e metodi: minuscole eventualmente con underscore `nome_mio_modulo`\n",
    "- classi e variabili che contengono tipi: iniziali maiuscole `MiaClasse`\n",
    "- funzioni e variabili: stile \"mixedCase\" `miaFunzione`\n",
    "- costanti: tutte maiuscole con eventuale underscore `MIA_COSTANTE`\n",
    "\n",
    "### Uso del carattere underscore\n",
    " - Underscore singolo iniziale (`_mio_modulo`) si utilizza per moduli/metodi/classi _private_ nel senso che non vengono importati utilizzando `import *`, ma non sono privati nel senso tipico della OOP\n",
    " - Underscore singolo finale (`mia_funzione_`) è solo una convenzione per evitare confusione con parole riservate del linguaggio.\n",
    " - Doppio underscore iniziale (`__mio_metodo`) è una sintassi per il cosiddetto _mangling_ dei metodi; all'interno di `Classe` il nome del metodo viene modificato dall'interprete in `_Classe__mio_metodo` per cui è di fatto privato, ma si tratta di un meccanismo di oscuramento di nomi di metodi per evitare confusione con metodi con lo stesso nome di possibili sottoclassi.\n",
    " - Doppio underscore iniziale e finale (`__magic__`) è riservato a una serie di nomi di metodi e variabili che hanno funzioni predefinite e rilevanti in Python e non dev'essere usato dagli utenti. Ad esempio:\n",
    "    - `__init__` è il metodo di inizializzazione di una classe, di fatto il costruttore\n",
    "    - `__eq__` è invocato internamente da Python su due oggetti quando si richiama l'operatore `==`\n",
    "    - `__len__` analogamente quando si utilizza `len()`\n",
    "    - `__file__` contiene il nome del file che stiamo utilizzando.\n",
    "\n",
    "\n",
    "## Operatori\n",
    "    \n",
    "![Tabella di precedenza ed associatività degli operatori Python](https://www.miltonmarketing.com/wp-content/uploads/2018/04/Python-Operators-Precedence.jpg)\n",
    "\n",
    "_Fonte: [MiltonMarketing.com](https://www.miltonmarketing.com/coding/python/python-basic-operators/8/)_"
   ]
  }
 ],
 "metadata": {
  "kernelspec": {
   "display_name": "Python 3.10.7 ('primo_env')",
   "language": "python",
   "name": "python3"
  },
  "language_info": {
   "codemirror_mode": {
    "name": "ipython",
    "version": 3
   },
   "file_extension": ".py",
   "mimetype": "text/x-python",
   "name": "python",
   "nbconvert_exporter": "python",
   "pygments_lexer": "ipython3",
   "version": "3.10.7"
  },
  "pycharm": {
   "stem_cell": {
    "cell_type": "raw",
    "metadata": {
     "collapsed": false
    },
    "source": []
   }
  },
  "vscode": {
   "interpreter": {
    "hash": "92303316ce3aae2a184edf8faaa58a0e74be0a47f3c56fc6eb3017d3b455281c"
   }
  }
 },
 "nbformat": 4,
 "nbformat_minor": 4
}
