{
 "cells": [
  {
   "cell_type": "markdown",
   "source": [
    "# Introduzione a Python\n",
    "\n",
    "Python è un linguaggo interpretato, generalista, orientato agli oggetti che viene molto utilizzato al giorno d'oggi per l'analisi dei dati ed le applicazioni di Machine Learning.\n",
    "\n",
    "In questa breve introduzione si farà riferimento principalmente alle seguenti fonti:\n",
    "\n",
    "- Il testo di Kenneth A. Lambert [Programmazione in Python](http://www.apogeoeducation.com/programmazione-in-python.html) disponibile su tutti gli store di libri\n",
    "- Il sito [RealPython](https://realpython.com/) che contiene molti tutorial di livello base e avanzato\n",
    "- Il portale della [documentazione ufficiale di Python 3](https://docs.python.org/3/)\n",
    "\n",
    "Ecco un esempio di primo programma Python, `hello.py`:"
   ],
   "metadata": {
    "pycharm": {
     "name": "#%% md\n"
    }
   }
  },
  {
   "cell_type": "markdown",
   "source": [
    "```python\n",
    "#!/usr/bin/env python\n",
    "\n",
    "# import modules used here -- sys is a very standard one\n",
    "import sys\n",
    "\n",
    "# Gather our code in a main() function\n",
    "def main():\n",
    "    print ('Hello there', sys.argv[1])\n",
    "    # Command line args are in sys.argv[1], sys.argv[2] ...\n",
    "    # sys.argv[0] is the script name itself and can be ignored\n",
    "\n",
    "# Standard boilerplate to call the main() function to begin\n",
    "# the program.\n",
    "if __name__ == '__main__':\n",
    "    main()\n",
    "```\n",
    "Eseguiamolo:"
   ],
   "metadata": {
    "pycharm": {
     "is_executing": false,
     "name": "#%% md\n"
    }
   }
  },
  {
   "cell_type": "code",
   "execution_count": 1,
   "source": [
    "%cd \"Python programming\"\n",
    "%run hello.py Peppino"
   ],
   "outputs": [
    {
     "output_type": "stream",
     "name": "stdout",
     "text": [
      "/Users/pirrone/src/github repositories/Big-Data/Python programming\n",
      "Hello Peppino\n"
     ]
    }
   ],
   "metadata": {
    "collapsed": false,
    "jupyter": {
     "outputs_hidden": false
    },
    "pycharm": {
     "is_executing": false,
     "name": "#%%\n"
    },
    "tags": []
   }
  },
  {
   "cell_type": "markdown",
   "source": [
    "Un programma Python standalone va eseguito con l'indicazione dell'interprete da usare e cioè `#!/usr/bin/env python` che invoca l'interprete predefinito nell'ambiente dell'utente.\n",
    "\n",
    "I commenti si inseriscono con:\n",
    "```python\n",
    "# questo è un commento\n",
    "'''\n",
    "Questo è un commento\n",
    "su più linee\n",
    "'''\n",
    "```\n",
    "\n",
    "`import` è la direttiva di importazione di moduli realizzati dall'utente ovvero di moduli di libreria. I moduli più comuni di libreria sono:\n",
    "- `sys`: utility di sistema, gestione dello standard input/output, `exit()`, lista degli argomenti di input `argv` etc.\n",
    "- `os`: accesso al sistema operativo, esecuzione di comandi di shell, variabili di ambiente etc.\n",
    "- `re`: espressioni regolari\n",
    "- `math`: libreria matematica\n",
    "\n",
    "\n",
    "```python\n",
    "import <modulo>  # importa l'intero modulo <modulo> che farà da riferimento ai suoi metodi e classi interne     \n",
    "import <modulo>.<classe> [as <nome>] # importa <modulo>.<classe> e se usa il nome <nome> ne fa il binding nell'ambiente                \n",
    "from <modulo> import <classe> [as <nome>] # importa <classe>, eventualmente con il nome <nome>, e ne fa sempre il binding nell'ambiente\n",
    "```\n",
    "\n",
    "Python utilizza `def` come istruzione per creare funzioni definite dall'utente:\n",
    "```python\n",
    "def <nomefunzione>(<argomenti>):\n",
    "    istruzione\n",
    "    istruzione\n",
    "    ...\n",
    "```\n",
    "L'indentazione con il tasto `TAB` è ***fondamentale*** in Python perché non ci sono parentesi ad individuare gli _scope_ o ambiti di visibilità. Si entra in uno scope con il simbolo `:` e le istruzioni del blocco sono tutte ad un livello di indentazione più rientrato rispetto alla istruzione che controllas il blocco (dichiarazione di funzione o istruzione di controllo del flusso). Non si usa il \";\" a fine istruzione. Appena si toglie l'indentazione si esce dal blocco.\n",
    "\n",
    "La funzione `main()` costituisce il programma principale, ma la sua esecuzione è legata al codice:\n",
    "```python\n",
    "if __name__ == '__main__':\n",
    "    main()\n",
    "```\n",
    "\n",
    "`__name__` è una delle _variabli speciali_ di Python che è legata alla costruzione dei moduli. In particolare essa contiene il nome del modulo. Tale nome viene impostato automaticamente a `__main__` quando il modulo viene eseguito interattivamente e quindi è connesso allo standard input e output. Di conseguenza usiamo questa istruzione come punto di accesso al nostro programma principale che eseguirà tutte le altre funzioni definite all'interno del nostro codice.\n",
    "\n",
    "Il nostro programma principale:\n",
    "\n",
    "```python\n",
    "def main():\n",
    "    print ('Hello there', sys.argv[1])\n",
    "```\n",
    "richiama la funzione built-in `print()`per l'output eventualmente formattato di una sequenza di oggetti, nel nostro caso una stringa e il _secondo_ elemento della lista `sys.argv` che contiene gli argomenti passati dalla linea di comando, il primo essendo il nome del comando stesso. Le liste in Python si accedono con la notazione array ed indice che parte da 0, ma ***non sono*** array numerici bensì sequenze di oggetti i quali possono essere anche numeri.\n",
    "\n",
    "## Informazioni e documentazione on line\n",
    "Da console interattiva la funzione `help()` fornisce la descrizione del modulo/classe/oggetto/metodo richiesto come argomento, mentre `dir()` fornisce l'elenco dei _simboli_ o _attributi_ in questo definiti. Un modo semplice di ottenere la lista degli attributi di un oggetto è anche quello di usare il tasto `TAB` dopo aver digitato il punto."
   ],
   "metadata": {}
  },
  {
   "cell_type": "code",
   "execution_count": 1,
   "source": [
    "import sys\n",
    "\n",
    "help('pippo'.capitalize)\n",
    "\n",
    "help(sys)\n",
    "\n",
    "dir(sys)"
   ],
   "outputs": [
    {
     "output_type": "stream",
     "name": "stdout",
     "text": [
      "Help on built-in function capitalize:\n",
      "\n",
      "capitalize() method of builtins.str instance\n",
      "    Return a capitalized version of the string.\n",
      "    \n",
      "    More specifically, make the first character have upper case and the rest lower\n",
      "    case.\n",
      "\n",
      "Help on built-in module sys:\n",
      "\n",
      "NAME\n",
      "    sys\n",
      "\n",
      "MODULE REFERENCE\n",
      "    https://docs.python.org/3.9/library/sys\n",
      "    \n",
      "    The following documentation is automatically generated from the Python\n",
      "    source files.  It may be incomplete, incorrect or include features that\n",
      "    are considered implementation detail and may vary between Python\n",
      "    implementations.  When in doubt, consult the module reference at the\n",
      "    location listed above.\n",
      "\n",
      "DESCRIPTION\n",
      "    This module provides access to some objects used or maintained by the\n",
      "    interpreter and to functions that interact strongly with the interpreter.\n",
      "    \n",
      "    Dynamic objects:\n",
      "    \n",
      "    argv -- command line arguments; argv[0] is the script pathname if known\n",
      "    path -- module search path; path[0] is the script directory, else ''\n",
      "    modules -- dictionary of loaded modules\n",
      "    \n",
      "    displayhook -- called to show results in an interactive session\n",
      "    excepthook -- called to handle any uncaught exception other than SystemExit\n",
      "      To customize printing in an interactive session or to install a custom\n",
      "      top-level exception handler, assign other functions to replace these.\n",
      "    \n",
      "    stdin -- standard input file object; used by input()\n",
      "    stdout -- standard output file object; used by print()\n",
      "    stderr -- standard error object; used for error messages\n",
      "      By assigning other file objects (or objects that behave like files)\n",
      "      to these, it is possible to redirect all of the interpreter's I/O.\n",
      "    \n",
      "    last_type -- type of last uncaught exception\n",
      "    last_value -- value of last uncaught exception\n",
      "    last_traceback -- traceback of last uncaught exception\n",
      "      These three are only available in an interactive session after a\n",
      "      traceback has been printed.\n",
      "    \n",
      "    Static objects:\n",
      "    \n",
      "    builtin_module_names -- tuple of module names built into this interpreter\n",
      "    copyright -- copyright notice pertaining to this interpreter\n",
      "    exec_prefix -- prefix used to find the machine-specific Python library\n",
      "    executable -- absolute path of the executable binary of the Python interpreter\n",
      "    float_info -- a named tuple with information about the float implementation.\n",
      "    float_repr_style -- string indicating the style of repr() output for floats\n",
      "    hash_info -- a named tuple with information about the hash algorithm.\n",
      "    hexversion -- version information encoded as a single integer\n",
      "    implementation -- Python implementation information.\n",
      "    int_info -- a named tuple with information about the int implementation.\n",
      "    maxsize -- the largest supported length of containers.\n",
      "    maxunicode -- the value of the largest Unicode code point\n",
      "    platform -- platform identifier\n",
      "    prefix -- prefix used to find the Python library\n",
      "    thread_info -- a named tuple with information about the thread implementation.\n",
      "    version -- the version of this interpreter as a string\n",
      "    version_info -- version information as a named tuple\n",
      "    __stdin__ -- the original stdin; don't touch!\n",
      "    __stdout__ -- the original stdout; don't touch!\n",
      "    __stderr__ -- the original stderr; don't touch!\n",
      "    __displayhook__ -- the original displayhook; don't touch!\n",
      "    __excepthook__ -- the original excepthook; don't touch!\n",
      "    \n",
      "    Functions:\n",
      "    \n",
      "    displayhook() -- print an object to the screen, and save it in builtins._\n",
      "    excepthook() -- print an exception and its traceback to sys.stderr\n",
      "    exc_info() -- return thread-safe information about the current exception\n",
      "    exit() -- exit the interpreter by raising SystemExit\n",
      "    getdlopenflags() -- returns flags to be used for dlopen() calls\n",
      "    getprofile() -- get the global profiling function\n",
      "    getrefcount() -- return the reference count for an object (plus one :-)\n",
      "    getrecursionlimit() -- return the max recursion depth for the interpreter\n",
      "    getsizeof() -- return the size of an object in bytes\n",
      "    gettrace() -- get the global debug tracing function\n",
      "    setdlopenflags() -- set the flags to be used for dlopen() calls\n",
      "    setprofile() -- set the global profiling function\n",
      "    setrecursionlimit() -- set the max recursion depth for the interpreter\n",
      "    settrace() -- set the global debug tracing function\n",
      "\n",
      "FUNCTIONS\n",
      "    __breakpointhook__ = breakpointhook(...)\n",
      "        breakpointhook(*args, **kws)\n",
      "        \n",
      "        This hook function is called by built-in breakpoint().\n",
      "    \n",
      "    __displayhook__ = displayhook(object, /)\n",
      "        Print an object to sys.stdout and also save it in builtins._\n",
      "    \n",
      "    __excepthook__ = excepthook(exctype, value, traceback, /)\n",
      "        Handle an exception by displaying it with a traceback on sys.stderr.\n",
      "    \n",
      "    __unraisablehook__ = unraisablehook(unraisable, /)\n",
      "        Handle an unraisable exception.\n",
      "        \n",
      "        The unraisable argument has the following attributes:\n",
      "        \n",
      "        * exc_type: Exception type.\n",
      "        * exc_value: Exception value, can be None.\n",
      "        * exc_traceback: Exception traceback, can be None.\n",
      "        * err_msg: Error message, can be None.\n",
      "        * object: Object causing the exception, can be None.\n",
      "    \n",
      "    addaudithook(hook)\n",
      "        Adds a new audit hook callback.\n",
      "    \n",
      "    audit(...)\n",
      "        audit(event, *args)\n",
      "        \n",
      "        Passes the event to any audit hooks that are attached.\n",
      "    \n",
      "    breakpointhook(...)\n",
      "        breakpointhook(*args, **kws)\n",
      "        \n",
      "        This hook function is called by built-in breakpoint().\n",
      "    \n",
      "    call_tracing(func, args, /)\n",
      "        Call func(*args), while tracing is enabled.\n",
      "        \n",
      "        The tracing state is saved, and restored afterwards.  This is intended\n",
      "        to be called from a debugger from a checkpoint, to recursively debug\n",
      "        some other code.\n",
      "    \n",
      "    exc_info()\n",
      "        Return current exception information: (type, value, traceback).\n",
      "        \n",
      "        Return information about the most recent exception caught by an except\n",
      "        clause in the current stack frame or in an older stack frame.\n",
      "    \n",
      "    exit(status=None, /)\n",
      "        Exit the interpreter by raising SystemExit(status).\n",
      "        \n",
      "        If the status is omitted or None, it defaults to zero (i.e., success).\n",
      "        If the status is an integer, it will be used as the system exit status.\n",
      "        If it is another kind of object, it will be printed and the system\n",
      "        exit status will be one (i.e., failure).\n",
      "    \n",
      "    get_asyncgen_hooks()\n",
      "        Return the installed asynchronous generators hooks.\n",
      "        \n",
      "        This returns a namedtuple of the form (firstiter, finalizer).\n",
      "    \n",
      "    get_coroutine_origin_tracking_depth()\n",
      "        Check status of origin tracking for coroutine objects in this thread.\n",
      "    \n",
      "    getallocatedblocks()\n",
      "        Return the number of memory blocks currently allocated.\n",
      "    \n",
      "    getdefaultencoding()\n",
      "        Return the current default encoding used by the Unicode implementation.\n",
      "    \n",
      "    getdlopenflags()\n",
      "        Return the current value of the flags that are used for dlopen calls.\n",
      "        \n",
      "        The flag constants are defined in the os module.\n",
      "    \n",
      "    getfilesystemencodeerrors()\n",
      "        Return the error mode used Unicode to OS filename conversion.\n",
      "    \n",
      "    getfilesystemencoding()\n",
      "        Return the encoding used to convert Unicode filenames to OS filenames.\n",
      "    \n",
      "    getprofile()\n",
      "        Return the profiling function set with sys.setprofile.\n",
      "        \n",
      "        See the profiler chapter in the library manual.\n",
      "    \n",
      "    getrecursionlimit()\n",
      "        Return the current value of the recursion limit.\n",
      "        \n",
      "        The recursion limit is the maximum depth of the Python interpreter\n",
      "        stack.  This limit prevents infinite recursion from causing an overflow\n",
      "        of the C stack and crashing Python.\n",
      "    \n",
      "    getrefcount(object, /)\n",
      "        Return the reference count of object.\n",
      "        \n",
      "        The count returned is generally one higher than you might expect,\n",
      "        because it includes the (temporary) reference as an argument to\n",
      "        getrefcount().\n",
      "    \n",
      "    getsizeof(...)\n",
      "        getsizeof(object [, default]) -> int\n",
      "        \n",
      "        Return the size of object in bytes.\n",
      "    \n",
      "    getswitchinterval()\n",
      "        Return the current thread switch interval; see sys.setswitchinterval().\n",
      "    \n",
      "    gettrace()\n",
      "        Return the global debug tracing function set with sys.settrace.\n",
      "        \n",
      "        See the debugger chapter in the library manual.\n",
      "    \n",
      "    intern(string, /)\n",
      "        ``Intern'' the given string.\n",
      "        \n",
      "        This enters the string in the (global) table of interned strings whose\n",
      "        purpose is to speed up dictionary lookups. Return the string itself or\n",
      "        the previously interned string object with the same value.\n",
      "    \n",
      "    is_finalizing()\n",
      "        Return True if Python is exiting.\n",
      "    \n",
      "    set_asyncgen_hooks(...)\n",
      "        set_asyncgen_hooks(* [, firstiter] [, finalizer])\n",
      "        \n",
      "        Set a finalizer for async generators objects.\n",
      "    \n",
      "    set_coroutine_origin_tracking_depth(depth)\n",
      "        Enable or disable origin tracking for coroutine objects in this thread.\n",
      "        \n",
      "        Coroutine objects will track 'depth' frames of traceback information\n",
      "        about where they came from, available in their cr_origin attribute.\n",
      "        \n",
      "        Set a depth of 0 to disable.\n",
      "    \n",
      "    setdlopenflags(flags, /)\n",
      "        Set the flags used by the interpreter for dlopen calls.\n",
      "        \n",
      "        This is used, for example, when the interpreter loads extension\n",
      "        modules. Among other things, this will enable a lazy resolving of\n",
      "        symbols when importing a module, if called as sys.setdlopenflags(0).\n",
      "        To share symbols across extension modules, call as\n",
      "        sys.setdlopenflags(os.RTLD_GLOBAL).  Symbolic names for the flag\n",
      "        modules can be found in the os module (RTLD_xxx constants, e.g.\n",
      "        os.RTLD_LAZY).\n",
      "    \n",
      "    setprofile(...)\n",
      "        setprofile(function)\n",
      "        \n",
      "        Set the profiling function.  It will be called on each function call\n",
      "        and return.  See the profiler chapter in the library manual.\n",
      "    \n",
      "    setrecursionlimit(limit, /)\n",
      "        Set the maximum depth of the Python interpreter stack to n.\n",
      "        \n",
      "        This limit prevents infinite recursion from causing an overflow of the C\n",
      "        stack and crashing Python.  The highest possible limit is platform-\n",
      "        dependent.\n",
      "    \n",
      "    setswitchinterval(interval, /)\n",
      "        Set the ideal thread switching delay inside the Python interpreter.\n",
      "        \n",
      "        The actual frequency of switching threads can be lower if the\n",
      "        interpreter executes long sequences of uninterruptible code\n",
      "        (this is implementation-specific and workload-dependent).\n",
      "        \n",
      "        The parameter must represent the desired switching delay in seconds\n",
      "        A typical value is 0.005 (5 milliseconds).\n",
      "    \n",
      "    settrace(...)\n",
      "        settrace(function)\n",
      "        \n",
      "        Set the global debug tracing function.  It will be called on each\n",
      "        function call.  See the debugger chapter in the library manual.\n",
      "    \n",
      "    unraisablehook(unraisable, /)\n",
      "        Handle an unraisable exception.\n",
      "        \n",
      "        The unraisable argument has the following attributes:\n",
      "        \n",
      "        * exc_type: Exception type.\n",
      "        * exc_value: Exception value, can be None.\n",
      "        * exc_traceback: Exception traceback, can be None.\n",
      "        * err_msg: Error message, can be None.\n",
      "        * object: Object causing the exception, can be None.\n",
      "\n",
      "DATA\n",
      "    __stderr__ = <_io.TextIOWrapper name='<stderr>' mode='w' encoding='utf...\n",
      "    __stdin__ = <_io.TextIOWrapper name='<stdin>' mode='r' encoding='utf-8...\n",
      "    __stdout__ = <_io.TextIOWrapper name='<stdout>' mode='w' encoding='utf...\n",
      "    abiflags = ''\n",
      "    api_version = 1013\n",
      "    argv = ['/usr/local/lib/python3.9/site-packages/ipykernel_launcher.py'...\n",
      "    base_exec_prefix = '/usr/local/opt/python@3.9/Frameworks/Python.framew...\n",
      "    base_prefix = '/usr/local/opt/python@3.9/Frameworks/Python.framework/V...\n",
      "    builtin_module_names = ('_abc', '_ast', '_codecs', '_collections', '_f...\n",
      "    byteorder = 'little'\n",
      "    copyright = 'Copyright (c) 2001-2021 Python Software Foundati...ematis...\n",
      "    displayhook = <ipykernel.displayhook.ZMQShellDisplayHook object>\n",
      "    dont_write_bytecode = False\n",
      "    exec_prefix = '/usr/local/opt/python@3.9/Frameworks/Python.framework/V...\n",
      "    executable = '/usr/local/opt/python@3.9/bin/python3.9'\n",
      "    flags = sys.flags(debug=0, inspect=0, interactive=0, opt...ation=1, is...\n",
      "    float_info = sys.float_info(max=1.7976931348623157e+308, max_...epsilo...\n",
      "    float_repr_style = 'short'\n",
      "    hash_info = sys.hash_info(width=64, modulus=2305843009213693...iphash2...\n",
      "    hexversion = 50923248\n",
      "    implementation = namespace(name='cpython', cache_tag='cpython-39'...ia...\n",
      "    int_info = sys.int_info(bits_per_digit=30, sizeof_digit=4)\n",
      "    maxsize = 9223372036854775807\n",
      "    maxunicode = 1114111\n",
      "    meta_path = [<class '_frozen_importlib.BuiltinImporter'>, <class '_fro...\n",
      "    modules = {'IPython': <module 'IPython' from '/usr/local/lib/python3.9...\n",
      "    path = ['/Users/pirrone/src/github repositories/Big-Data', '/Users/pir...\n",
      "    path_hooks = [<class 'zipimport.zipimporter'>, <function FileFinder.pa...\n",
      "    path_importer_cache = {'/Users/pirrone/.ipython/extensions': FileFinde...\n",
      "    platform = 'darwin'\n",
      "    platlibdir = 'lib'\n",
      "    prefix = '/usr/local/opt/python@3.9/Frameworks/Python.framework/Versio...\n",
      "    ps1 = 'In : '\n",
      "    ps2 = '...: '\n",
      "    ps3 = 'Out: '\n",
      "    pycache_prefix = None\n",
      "    stderr = <ipykernel.iostream.OutStream object>\n",
      "    stdin = <_io.TextIOWrapper name='<stdin>' mode='r' encoding='utf-8'>\n",
      "    stdout = <ipykernel.iostream.OutStream object>\n",
      "    thread_info = sys.thread_info(name='pthread', lock='mutex+cond', versi...\n",
      "    version = '3.9.6 (default, Jun 29 2021, 05:25:02) \\n[Clang 12.0.5 (cla...\n",
      "    version_info = sys.version_info(major=3, minor=9, micro=6, releaseleve...\n",
      "    warnoptions = []\n",
      "\n",
      "FILE\n",
      "    (built-in)\n",
      "\n",
      "\n"
     ]
    },
    {
     "output_type": "execute_result",
     "data": {
      "text/plain": [
       "['__breakpointhook__',\n",
       " '__displayhook__',\n",
       " '__doc__',\n",
       " '__excepthook__',\n",
       " '__interactivehook__',\n",
       " '__loader__',\n",
       " '__name__',\n",
       " '__package__',\n",
       " '__spec__',\n",
       " '__stderr__',\n",
       " '__stdin__',\n",
       " '__stdout__',\n",
       " '__unraisablehook__',\n",
       " '_base_executable',\n",
       " '_clear_type_cache',\n",
       " '_current_frames',\n",
       " '_debugmallocstats',\n",
       " '_framework',\n",
       " '_getframe',\n",
       " '_git',\n",
       " '_home',\n",
       " '_xoptions',\n",
       " 'abiflags',\n",
       " 'addaudithook',\n",
       " 'api_version',\n",
       " 'argv',\n",
       " 'audit',\n",
       " 'base_exec_prefix',\n",
       " 'base_prefix',\n",
       " 'breakpointhook',\n",
       " 'builtin_module_names',\n",
       " 'byteorder',\n",
       " 'call_tracing',\n",
       " 'copyright',\n",
       " 'displayhook',\n",
       " 'dont_write_bytecode',\n",
       " 'exc_info',\n",
       " 'excepthook',\n",
       " 'exec_prefix',\n",
       " 'executable',\n",
       " 'exit',\n",
       " 'flags',\n",
       " 'float_info',\n",
       " 'float_repr_style',\n",
       " 'get_asyncgen_hooks',\n",
       " 'get_coroutine_origin_tracking_depth',\n",
       " 'getallocatedblocks',\n",
       " 'getdefaultencoding',\n",
       " 'getdlopenflags',\n",
       " 'getfilesystemencodeerrors',\n",
       " 'getfilesystemencoding',\n",
       " 'getprofile',\n",
       " 'getrecursionlimit',\n",
       " 'getrefcount',\n",
       " 'getsizeof',\n",
       " 'getswitchinterval',\n",
       " 'gettrace',\n",
       " 'hash_info',\n",
       " 'hexversion',\n",
       " 'implementation',\n",
       " 'int_info',\n",
       " 'intern',\n",
       " 'is_finalizing',\n",
       " 'maxsize',\n",
       " 'maxunicode',\n",
       " 'meta_path',\n",
       " 'modules',\n",
       " 'path',\n",
       " 'path_hooks',\n",
       " 'path_importer_cache',\n",
       " 'platform',\n",
       " 'platlibdir',\n",
       " 'prefix',\n",
       " 'ps1',\n",
       " 'ps2',\n",
       " 'ps3',\n",
       " 'pycache_prefix',\n",
       " 'set_asyncgen_hooks',\n",
       " 'set_coroutine_origin_tracking_depth',\n",
       " 'setdlopenflags',\n",
       " 'setprofile',\n",
       " 'setrecursionlimit',\n",
       " 'setswitchinterval',\n",
       " 'settrace',\n",
       " 'stderr',\n",
       " 'stdin',\n",
       " 'stdout',\n",
       " 'thread_info',\n",
       " 'unraisablehook',\n",
       " 'version',\n",
       " 'version_info',\n",
       " 'warnoptions']"
      ]
     },
     "metadata": {},
     "execution_count": 1
    }
   ],
   "metadata": {
    "collapsed": false,
    "jupyter": {
     "outputs_hidden": false
    },
    "pycharm": {
     "is_executing": false,
     "name": "#%%\n"
    }
   }
  },
  {
   "cell_type": "markdown",
   "source": [
    "## Tipi di dati e variabili\n",
    "\n",
    "Qualunque dato è un oggetto in Python."
   ],
   "metadata": {
    "pycharm": {
     "name": "#%% md\n"
    }
   }
  },
  {
   "cell_type": "code",
   "execution_count": 2,
   "source": [
    "print(type(5))\n",
    "\n",
    "a=3.56\n",
    "\n",
    "print(a.__class__)\n",
    "isinstance('pippo',str)"
   ],
   "outputs": [
    {
     "output_type": "stream",
     "name": "stdout",
     "text": [
      "<class 'int'>\n",
      "<class 'float'>\n"
     ]
    },
    {
     "output_type": "execute_result",
     "data": {
      "text/plain": [
       "True"
      ]
     },
     "metadata": {},
     "execution_count": 2
    }
   ],
   "metadata": {
    "collapsed": false,
    "jupyter": {
     "outputs_hidden": false
    },
    "pycharm": {
     "is_executing": false,
     "name": "#%%\n"
    },
    "tags": []
   }
  },
  {
   "cell_type": "markdown",
   "source": [
    "I tipi di dati principali sono:\n",
    "- Interi\n",
    "    - tipicamente implementati in 32 bit, ma con rappresentazione interna dipendente dall'architettura, si possono convertire da altre rappresentazioni con la funzione built-in `int()` ed accettano anche la forma esadecimale e ottale: ```21, 0x15, 0o25``` rispettivamente ottenibili tramite `hex()` e `oct()` rispettivamente.\n",
    "- Reali\n",
    "    - si possono ottenere con la funzione built-in `float()` con range tipico $[-10^{308},\\ 10^{308}]$; letterali tipici sono, per esempio ```-3.456``` oppure in notazione scientifica ```-3.456e-7```\n",
    "- Numeri complessi\n",
    "    - si possono ottenere con la funzione built-in `complex()` e il letterale ha la forma del tipo `1.2±3.4j`\n",
    "- Booleani\n",
    "    - sono legati alle espressioni logiche ed agli operatori relazionali ed hanno i soli valori `True` e `False`\n",
    "- Caratteri\n",
    "    - si ottengono con `chr()`applicato alla codifica ASCII o Unicode e di converso `ord()` restituisce il codice del carattere; il letterale è racchiuso da apici singoli `'f'`\n",
    "- Stringhe\n",
    "    - si ottengono con `str()` e possono essere racchiuse da apici singoli o doppi; si possono accedere tramite notazione array ed usano la funzione built-in `len()` per ottenere la lunghezza.\n"
   ],
   "metadata": {
    "pycharm": {
     "name": "#%% md\n"
    }
   }
  },
  {
   "cell_type": "code",
   "execution_count": 2,
   "source": [
    "print(str(len('Pippo'))+'\\n'+\"mamma\"[2]+'\\n'+'pluto'[-1]+'\\n'+'paperino'[1:5])"
   ],
   "outputs": [
    {
     "output_type": "stream",
     "name": "stdout",
     "text": [
      "5\n",
      "m\n",
      "o\n",
      "aper\n"
     ]
    }
   ],
   "metadata": {
    "collapsed": false,
    "jupyter": {
     "outputs_hidden": false
    },
    "pycharm": {
     "is_executing": false,
     "name": "#%%\n"
    },
    "tags": []
   }
  },
  {
   "cell_type": "markdown",
   "source": [
    "In Python sono in uso i caratteri di _escape_ `\\n, \\t, \\b, \\\\, \\', \\\"` e l'operatore `+` è sovraccaricato del significato di concatenazione tra _sole_ stringhe.\n",
    " \n",
    "Le stringhe, ma anche le liste e le tuple, che vedremo in seguito, possono essere accedute usando la notazione slice `[start:stop:step]` che è l'equivalente di creare un oggetto con `slice(start:stop:step)`. La posizione `stop` è esclusa dallo slicing per cui si arriva a `stop - 1`. Sussiste una seconda indicizzazione a partire da `-1` per valori negativi che riferisce la stringa (tupla o lista) dall'ultima posizione fino alla prima.\n",
    "\n",
    "![Indicizzazione in Python](https://developers.google.com/edu/python/images/hello.png)\n",
    "\n",
    "_Fonte: [Google Python Class](https://developers.google.com/edu/python/strings)_"
   ],
   "metadata": {
    "pycharm": {
     "name": "#%% md\n"
    }
   }
  },
  {
   "cell_type": "code",
   "execution_count": 4,
   "source": [
    "print(\"paperino\"[-2])\n",
    "print(\"paperino\"[::2])\n",
    "print(\"paperino\"[1::2])\n",
    "print(\"pluto\"[::-1])"
   ],
   "outputs": [
    {
     "output_type": "stream",
     "name": "stdout",
     "text": [
      "n\n",
      "pprn\n",
      "aeio\n",
      "otulp\n"
     ]
    }
   ],
   "metadata": {
    "collapsed": false,
    "jupyter": {
     "outputs_hidden": false
    },
    "pycharm": {
     "is_executing": false,
     "name": "#%%\n"
    }
   }
  },
  {
   "cell_type": "markdown",
   "source": [
    "Per completezza si riporta la lista delle [funzioni built-in](https://docs.python.org/3/library/functions.html).\n",
    "\n",
    "\n",
    "### Convenzioni sui nomi\n",
    "\n",
    "- moduli e metodi: minuscole eventualmente con underscore `nome_mio_modulo`\n",
    "- classi e variabili che contengono tipi: iniziali maiuscole `MiaClasse`\n",
    "- funzioni e variabili: stile \"mixedCase\" `miaFunzione`\n",
    "- costanti: tutte maiuscole con eventuale underscore `MIA_COSTANTE`\n",
    "\n",
    "### Uso del carattere underscore\n",
    " - Underscore singolo iniziale (`_mio_modulo`) si utilizza per moduli/metodi/classi _private_ nel senso che non vengono importati utilizzando `import *`, ma non sono privati nel senso tipico della OOP\n",
    " - Underscore singolo finale (`mia_funzione_`) è solo una convenzione per evitare confusione con parole riservate del linguaggio.\n",
    " - Doppio underscore iniziale (`__mio_metodo`) è una sintassi per il cosiddetto _mangling_ dei metodi; all'interno di `Classe` il nome del metodo viene modificato dall'interprete in `_Classe__mio_metodo` per cui è di fatto privato, ma si tratta di un meccanismo di oscuramento di nomi di metodi per evitare confusione con metodi con lo stesso nome di possibili sottoclassi.\n",
    " - Doppio underscore iniziale e finale (`__magic__`) è riservato a una serie di nomi di metodi e variabili che hanno funzioni predefinite e rilevanti in Python e non dev'essere usato dagli utenti. Ad esempio:\n",
    "    - `__init__` è il metodo di inizializzazione di una classe, di fatto il costruttore\n",
    "    - `__eq__` è invocato internamente da Python su due oggetti quando si richiama l'operatore `==`\n",
    "    - `__len__` analogamente quando si utilizza `len()`\n",
    "    - `__file__` contiene il nome del file che stiamo utilizzando.\n",
    "\n",
    "\n",
    "## Operatori\n",
    "    \n",
    "![Tabella di precedenza ed associatività degli operatori Python](https://www.miltonmarketing.com/wp-content/uploads/2018/04/Python-Operators-Precedence.jpg)\n",
    "\n",
    "_Fonte: [MiltonMarketing.com](https://www.miltonmarketing.com/coding/python/python-basic-operators/8/)_"
   ],
   "metadata": {
    "pycharm": {
     "name": "#%% md\n"
    }
   }
  }
 ],
 "metadata": {
  "kernelspec": {
   "name": "python3",
   "display_name": "Python 3.9.6 64-bit"
  },
  "language_info": {
   "codemirror_mode": {
    "name": "ipython",
    "version": 3
   },
   "file_extension": ".py",
   "mimetype": "text/x-python",
   "name": "python",
   "nbconvert_exporter": "python",
   "pygments_lexer": "ipython3",
   "version": "3.9.6"
  },
  "pycharm": {
   "stem_cell": {
    "cell_type": "raw",
    "metadata": {
     "collapsed": false
    },
    "source": []
   }
  },
  "interpreter": {
   "hash": "aee8b7b246df8f9039afb4144a1f6fd8d2ca17a180786b69acc140d282b71a49"
  }
 },
 "nbformat": 4,
 "nbformat_minor": 4
}