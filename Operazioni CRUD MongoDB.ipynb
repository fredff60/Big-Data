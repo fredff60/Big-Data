{
 "cells": [
  {
   "cell_type": "markdown",
   "metadata": {},
   "source": [
    "# Operazioni CRUD in MongoDB\n",
    "\n",
    "Di seguito creeremo gli script di shell ``mongo`` per eseguire le operazioni CRUD su MongoDB e poi analizzeremo il corrispondente codice ``pymongo``.\n",
    "\n",
    "L'installazione di ``mongo`` avviene direttamente dal [sito di MongoDB](https://www.mongodb.com/download-center/community).\n",
    "\n",
    "L'installazione di ``pymongo`` si può effettuare tramite conda:\n",
    "\n",
    "```bash\n",
    "$ conda install -c conda-forge pymongo\n",
    "```\n",
    "\n",
    "Facciamo partire il server in locale e poi ci connettiamo con:\n",
    "\n",
    "```bash\n",
    "$ mongod --config /percorso/per/il/file/mongod.conf --fork\n",
    "$ mongo\n",
    "```\n",
    "\n",
    "## Creazione di un database e inserimento documenti\n",
    "\n",
    "\n",
    "```javascript\n",
    "use mydb\n",
    "\n",
    "db.inventory.insertOne(\n",
    "   { item: \"canvas\", qty: 100, tags: [\"cotton\"], size: { h: 28, w: 35.5, uom: \"cm\" } }\n",
    ")\n",
    "\n",
    "// db.<collezione>.insertOne() inserisce un documento nella collezione indicata e se questa non esiste la crea\n",
    "\n",
    "/*\n",
    " * Inseriamo più documenti\n",
    " */\n",
    "db.inventory.insertMany([\n",
    "   { item: \"journal\", qty: 25, tags: [\"blank\", \"red\"], size: { h: 14, w: 21, uom: \"cm\" } },\n",
    "   { item: \"mat\", qty: 85, tags: [\"gray\"], size: { h: 27.9, w: 35.5, uom: \"cm\" } },\n",
    "   { item: \"mousepad\", qty: 25, tags: [\"gel\", \"blue\"], size: { h: 19, w: 22.85, uom: \"cm\" } }\n",
    "])\n",
    "```\n"
   ]
  },
  {
   "cell_type": "markdown",
   "metadata": {},
   "source": [
    "## Tipi di Query\n",
    "\n",
    "```javascript\n",
    "// query SELECT * FROM inventory WHERE item=\"canvas\"\n",
    "db.inventory.find( { item: \"canvas\" } )\n",
    "\n",
    "// qquery SELECT * FROM inventory\n",
    "db.inventory.find( { } )\n",
    "\n",
    "// drop della collezione e ripopolamento\n",
    "db.inventory.drop()\n",
    "\n",
    "db.inventory.insertMany( [\n",
    "   { item: \"journal\", qty: 25, size: { h: 14, w: 21, uom: \"cm\" }, status: \"A\" },\n",
    "   { item: \"notebook\", qty: 50, size: { h: 8.5, w: 11, uom: \"in\" }, status: \"A\" },\n",
    "   { item: \"paper\", qty: 100, size: { h: 8.5, w: 11, uom: \"in\" }, status: \"D\" },\n",
    "   { item: \"planner\", qty: 75, size: { h: 22.85, w: 30, uom: \"cm\" }, status: \"D\" },\n",
    "   { item: \"postcard\", qty: 45, size: { h: 10, w: 15.25, uom: \"cm\" }, status: \"A\" }\n",
    "])\n",
    "\n",
    "// selezione su un documento annidato\n",
    "db.inventory.find( { size: { h: 14, w: 21, uom: \"cm\" } } )\n",
    "\n",
    "// la seguente query è vuota\n",
    "db.inventory.find(  { size: { w: 21, h: 14, uom: \"cm\" } }  )\n",
    "\n",
    "// selezione e ordinamento con indice\n",
    "db.inventory.find().sort({\"qty\": 1, \"size.w\": -1})\n",
    "\n",
    "// query AND con uso di operatori\n",
    "// l'operatore si applica in forma di documento { <campo>: {$<operatore>: valore}}\n",
    "// un campo in un documento annidato si riferisce come <campo>.<campo annidato>\n",
    "\n",
    "db.inventory.find( { \"size.h\": { $lt: 15 }, \"size.uom\": \"in\", status: \"D\" } )\n",
    "\n",
    "// query OR - restituisce tutti i documenti\n",
    "db.inventory.find( { $or: [ { qty: { $lt: 60 } }, { status: \"D\" } ] } )\n",
    "\n",
    "// ALTER TABLE non esiste, si sostituiscono i singoli documenti\n",
    "// poco efficiente\n",
    "\n",
    "// replaceOne() rimpiazza il primo documento che fa il match con la query con il documento \n",
    "// che è passato come secondo argomento\n",
    "db.inventory.replaceOne({ item: \"journal\"},{ item: \"journal\", status: \"A\", size: { h: 14, w: 21, uom: \"cm\" }, instock: [ { warehouse: \"A\", qty: 5 }, { warehouse: \"C\", qty: 15 } ] })\n",
    "db.inventory.replaceOne({ item: \"notebook\"},{ item: \"notebook\", status: \"A\",  size: { h: 8.5, w: 11, uom: \"in\" }, instock: [ { warehouse: \"C\", qty: 5 } ] })\n",
    "db.inventory.replaceOne({ item: \"paper\"},{ item: \"paper\", status: \"D\", size: { h: 8.5, w: 11, uom: \"in\" }, instock: [ { warehouse: \"A\", qty: 60 }, { warehouse: \"B\", qty: 15 } ] })\n",
    "db.inventory.replaceOne({ item: \"planner\"},{ item: \"planner\", status: \"D\", size: { h: 22.85, w: 30, uom: \"cm\" }, instock: [ { warehouse: \"A\", qty: 40 }, { warehouse: \"B\", qty: 5 } ] })\n",
    "db.inventory.replaceOne({ item: \"postcard\"},{ item: \"postcard\", status: \"A\", size: { h: 10, w: 15.25, uom: \"cm\" }, instock: [ { warehouse: \"B\", qty: 15 }, { warehouse: \"C\", qty: 35 } ] })\n",
    "\n",
    "// query su array di documenti\n",
    "\n",
    "// richiede che un il campo qty di *un qualunque* elemento dell'array di documenti 'instock' sia <= 20\n",
    "db.inventory.find( { 'instock.qty': { $lte: 20 } } )\n",
    "\n",
    "// richiede che un il campo qty del *primo* elemento dell'array di documenti 'instock' sia <= 20\n",
    "db.inventory.find( { 'instock.0.qty': { $lte: 20 } } )\n",
    "\n",
    "// elemMatch impone condizioni di selezione multiple sui campi di ogni documento in un array\n",
    "\n",
    "/* il secondo argomento individua i campi da selezionare\n",
    " * 0 --> il campo non viene selezionato esplicitamente\n",
    " * 1 --> campo da selezionare (automaticamente gli altri non vengono selezionati)\n",
    " */ \n",
    "db.inventory.find( { \"instock\": { $elemMatch: { qty: 5, warehouse: \"A\" } } },{_id: 0, item:1} )\n",
    "\n",
    "// query vuota perche' non rispetta l'ordine dei campi\n",
    "db.inventory.find( { \"instock\": { qty: 5, warehouse: \"A\" } },{_id: 0, item:1} )\n",
    "\n",
    "// query che cerca quei documenti in cui i campi *in ordine* rispettano le condizioni\n",
    "db.inventory.find( { \"instock\": { warehouse: \"A\", qty: 5 } },{_id: 0, item:1} )\n",
    "\n",
    "// visualizza solo l'ultimo elemento dell'array instock appartenente a qualunque documento che soddisfa la query\n",
    "db.inventory.find( { status: \"A\" }, { item: 1, status: 1, instock: { $slice: -1 }, _id: 0 } )\n",
    "```\n",
    "\n"
   ]
  },
  {
   "cell_type": "markdown",
   "metadata": {},
   "source": [
    "## Update e Delete\n",
    "\n",
    "```\n",
    "\n",
    "/*\n",
    " * Aggiornamento sotto condizione \n",
    " * tutti i record in cui \"qty\" è basso vengono cambiati di stato\n",
    " * l'operatore currentDate imposta la data di modifica\n",
    " * attraverso il flag lastModified che la pone alla data corrente\n",
    " *\n",
    " * db.inventory.updateOne() aggiorna solo il \"primo\" documento che soddisfa la condizione\n",
    " */\n",
    " \n",
    "db.inventory.updateMany(\n",
    "   { \"instock.qty\": { $lt: 20 } },\n",
    "   {\n",
    "     $set: { status: \"P\" },\n",
    "     $currentDate: { lastModified: true }\n",
    "   }\n",
    ")\n",
    "\n",
    "/*\n",
    " * Cancellazione con specifica del write concern di tipo \"majority\"\n",
    " */\n",
    "\n",
    "db.inventory.deleteOne( { status: \"A\" }, {writeConcern: {w: \"majority\", j: 1, wtimeout: 1000}})\n",
    "```\n"
   ]
  },
  {
   "cell_type": "code",
   "execution_count": null,
   "metadata": {},
   "outputs": [],
   "source": []
  },
  {
   "cell_type": "markdown",
   "metadata": {},
   "source": [
    "## Operazioni CRUD con pymongo"
   ]
  },
  {
   "cell_type": "code",
   "execution_count": 8,
   "metadata": {},
   "outputs": [
    {
     "output_type": "execute_result",
     "data": {
      "text/plain": [
       "<pymongo.results.InsertManyResult at 0x7f996101f040>"
      ]
     },
     "metadata": {},
     "execution_count": 8
    }
   ],
   "source": [
    "import pymongo\n",
    "\n",
    "myclient = pymongo.MongoClient(\"mongodb://localhost:27017/\") # 27017 è la porta di default\n",
    "\n",
    "db = myclient[\"mydb\"] # anche 'db = myclient.mydb'\n",
    "\n",
    "db.inventory.insert_one(\n",
    "    {\"item\": \"canvas\",\n",
    "     \"qty\": 100,\n",
    "     \"tags\": [\"cotton\"],\n",
    "     \"size\": {\"h\": 28, \"w\": 35.5, \"uom\": \"cm\"}})\n",
    "\n",
    "db.inventory.insert_many([\n",
    "    {\"item\": \"journal\",\n",
    "     \"qty\": 25,\n",
    "     \"tags\": [\"blank\", \"red\"],\n",
    "     \"size\": {\"h\": 14, \"w\": 21, \"uom\": \"cm\"}},\n",
    "    {\"item\": \"mat\",\n",
    "     \"qty\": 85,\n",
    "     \"tags\": [\"gray\"],\n",
    "     \"size\": {\"h\": 27.9, \"w\": 35.5, \"uom\": \"cm\"}},\n",
    "    {\"item\": \"mousepad\",\n",
    "     \"qty\": 25,\n",
    "     \"tags\": [\"gel\", \"blue\"],\n",
    "     \"size\": {\"h\": 19, \"w\": 22.85, \"uom\": \"cm\"}}])\n"
   ]
  },
  {
   "cell_type": "code",
   "execution_count": 9,
   "metadata": {},
   "outputs": [
    {
     "output_type": "stream",
     "name": "stdout",
     "text": [
      "{'_id': ObjectId('5fba2f3052a1589ece0c7594'), 'item': 'canvas', 'qty': 100, 'tags': ['cotton'], 'size': {'h': 28, 'w': 35.5, 'uom': 'cm'}}\n\n\n\n\n{'_id': ObjectId('5fba2f3052a1589ece0c7594'), 'item': 'canvas', 'qty': 100, 'tags': ['cotton'], 'size': {'h': 28, 'w': 35.5, 'uom': 'cm'}}\n{'_id': ObjectId('5fba2f3052a1589ece0c7595'), 'item': 'journal', 'qty': 25, 'tags': ['blank', 'red'], 'size': {'h': 14, 'w': 21, 'uom': 'cm'}}\n{'_id': ObjectId('5fba2f3052a1589ece0c7596'), 'item': 'mat', 'qty': 85, 'tags': ['gray'], 'size': {'h': 27.9, 'w': 35.5, 'uom': 'cm'}}\n{'_id': ObjectId('5fba2f3052a1589ece0c7597'), 'item': 'mousepad', 'qty': 25, 'tags': ['gel', 'blue'], 'size': {'h': 19, 'w': 22.85, 'uom': 'cm'}}\n\n\n\n\n{'_id': ObjectId('5fba2f3052a1589ece0c7597'), 'item': 'mousepad', 'qty': 25, 'tags': ['gel', 'blue'], 'size': {'h': 19, 'w': 22.85, 'uom': 'cm'}}\n{'_id': ObjectId('5fba2f3052a1589ece0c7595'), 'item': 'journal', 'qty': 25, 'tags': ['blank', 'red'], 'size': {'h': 14, 'w': 21, 'uom': 'cm'}}\n{'_id': ObjectId('5fba2f3052a1589ece0c7596'), 'item': 'mat', 'qty': 85, 'tags': ['gray'], 'size': {'h': 27.9, 'w': 35.5, 'uom': 'cm'}}\n{'_id': ObjectId('5fba2f3052a1589ece0c7594'), 'item': 'canvas', 'qty': 100, 'tags': ['cotton'], 'size': {'h': 28, 'w': 35.5, 'uom': 'cm'}}\n"
     ]
    }
   ],
   "source": [
    "# query SELECT * FROM inventory WHERE item=\"canvas\"\n",
    "cursor = db.inventory.find({\"item\": \"canvas\"})\n",
    "\n",
    "for doc in cursor:\n",
    "    print(doc)\n",
    "\n",
    "print('\\n\\n\\n')\n",
    "\n",
    "# query SELECT * FROM inventory\n",
    "cursor = db.inventory.find({})\n",
    "\n",
    "for doc in cursor:\n",
    "    print(doc)\n",
    "\n",
    "print('\\n\\n\\n')\n",
    "\n",
    "# query con ordinamento su indice\n",
    "for doc in db.inventory.find().sort([('qty',pymongo.ASCENDING),('size.w',pymongo.DESCENDING)]):\n",
    "    print(doc)"
   ]
  },
  {
   "cell_type": "code",
   "execution_count": 10,
   "metadata": {},
   "outputs": [],
   "source": [
    "# drop della collezione e ripopolamento\n",
    "db.inventory.drop()"
   ]
  },
  {
   "cell_type": "code",
   "execution_count": 11,
   "metadata": {},
   "outputs": [
    {
     "output_type": "execute_result",
     "data": {
      "text/plain": [
       "<pymongo.results.InsertManyResult at 0x7f9961068f00>"
      ]
     },
     "metadata": {},
     "execution_count": 11
    }
   ],
   "source": [
    "# usiamo l'oggetto serializzato bson.son.SON al posto dei dict\n",
    "# perché dobbiamo rispettare la sequenza delle chiavi\n",
    "\n",
    "from bson.son import SON\n",
    "db.inventory.insert_many([\n",
    "    {\"item\": \"journal\",\n",
    "     \"qty\": 25,\n",
    "     \"size\": SON([(\"h\", 14), (\"w\", 21), (\"uom\", \"cm\")]),\n",
    "     \"status\": \"A\"},\n",
    "    {\"item\": \"notebook\",\n",
    "     \"qty\": 50,\n",
    "     \"size\": SON([(\"h\", 8.5), (\"w\", 11), (\"uom\", \"in\")]),\n",
    "     \"status\": \"A\"},\n",
    "    {\"item\": \"paper\",\n",
    "     \"qty\": 100,\n",
    "     \"size\": SON([(\"h\", 8.5), (\"w\", 11), (\"uom\", \"in\")]),\n",
    "     \"status\": \"D\"},\n",
    "    {\"item\": \"planner\",\n",
    "     \"qty\": 75,\n",
    "     \"size\": SON([(\"h\", 22.85), (\"w\", 30), (\"uom\", \"cm\")]),\n",
    "     \"status\": \"D\"},\n",
    "    {\"item\": \"postcard\",\n",
    "     \"qty\": 45,\n",
    "     \"size\": SON([(\"h\", 10), (\"w\", 15.25), (\"uom\", \"cm\")]),\n",
    "     \"status\": \"A\"}])\n",
    "\n",
    "\n"
   ]
  },
  {
   "cell_type": "code",
   "execution_count": 12,
   "metadata": {},
   "outputs": [
    {
     "output_type": "stream",
     "name": "stdout",
     "text": [
      "{'_id': ObjectId('5fba2f5352a1589ece0c7598'), 'item': 'journal', 'qty': 25, 'size': {'h': 14, 'w': 21, 'uom': 'cm'}, 'status': 'A'}\n\n\n\n\n{'_id': ObjectId('5fba2f5352a1589ece0c759a'), 'item': 'paper', 'qty': 100, 'size': {'h': 8.5, 'w': 11, 'uom': 'in'}, 'status': 'D'}\n\n\n\n\n{'_id': ObjectId('5fba2f5352a1589ece0c7598'), 'item': 'journal', 'qty': 25, 'size': {'h': 14, 'w': 21, 'uom': 'cm'}, 'status': 'A'}\n{'_id': ObjectId('5fba2f5352a1589ece0c7599'), 'item': 'notebook', 'qty': 50, 'size': {'h': 8.5, 'w': 11, 'uom': 'in'}, 'status': 'A'}\n{'_id': ObjectId('5fba2f5352a1589ece0c759c'), 'item': 'postcard', 'qty': 45, 'size': {'h': 10, 'w': 15.25, 'uom': 'cm'}, 'status': 'A'}\n"
     ]
    }
   ],
   "source": [
    "# query su un documento annidato\n",
    "cursor = db.inventory.find(\n",
    "    {\"size\": SON([(\"h\", 14), (\"w\", 21), (\"uom\", \"cm\")])})\n",
    "\n",
    "for doc in cursor:\n",
    "    print(doc)\n",
    "\n",
    "print('\\n\\n\\n')\n",
    "\n",
    "# query AND su documento annidato e uso di operatori\n",
    "cursor = db.inventory.find(\n",
    "    {\"size.h\": {\"$lt\": 15}, \"size.uom\": \"in\", \"status\": \"D\"})\n",
    "\n",
    "for doc in cursor:\n",
    "    print(doc)\n",
    "    \n",
    "print('\\n\\n\\n')\n",
    "\n",
    "# query OR\n",
    "cursor = db.inventory.find(\n",
    "    { \"$or\": [ { \"qty\": { \"$lt\": 40 } }, { \"status\": \"A\" } ] })\n",
    "\n",
    "for doc in cursor:\n",
    "    print(doc)\n"
   ]
  },
  {
   "cell_type": "code",
   "execution_count": 13,
   "metadata": {},
   "outputs": [
    {
     "output_type": "execute_result",
     "data": {
      "text/plain": [
       "<pymongo.results.UpdateResult at 0x7f9961035400>"
      ]
     },
     "metadata": {},
     "execution_count": 13
    }
   ],
   "source": [
    "# Alter table\n",
    "db.inventory.replace_one({\"item\": \"journal\"},\n",
    "                         {\"item\": \"journal\",\n",
    "                          \"status\": \"A\",\n",
    "                          \"size\": {\"h\": 14, \"w\": 21, \"uom\": \"cm\"},\n",
    "                          \"instock\": [\n",
    "                              SON([(\"warehouse\", \"A\"), (\"qty\", 5)]),\n",
    "                              SON([(\"warehouse\", \"C\"), (\"qty\", 15)])]})\n",
    "db.inventory.replace_one({\"item\": \"notebook\"},\n",
    "                         {\"item\": \"notebook\",\n",
    "                          \"status\": \"A\",\n",
    "                          \"size\": {\"h\": 8.5, \"w\": 11, \"uom\": \"in\"},\n",
    "                          \"instock\": [SON([(\"warehouse\", \"C\"), (\"qty\", 5)])]})\n",
    "db.inventory.replace_one({\"item\": \"paper\"},\n",
    "                         {\"item\": \"paper\",\n",
    "                          \"status\": \"D\",\n",
    "                          \"size\": {\"h\": 8.5, \"w\": 11, \"uom\": \"in\"},\n",
    "                          \"instock\": [\n",
    "                              SON([(\"warehouse\", \"A\"), (\"qty\", 60)]),\n",
    "                              SON([(\"warehouse\", \"B\"), (\"qty\", 15)])]})\n",
    "db.inventory.replace_one({\"item\": \"planner\"},\n",
    "                         {\"item\": \"planner\",\n",
    "                          \"status\": \"D\",\n",
    "                          \"size\": {\"h\": 22.85, \"w\": 30, \"uom\": \"cm\"},\n",
    "                          \"instock\": [\n",
    "                              SON([(\"warehouse\", \"A\"), (\"qty\", 40)]),\n",
    "                              SON([(\"warehouse\", \"B\"), (\"qty\", 5)])]})\n",
    "db.inventory.replace_one({\"item\": \"postcard\"},\n",
    "                         {\"item\": \"postcard\",\n",
    "                          \"status\": \"A\",\n",
    "                          \"size\": {\"h\": 10, \"w\": 15.25, \"uom\": \"cm\"},\n",
    "                          \"instock\": [SON([(\"warehouse\", \"B\"), (\"qty\", 15)]),\n",
    "                                      SON([(\"warehouse\", \"C\"), (\"qty\", 35)])]})\n",
    "\n"
   ]
  },
  {
   "cell_type": "code",
   "execution_count": 14,
   "metadata": {},
   "outputs": [
    {
     "output_type": "stream",
     "name": "stdout",
     "text": [
      "{'item': 'journal'}\n\n\n\n\n\n\n\n\n{'item': 'journal'}\n\n\n\n\n{'item': 'journal', 'status': 'A', 'instock': [{'warehouse': 'C', 'qty': 15}]}\n{'item': 'notebook', 'status': 'A', 'instock': [{'warehouse': 'C', 'qty': 5}]}\n{'item': 'postcard', 'status': 'A', 'instock': [{'warehouse': 'C', 'qty': 35}]}\n"
     ]
    }
   ],
   "source": [
    "# Query su database con array di documenti annidati\n",
    "cursor = db.inventory.find(\n",
    "    {\"instock\": SON([(\"warehouse\", \"A\"), (\"qty\", 5)])},{\"_id\": 0, \"item\": 1})\n",
    "\n",
    "for doc in cursor:\n",
    "    print(doc)\n",
    "    \n",
    "print('\\n\\n\\n')\n",
    "\n",
    "cursor = db.inventory.find(\n",
    "    {\"instock\": SON([(\"qty\", 5), (\"warehouse\", \"A\")])},{\"_id\": 0, \"item\": 1})\n",
    "\n",
    "for doc in cursor:\n",
    "    print(doc)\n",
    "    \n",
    "print('\\n\\n\\n')\n",
    "\n",
    "cursor = db.inventory.find(\n",
    "    {\"instock\": {\"$elemMatch\": {\"qty\": 5, \"warehouse\": \"A\"}}},{\"_id\": 0, \"item\": 1})\n",
    "\n",
    "for doc in cursor:\n",
    "    print(doc)\n",
    "    \n",
    "print('\\n\\n\\n')\n",
    "\n",
    "cursor = db.inventory.find(\n",
    "    {\"status\": \"A\"},\n",
    "    {\"item\": 1, \"status\": 1, \"instock\": {\"$slice\": -1}, \"_id\": 0})\n",
    "\n",
    "for doc in cursor:\n",
    "    print(doc)\n",
    "    \n"
   ]
  },
  {
   "cell_type": "code",
   "execution_count": 15,
   "metadata": {},
   "outputs": [
    {
     "output_type": "stream",
     "name": "stdout",
     "text": [
      "{'item': 'journal', 'status': 'P', 'size': {'h': 14, 'w': 21, 'uom': 'cm'}, 'instock': [{'warehouse': 'A', 'qty': 5}, {'warehouse': 'C', 'qty': 15}], 'lastModified': datetime.datetime(2020, 11, 22, 9, 30, 51, 924000)}\n{'item': 'notebook', 'status': 'P', 'size': {'h': 8.5, 'w': 11, 'uom': 'in'}, 'instock': [{'warehouse': 'C', 'qty': 5}], 'lastModified': datetime.datetime(2020, 11, 22, 9, 30, 51, 924000)}\n{'item': 'paper', 'status': 'P', 'size': {'h': 8.5, 'w': 11, 'uom': 'in'}, 'instock': [{'warehouse': 'A', 'qty': 60}, {'warehouse': 'B', 'qty': 15}], 'lastModified': datetime.datetime(2020, 11, 22, 9, 30, 51, 924000)}\n{'item': 'planner', 'status': 'P', 'size': {'h': 22.85, 'w': 30, 'uom': 'cm'}, 'instock': [{'warehouse': 'A', 'qty': 40}, {'warehouse': 'B', 'qty': 5}], 'lastModified': datetime.datetime(2020, 11, 22, 9, 30, 51, 924000)}\n{'item': 'postcard', 'status': 'P', 'size': {'h': 10, 'w': 15.25, 'uom': 'cm'}, 'instock': [{'warehouse': 'B', 'qty': 15}, {'warehouse': 'C', 'qty': 35}], 'lastModified': datetime.datetime(2020, 11, 22, 9, 30, 51, 924000)}\n\n\n\n\n{'item': 'notebook', 'status': 'P', 'size': {'h': 8.5, 'w': 11, 'uom': 'in'}, 'instock': [{'warehouse': 'C', 'qty': 5}], 'lastModified': datetime.datetime(2020, 11, 22, 9, 30, 51, 924000)}\n{'item': 'paper', 'status': 'P', 'size': {'h': 8.5, 'w': 11, 'uom': 'in'}, 'instock': [{'warehouse': 'A', 'qty': 60}, {'warehouse': 'B', 'qty': 15}], 'lastModified': datetime.datetime(2020, 11, 22, 9, 30, 51, 924000)}\n{'item': 'planner', 'status': 'P', 'size': {'h': 22.85, 'w': 30, 'uom': 'cm'}, 'instock': [{'warehouse': 'A', 'qty': 40}, {'warehouse': 'B', 'qty': 5}], 'lastModified': datetime.datetime(2020, 11, 22, 9, 30, 51, 924000)}\n{'item': 'postcard', 'status': 'P', 'size': {'h': 10, 'w': 15.25, 'uom': 'cm'}, 'instock': [{'warehouse': 'B', 'qty': 15}, {'warehouse': 'C', 'qty': 35}], 'lastModified': datetime.datetime(2020, 11, 22, 9, 30, 51, 924000)}\n"
     ]
    }
   ],
   "source": [
    "# Update e delete\n",
    "\n",
    "db.inventory.update_many(\n",
    "    {\"instock.qty\": {\"$lt\": 20}},\n",
    "    {\"$set\": {\"status\": \"P\"},\n",
    "     \"$currentDate\": {\"lastModified\": True}})\n",
    "\n",
    "cursor = db.inventory.find({\"status\": \"P\"},{\"_id\": 0})\n",
    "for doc in cursor:\n",
    "    print(doc)\n",
    "\n",
    "print('\\n\\n\\n')\n",
    "\n",
    "db.inventory.delete_one(\n",
    "    { \"status\": \"P\" }\n",
    "    )\n",
    "\n",
    "cursor = db.inventory.find({\"status\": \"P\"},{\"_id\": 0})\n",
    "for doc in cursor:\n",
    "    print(doc)\n",
    "\n"
   ]
  },
  {
   "cell_type": "code",
   "execution_count": null,
   "metadata": {},
   "outputs": [],
   "source": []
  }
 ],
 "metadata": {
  "kernelspec": {
   "name": "python3",
   "display_name": "Python 3.8.3 64-bit ('bigdata': conda)",
   "metadata": {
    "interpreter": {
     "hash": "ddc5808000e670ee531b6d0df5cab3b50e0bc41afef88fb058cf86665e26377c"
    }
   }
  },
  "language_info": {
   "codemirror_mode": {
    "name": "ipython",
    "version": 3
   },
   "file_extension": ".py",
   "mimetype": "text/x-python",
   "name": "python",
   "nbconvert_exporter": "python",
   "pygments_lexer": "ipython3",
   "version": "3.8.3-final"
  }
 },
 "nbformat": 4,
 "nbformat_minor": 4
}