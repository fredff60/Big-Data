{
 "cells": [
  {
   "cell_type": "markdown",
   "metadata": {},
   "source": [
    "# Operazioni CRUD con Cassandra\n",
    "\n",
    "Cassandra si installa dalla distribuzione [Datastax](https://downloads.datastax.com/#ddac) che consente di scaricare un archivio da posizionare dove si vuole nel percorso delle cartelle. In alternativa si può scaricare Cassandra direttamente da [Apache.org](https://cassandra.apache.org/download/). Su MacOS utilizzeremo direttamente  `brew`. Una volta aggiunto il percorso ```/path/to/cassandra/bin``` alla propria variabile di ambiente ```PATH``` si può accedere all'istanza del server digitando semplicemente ```cassandra```. Dopo l'avvio del server si potrà accedere alla shell interattiva digitando ```cqlsh```."
   ]
  },
  {
   "cell_type": "markdown",
   "metadata": {},
   "source": [
    "## Comandi di shell\n",
    "\n",
    "Una volta connessi al server attraverso ```cqlsh``` si possono usare diversi comandi di shell:\n",
    "\n",
    "```\n",
    "DESCRIBE               -- descrive lo stato generale del sistema piuttosto che singoli keyspace, tabelle o colonne\n",
    "SHOW                   -- mostra informazioni su Cassandra e sul host cui si è connessi\n",
    "CLEAR                  -- pulisce la shell\n",
    "CONSISTENCY            -- riporta o imposta il livello di consistenza\n",
    "SOURCE 'file'          -- esegue un file di comandi CQL\n",
    "COPY table TO 'file'   -- copia una tabella su un file csv\n",
    "COPY table FROM 'file' -- importa una tabella esistente da un file csv\n",
    "EXIT                   -- uscita\n",
    "LOGIN username [pass]  -- login come utente registrato\n",
    "```\n",
    "\n",
    "## Comandi CQL\n",
    "\n",
    "Il corrispondente di un database è un keyspace che va creato ed utilizzato prima di creare le column family.\n",
    "\n",
    "```\n",
    "CREATE  KEYSPACE [IF NOT EXISTS] keyspace_name \n",
    "   WITH REPLICATION = { \n",
    "      'class' : 'SimpleStrategy', 'replication_factor' : N \n",
    "     | 'class' : 'NetworkTopologyStrategy', \n",
    "       'dc1_name' : N [, ...] \n",
    "   }\n",
    "   [AND DURABLE_WRITES =  true|false] ;\n",
    "   \n",
    "   \n",
    "USE keyspace_name;\n",
    "```\n",
    "\n",
    "La creazione di una column family richiede la specifica del [tipo CQL](https://docs.datastax.com/en/cql/3.3/cql/cql_reference/cql_data_types_c.html) delle varie colonne.\n",
    "\n",
    "```\n",
    "CREATE TABLE [IF NOT EXISTS] [keyspace_name.]table_name ( \n",
    "   column_definition [, ...]\n",
    "   PRIMARY KEY (column_name [, column_name ...])\n",
    "[WITH table_options\n",
    "   | CLUSTERING ORDER BY (clustering_column_name order])\n",
    "   | ID = 'table_hash_tag'\n",
    "   | COMPACT STORAGE]\n",
    "```\n",
    "\n",
    "Creiamo il keyspace del Titanic con la tabella passeggeri.\n",
    "\n",
    "```sql\n",
    "CREATE KEYSPACE titanic WITH replication = {'class': 'SimpleStrategy', 'replication_factor': 3};\n",
    "\n",
    "USE titanic;\n",
    "\n",
    "CREATE TABLE passengers (PassengerId int PRIMARY KEY, Survived int, Pclass int , \n",
    "   Name text , Sex text , Age float , SibSp int, Parch int, Ticket text, \n",
    "   Fare float, Cabin text, Embarked text);\n",
    "\n",
    "COPY passengers (passengerid , survived , pclass , name , sex , age , sibsp , parch , ticket , fare , cabin , embarked ) \n",
    "FROM './Data/titanic.csv'  \n",
    "WITH SKIPROWS = 1;\n",
    "\n",
    "```\n",
    "\n",
    "Le query sulle tabelle si effettuano con il costrutto ```SELECT``` e si possono creare indici su colonna per le clausole ```WHERE```.\n",
    "\n",
    "```\n",
    "CREATE INDEX IF NOT EXISTS index_name\n",
    "ON keyspace_name.table_name ( KEYS ( column_name ) )\n",
    "\n",
    "SELECT * | select_expression | DISTINCT partition \n",
    "FROM [keyspace_name.] table_name \n",
    "[WHERE partition_value\n",
    "   [AND clustering_filters \n",
    "   [AND static_filters]]] \n",
    "[ORDER BY PK_column_name ASC|DESC] \n",
    "[LIMIT N]\n",
    "[ALLOW FILTERING]\n",
    "```\n",
    "Selezioniamo tutte le righe.\n",
    "Contiamo i passeggeri di terza classe.\n",
    "Selezioniamo nome e cabina dei passeggeri di prima e seconda classe.\n",
    "\n",
    "```sql\n",
    "CREATE INDEX IF NOT EXISTS class ON passengers (pclass);\n",
    "\n",
    "SELECT COUNT(*) FROM passengers WHERE pclass = 3;\n",
    "\n",
    "SELECT name, cabin FROM passengers WHERE pclass < 3 ALLOW FILTERING ;\n",
    "```\n",
    "\n",
    "L'alterazione si esegue con ```ALTER```.\n",
    "\n",
    "```\n",
    "ALTER TABLE [keyspace_name.] table_name \n",
    "[ALTER column_name TYPE cql_type]\n",
    "[ADD (column_definition_list)]\n",
    "[DROP column_list | COMPACT STORAGE ]\n",
    "[RENAME column_name TO column_name]\n",
    "[WITH table_properties];\n",
    "\n",
    "ALTER  KEYSPACE keyspace_name \n",
    "   WITH REPLICATION = { \n",
    "      'class' : 'SimpleStrategy', 'replication_factor' : N  \n",
    "     | 'class' : 'NetworkTopologyStrategy', 'dc1_name' : N [, ...] \n",
    "   }\n",
    "   [AND DURABLE_WRITES =  true|false] ;\n",
    "```\n",
    "Eliminiamo una colonna:\n",
    "\n",
    "```sql\n",
    "ALTER TABLE passengers DROP sibsp;\n",
    "```\n",
    "\n",
    "L'inserimento dati si esegue con ```INSERT```.\n",
    "\n",
    "```\n",
    "INSERT INTO [keyspace_name.] table_name (column_list) \n",
    "VALUES (column_values) \n",
    "[IF NOT EXISTS] \n",
    "[USING TTL seconds | TIMESTAMP epoch_in_microseconds]\n",
    "```\n",
    "La cancellazione si esegue con ```DELETE```.\n",
    "\n",
    "```\n",
    "DELETE [column_name (term)][, ...]\n",
    "FROM [keyspace_name.] table_name \n",
    "[USING TIMESTAMP timestamp_value]\n",
    "WHERE PK_column_conditions \n",
    "[IF EXISTS | IF static_column_conditions]\n",
    "```\n",
    "\n",
    "Inseriamo un nuovo passeggero e poi rimuoviamolo.\n",
    "\n",
    "```sql\n",
    "INSERT INTO passengers (passengerid , age , cabin , embarked , fare , name , parch , pclass , sex , survived , ticket ) \n",
    "VALUES ( 892, 45.0, 'Z76', 'S', 456.789, 'John Smith', 2, 1, 'male', 1, 'TicketOne');\n",
    "\n",
    "DELETE name, sex FROM passengers WHERE passengerid = 891;\n",
    "\n",
    "SELECT * FROM passengers WHERE passengerid = 891; # i valori cancellati sono nulli\n",
    "\n",
    "DELETE FROM passengers WHERE passengerid = 891;\n",
    "```\n",
    "L'aggiornamento si effettua con ```UPDATE```.\n",
    "\n",
    "```\n",
    "UPDATE [keyspace_name.] table_name\n",
    "[USING TTL time_value | USING TIMESTAMP timestamp_value]\n",
    "SET assignment [, assignment] . . . \n",
    "WHERE row_specification\n",
    "[IF EXISTS | IF condition [AND condition] . . .] ;\n",
    "```\n",
    "Modifichiamo il tipo di biglietto del passeggero n. 892.\n",
    "\n",
    "```sql\n",
    "UPDATE passengers SET ticket = 'VivaTicket' WHERE passengerid = 892;\n",
    "```\n",
    "\n",
    "\n",
    "La rimozione si esegue con il comando ```DROP```.\n",
    "\n",
    "```\n",
    "DROP TABLE [IF EXISTS] keyspace_name.table_name\n",
    "\n",
    "DROP KEYSPACE [IF EXISTS] keyspace_name\n",
    "\n",
    "DROP INDEX [IF EXISTS] [keyspace.]index_name\n",
    "\n",
    "```\n",
    "Rimuoviamo la tabella dei passeggeri\n",
    "\n",
    "```sql\n",
    "DROP TABLE passengers;\n",
    "```\n",
    "\n"
   ]
  },
  {
   "cell_type": "markdown",
   "metadata": {},
   "source": [
    "## Aggregazione\n",
    "\n",
    "E' possibile creare funzioni e aggregazioni definite dall'utente usando codice Java o Javascript, ma ci sono già disponibili ```MAX, MIN, COUNT, AVG```. Per gestire al meglio le query complesse con aggregazioni e raggruppamenti bisogna creare le giuste chiavi primarie che creano la cosiddetta _partition key_. \n",
    "\n",
    "Al fine di rendere efficienti le query di ricerca e aggregazione, è bene creare una tabella con chiave primaria composita con una struttura che ricalchi il seguente esempio.\n",
    "\n",
    "```sql\n",
    "CREATE TABLE example (\n",
    "    partitionKey1 text,\n",
    "    partitionKey2 text,\n",
    "    clusterKey1 text,\n",
    "    clusterKey2 text,\n",
    "    normalField1 text,\n",
    "    normalField2 text,\n",
    "    PRIMARY KEY (\n",
    "        (partitionKey1, partitionKey2),\n",
    "        clusterKey1, clusterKey2\n",
    "        )\n",
    "    );\n",
    "```\n",
    "\n",
    "Questa chiave è composita e contiene, nella prima parte, tutti e soli i campi che serviranno nelle clausole ```WHERE``` e ```GROUP BY``` della query (unici consentiti per altro).  \n",
    "I campi che fanno parte di quella porzione della chiave primaria che è utilizzata per il clustering delle righe, sono quelli che effettivamente distinguono le singole righe e quindi consentono di raggruppare più righe distinte per lo stesso valore dei campi della partition key. Tali righe costituiscono la base per eseguire efficientemente le aggregazioni.\n",
    "\n",
    "Ricreiamo la struttura della tabella dei passeggeri e calcoliamo il numero e l'età media dei passeggeri sopravvissuti per classe e per genere.\n",
    "\n",
    "```sql\n",
    "CREATE TABLE passengers (\n",
    "    survived int,\n",
    "    class int,\n",
    "    sex text,\n",
    "    id int,\n",
    "    age float,\n",
    "    cabin text,\n",
    "    embarked text,\n",
    "    fare float,\n",
    "    name text,\n",
    "    parch int,\n",
    "    sibsp int,\n",
    "    ticket text,\n",
    "    PRIMARY KEY ((survived, class, sex), id)\n",
    ") WITH CLUSTERING ORDER BY (id ASC);\n",
    "\n",
    "COPY passengers (id , survived , class , name , sex , age , sibsp , parch , ticket , fare , cabin , embarked ) FROM './src/github repositories/Big-Data/Data/titanic.csv' WITH SKIPROWS = 1;\n",
    "\n",
    "SELECT DISTINCT survived, class, sex FROM passengers ;\n",
    "\n",
    "SELECT COUNT(*) AS num_of_pass, AVG(age) as average_age, sex, class FROM passengers WHERE survived=1 AND class < 4 GROUP BY class, sex ALLOW FILTERING;\n",
    "```"
   ]
  },
  {
   "cell_type": "markdown",
   "metadata": {},
   "source": [
    "## Utilizzo del driver Python per Cassandra\n",
    "\n",
    "Il driver può essere installato usando ```conda```.\n",
    "\n",
    "```sh\n",
    "$ conda install -c conda-forge cassandra-driver\n",
    "```"
   ]
  },
  {
   "cell_type": "code",
   "execution_count": 1,
   "metadata": {},
   "outputs": [],
   "source": [
    "\"\"\"\n",
    "import cassandra.cluster as ccl\n",
    "import cassandra.policies as pol\n",
    "\n",
    "# connessione ad un cluster composto da tre nodi,\n",
    "# in ascolto sulla porta 9042, con una determinata\n",
    "# politica di bilanciamento del carico di tipo round-robin\n",
    "\n",
    "cluster = ccl.Cluster(\n",
    "    ['10.1.1.3', '10.1.1.4', '10.1.1.5'],\n",
    "    load_balancing_policy=pol.DCAwareRoundRobinPolicy(local_dc='US_EAST'),\n",
    "    port=9042)\n",
    "\"\"\" \n",
    "import cassandra.cluster as ccl\n",
    "\n",
    "# connessione al cluster di default\n",
    "cluster = ccl.Cluster()\n",
    "session = cluster.connect()\n"
   ]
  },
  {
   "cell_type": "code",
   "execution_count": 2,
   "metadata": {},
   "outputs": [],
   "source": [
    "# creiamo ed usiamo il keyspace\n",
    "session.execute(\"CREATE KEYSPACE titanic WITH replication = {'class': 'SimpleStrategy', 'replication_factor': 3}\")\n",
    "session.set_keyspace('titanic')\n",
    "\n",
    "# session.execute('USE titanic')"
   ]
  },
  {
   "cell_type": "code",
   "execution_count": 3,
   "metadata": {},
   "outputs": [
    {
     "output_type": "execute_result",
     "data": {
      "text/plain": [
       "<cassandra.cluster.ResultSet at 0x7fa37015adf0>"
      ]
     },
     "metadata": {},
     "execution_count": 3
    }
   ],
   "source": [
    "# Creiamo la tabella \n",
    "query = \"CREATE TABLE titanic.passengers (\\\n",
    "    survived int,\\\n",
    "    class int,\\\n",
    "    sex text,\\\n",
    "    id int,\\\n",
    "    age float,\\\n",
    "    cabin text,\\\n",
    "    embarked text,\\\n",
    "    fare float,\\\n",
    "    name text,\\\n",
    "    parch int,\\\n",
    "    sibsp int,\\\n",
    "    ticket text,\\\n",
    "    PRIMARY KEY ((survived, class, sex), id)\\\n",
    ") WITH CLUSTERING ORDER BY (id ASC)\"\n",
    "\n",
    "session.execute(query)"
   ]
  },
  {
   "cell_type": "code",
   "execution_count": 4,
   "metadata": {},
   "outputs": [
    {
     "output_type": "execute_result",
     "data": {
      "text/plain": [
       "0"
      ]
     },
     "metadata": {},
     "execution_count": 4
    }
   ],
   "source": [
    "# importiamo i dati dal dataset csv\n",
    "# COPY è un comando di cqlsh e non un comando CQL\n",
    "# quindi lo eseguiremo invocando cqlsh e passando\n",
    "# il comando da eseguire\n",
    "import os\n",
    "\n",
    "os.system(\"cqlsh -k titanic -e \\\"COPY passengers (id , survived , class , name , sex , age , sibsp , parch , ticket , fare , cabin , embarked ) FROM 'Data/titanic.csv' WITH SKIPROWS = 1\\\"\")"
   ]
  },
  {
   "cell_type": "code",
   "execution_count": 5,
   "metadata": {},
   "outputs": [
    {
     "output_type": "execute_result",
     "data": {
      "text/plain": [
       "<cassandra.cluster.ResultSet at 0x7fa3503678e0>"
      ]
     },
     "metadata": {},
     "execution_count": 5
    }
   ],
   "source": [
    "# Eseguiamo una query di insert\n",
    "session.execute(\"\"\"\n",
    "INSERT INTO titanic.passengers (\n",
    "    survived,\n",
    "    class,\n",
    "    sex,\n",
    "    id, \n",
    "    age,\n",
    "    cabin,\n",
    "    embarked,\n",
    "    fare,\n",
    "    name,\n",
    "    parch,\n",
    "    sibsp,\n",
    "    ticket) \n",
    "    VALUES (%s, %s, %s, %s, %s, %s, %s, %s, %s, %s, %s, %s)\n",
    "\"\"\",\n",
    "                ( 1, 1, 'male', 892, 45.0, 'Z76', 'S', 456.789, 'John Smith', 2, 1, 'TicketOne'))"
   ]
  },
  {
   "cell_type": "code",
   "execution_count": 6,
   "metadata": {},
   "outputs": [
    {
     "output_type": "stream",
     "name": "stdout",
     "text": [
      "Dahlberg, Miss. Gerda Ulrika\n22.0\nNone\n10.51669979095459\n-------------\nRice, Mrs. William (Margaret Norton)\n39.0\nNone\n29.125\n-------------\nJohnston, Miss. Catherine Helen \"Carrie\"\"\"\nNone\nNone\n23.450000762939453\n-------------\nShelley, Mrs. William (Imanita Parrish Hall)\n25.0\nNone\n26.0\n-------------\nBanfield, Mr. Frederick James\n28.0\nNone\n10.5\n-------------\nMontvila, Rev. Juozas\n27.0\nNone\n13.0\n-------------\nBehr, Mr. Karl Howell\n26.0\nC148\n30.0\n-------------\nJohn Smith\n45.0\nZ76\n456.78900146484375\n-------------\nMarkun, Mr. Johann\n33.0\nNone\n7.8958001136779785\n-------------\nSutehall, Mr. Henry Jr\n25.0\nNone\n7.050000190734863\n-------------\nDooley, Mr. Patrick\n32.0\nNone\n7.75\n-------------\nGraham, Miss. Margaret Edith\n19.0\nB42\n30.0\n-------------\n"
     ]
    }
   ],
   "source": [
    "# Eseguiamo una query di selezione\n",
    "rows = session.execute('SELECT name, age, cabin, fare FROM titanic.passengers WHERE id > 880 ALLOW FILTERING')\n",
    "\n",
    "for row in rows:\n",
    "    print(row.name, row.age, row.cabin, row.fare, sep='\\n', end='\\n-------------\\n')\n",
    "\n"
   ]
  },
  {
   "cell_type": "code",
   "execution_count": 7,
   "metadata": {},
   "outputs": [
    {
     "output_type": "execute_result",
     "data": {
      "text/plain": [
       "<cassandra.cluster.ResultSet at 0x7fa350140430>"
      ]
     },
     "metadata": {},
     "execution_count": 7
    }
   ],
   "source": [
    "# Eseguiamo una query invocando esplicitamente la classe SimpleStatement che\n",
    "# definisce i comandi CQL nella API del driver\n",
    "import cassandra\n",
    "\n",
    "query = cassandra.query.SimpleStatement(\n",
    "    \"INSERT INTO titanic.passengers (survived, class, sex, id, name, age) VALUES (%s, %s, %s, %s, %s, %s)\",\n",
    "    consistency_level=cassandra.ConsistencyLevel.ONE) # pleonastico perché c'è un solo nodo nel nostro cluster\n",
    "\n",
    "session.execute(query, (0, 3, 'female', 893, 'Mrs. Melania De Avilland', 42))\n"
   ]
  },
  {
   "cell_type": "code",
   "execution_count": 8,
   "metadata": {},
   "outputs": [],
   "source": [
    "# E' possibile preparare le query ed eseguirle parametricamente\n",
    "# con la classe PreparedStatement per la quale si può impostare il livello di consistenza\n",
    "\n",
    "survived_per_class_stmt = session.prepare(\"SELECT * FROM titanic.passengers WHERE survived = 1 AND  class = ? ALLOW FILTERING\")\n",
    "survived_per_class_stmt.consistency_level = cassandra.ConsistencyLevel.ONE\n",
    "\n",
    "survived = []\n",
    "for pclass in [1,2,3]:\n",
    "    passengers = session.execute(survived_per_class_stmt, [pclass])\n",
    "    survived.append(passengers)\n"
   ]
  },
  {
   "cell_type": "code",
   "execution_count": 9,
   "metadata": {},
   "outputs": [
    {
     "output_type": "stream",
     "name": "stdout",
     "text": [
      "Sloper, Mr. William Thompson\nmale\n---------------\nWoolner, Mr. Hugh\nmale\n---------------\nGreenfield, Mr. William Bertram\nmale\n---------------\nRomaine, Mr. Charles Hallace (\"Mr C Rolmane\"\")\"\nmale\n---------------\nBlank, Mr. Henry\nmale\n---------------\nHoyt, Mr. Frederick Maxfield\nmale\n---------------\nBeckwith, Mr. Richard Leonard\nmale\n---------------\nSaalfeld, Mr. Adolphe\nmale\n---------------\nAllison, Master. Hudson Trevor\nmale\n---------------\nHarder, Mr. George Achilles\nmale\n---------------\nCarter, Mr. William Ernest\nmale\n---------------\nBjornstrom-Steffansson, Mr. Mauritz Hakan\nmale\n---------------\nDodge, Master. Washington\nmale\n---------------\nSeward, Mr. Frederic Kimber\nmale\n---------------\nPeuchen, Major. Arthur Godfrey\nmale\n---------------\nGoldenberg, Mr. Samuel L\nmale\n---------------\nAnderson, Mr. Harry\nmale\n---------------\nBishop, Mr. Dickinson H\nmale\n---------------\nBradley, Mr. George (\"George Arthur Brayton\"\")\"\nmale\n---------------\nMcGough, Mr. James Robert\nmale\n---------------\nThayer, Mr. John Borland Jr\nmale\n---------------\nFlynn, Mr. John Irwin (\"Irving\"\")\"\nmale\n---------------\nFrolicher-Stehli, Mr. Maxmillian\nmale\n---------------\nDuff Gordon, Sir. Cosmo Edmund (\"Mr Morgan\"\")\"\nmale\n---------------\nHomer, Mr. Harry (\"Mr E Haven\"\")\"\nmale\n---------------\nDaniel, Mr. Robert Williams\nmale\n---------------\nKimball, Mr. Edwin Nelson Jr\nmale\n---------------\nBarkworth, Mr. Algernon Henry Wilson\nmale\n---------------\nStahelin-Maeglin, Dr. Max\nmale\n---------------\nHarper, Mr. Henry Sleeper\nmale\n---------------\nSimonius-Blumer, Col. Oberst Alfons\nmale\n---------------\nFrauenthal, Dr. Henry William\nmale\n---------------\nCardeza, Mr. Thomas Drake Martinez\nmale\n---------------\nHassab, Mr. Hammad\nmale\n---------------\nDick, Mr. Albert Adrian\nmale\n---------------\nSilverthorne, Mr. Spencer Victor\nmale\n---------------\nCalderhead, Mr. Edward Pennington\nmale\n---------------\nTaylor, Mr. Elmer Zebley\nmale\n---------------\nChambers, Mr. Norman Campbell\nmale\n---------------\nLesurer, Mr. Gustave J\nmale\n---------------\nHawksford, Mr. Walter James\nmale\n---------------\nCarter, Master. William Thornton II\nmale\n---------------\nMarechal, Mr. Pierre\nmale\n---------------\nDaly, Mr. Peter Denis \nmale\n---------------\nBehr, Mr. Karl Howell\nmale\n---------------\nJohn Smith\nmale\n---------------\nCumings, Mrs. John Bradley (Florence Briggs Thayer)\nfemale\n---------------\nFutrelle, Mrs. Jacques Heath (Lily May Peel)\nfemale\n---------------\nBonnell, Miss. Elizabeth\nfemale\n---------------\nSpencer, Mrs. William Augustus (Marie Eugenie)\nfemale\n---------------\nHarper, Mrs. Henry Sleeper (Myna Haxtun)\nfemale\n---------------\nIcard, Miss. Amelie\nfemale\n---------------\nFortune, Miss. Mabel Helen\nfemale\n---------------\nNewsom, Miss. Helen Monypeny\nfemale\n---------------\nPears, Mrs. Thomas (Edith Wearne)\nfemale\n---------------\nChibnall, Mrs. (Edith Martha Bowerman)\nfemale\n---------------\nBrown, Mrs. James Joseph (Margaret Tobin)\nfemale\n---------------\nLurette, Miss. Elise\nfemale\n---------------\nNewell, Miss. Madeleine\nfemale\n---------------\nBazzani, Miss. Albina\nfemale\n---------------\nHarris, Mrs. Henry Birkhardt (Irene Wallach)\nfemale\n---------------\nThorne, Mrs. Gertrude Maybelle\nfemale\n---------------\nCherry, Miss. Gladys\nfemale\n---------------\nWard, Miss. Anna\nfemale\n---------------\nGraham, Mrs. William Thompson (Edith Junkins)\nfemale\n---------------\nBissette, Miss. Amelia\nfemale\n---------------\nAndrews, Miss. Kornelia Theodosia\nfemale\n---------------\nBarber, Miss. Ellen \"Nellie\"\"\"\nfemale\n---------------\nBishop, Mrs. Dickinson H (Helen Walton)\nfemale\n---------------\nBaxter, Mrs. James (Helene DeLaudeniere Chaput)\nfemale\n---------------\nFleming, Miss. Margaret\nfemale\n---------------\nPenasco y Castellana, Mrs. Victor de Satode (Maria Josefa Perez de Soto y Vallejo)\nfemale\n---------------\nFrancatelli, Miss. Laura Mabel\nfemale\n---------------\nHays, Miss. Margaret Bechstein\nfemale\n---------------\nRyerson, Miss. Emily Borie\nfemale\n---------------\nWick, Miss. Mary Natalie\nfemale\n---------------\nSpedden, Mrs. Frederic Oakley (Margaretta Corning Stone)\nfemale\n---------------\nYoung, Miss. Marie Grice\nfemale\n---------------\nHippach, Miss. Jean Gertrude\nfemale\n---------------\nFrauenthal, Mrs. Henry William (Clara Heinsheimer)\nfemale\n---------------\nBurns, Miss. Elizabeth Margaret\nfemale\n---------------\nFortune, Miss. Alice Elizabeth\nfemale\n---------------\nBowerman, Miss. Elsie Edith\nfemale\n---------------\nWarren, Mrs. Frank Manley (Anna Sophia Atkinson)\nfemale\n---------------\nAubart, Mme. Leontine Pauline\nfemale\n---------------\nMeyer, Mrs. Edgar Joseph (Leila Saks)\nfemale\n---------------\nBidois, Miss. Rosalie\nfemale\n---------------\nHolverson, Mrs. Alexander Oskar (Mary Aline Towner)\nfemale\n---------------\nNewell, Miss. Marjorie\nfemale\n---------------\nMinahan, Miss. Daisy E\nfemale\n---------------\nCarter, Miss. Lucile Polk\nfemale\n---------------\nKenyon, Mrs. Frederick R (Marion)\nfemale\n---------------\nHoyt, Mrs. Frederick Maxfield (Jane Anne Forby)\nfemale\n---------------\nEustis, Miss. Elizabeth Mussey\nfemale\n---------------\nMaioni, Miss. Roberta\nfemale\n---------------\nRothschild, Mrs. Martin (Elizabeth L. Barrett)\nfemale\n---------------\nPerreault, Miss. Anne\nfemale\n---------------\nHippach, Mrs. Louis Albert (Ida Sophia Fischer)\nfemale\n---------------\nLeRoy, Miss. Bertha\nfemale\n---------------\nFrolicher, Miss. Hedwig Margaritha\nfemale\n---------------\nCrosby, Miss. Harriet R\nfemale\n---------------\nDuff Gordon, Lady. (Lucille Christiana Sutherland) (\"Mrs Morgan\"\")\"\nfemale\n---------------\nTaussig, Mrs. Emil (Tillie Mandelbaum)\nfemale\n---------------\nAppleton, Mrs. Edward Dale (Charlotte Lamson)\nfemale\n---------------\nSilvey, Mrs. William Baird (Alice Munger)\nfemale\n---------------\nThayer, Mrs. John Borland (Marian Longstreth Morris)\nfemale\n---------------\nTaussig, Miss. Ruth\nfemale\n---------------\nStephenson, Mrs. Walter Bertram (Martha Eustis)\nfemale\n---------------\nShutes, Miss. Elizabeth W\nfemale\n---------------\nLongley, Miss. Gretchen Fiske\nfemale\n---------------\nSagesser, Mlle. Emma\nfemale\n---------------\nTaylor, Mrs. Elmer Zebley (Juliet Cummins Wright)\nfemale\n---------------\nMadill, Miss. Georgette Alexandra\nfemale\n---------------\nAstor, Mrs. John Jacob (Madeleine Talmadge Force)\nfemale\n---------------\nCleaver, Miss. Alice\nfemale\n---------------\nMayne, Mlle. Berthe Antonine (\"Mrs de Villiers\"\")\"\nfemale\n---------------\nEndres, Miss. Caroline Louise\nfemale\n---------------\nAllen, Miss. Elisabeth Walton\nfemale\n---------------\nRyerson, Miss. Susan Parker \"Suzette\"\"\"\nfemale\n---------------\nRothes, the Countess. of (Lucy Noel Martha Dyer-Edwards)\nfemale\n---------------\nCarter, Mrs. William Ernest (Lucile Polk)\nfemale\n---------------\nHogeboom, Mrs. John C (Anna Andrews)\nfemale\n---------------\nRobert, Mrs. Edward Scott (Elisabeth Walton McMillan)\nfemale\n---------------\nDick, Mrs. Albert Adrian (Vera Gillespie)\nfemale\n---------------\nLeader, Dr. Alice (Farnham)\nfemale\n---------------\nChambers, Mrs. Norman Campbell (Bertha Griggs)\nfemale\n---------------\nHays, Mrs. Charles Melville (Clara Jennings Gregg)\nfemale\n---------------\nStone, Mrs. George Nelson (Martha Evelyn)\nfemale\n---------------\nCompton, Miss. Sara Rebecca\nfemale\n---------------\nSerepeca, Miss. Augusta\nfemale\n---------------\nGoldenberg, Mrs. Samuel L (Edwiga Grabowska)\nfemale\n---------------\nLines, Miss. Mary Conover\nfemale\n---------------\nWick, Mrs. George Dennick (Mary Hitchcock)\nfemale\n---------------\nSwift, Mrs. Frederick Joel (Margaret Welles Barron)\nfemale\n---------------\nBeckwith, Mrs. Richard Leonard (Sallie Monypeny)\nfemale\n---------------\nPotter, Mrs. Thomas Jr (Lily Alexenia Wilson)\nfemale\n---------------\nGraham, Miss. Margaret Edith\nfemale\n---------------\n"
     ]
    }
   ],
   "source": [
    "for passenger in survived[0]:\n",
    "    print(passenger.name,passenger.sex,sep='\\n',end='\\n---------------\\n')"
   ]
  },
  {
   "cell_type": "markdown",
   "metadata": {},
   "source": [
    "### Esecuzione asincrona\n",
    "\n",
    "L'esecuzione asincrona consente di inviare la query continuare l'esecuzione e poi raccogliere i risultati. Si possono anche definire delle callback per la gestione del successo e del fallimento della query.\n",
    "\n",
    "Nel seguente esempio si gestiscono delle query concorrenti.\n",
    "\n",
    "```python\n",
    "# Questa è l'eccezione di timeout delle query\n",
    "from cassandra import ReadTimeout\n",
    "\n",
    "# lista dei risultati futuri\n",
    "futures = []\n",
    "query = \"SELECT * FROM users WHERE user_id=%s\"\n",
    "for user_id in ids_to_fetch:\n",
    "    futures.append(session.execute_async(query, [user_id])\n",
    "\n",
    "# le query vengono eseguite in modo asincrono e concorrente\n",
    "# e questo codice attende che siano finite\n",
    "for future in futures:\n",
    "    rows = future.result()\n",
    "    print rows[0].name\n",
    "\n",
    "```\n",
    "Esempio di definizione delle funzioni di callback.\n",
    "\n",
    "```python\n",
    "\n",
    "# definiamo le due callback\n",
    "def handle_success(rows):\n",
    "    user = rows[0]\n",
    "    try:\n",
    "        process_user(user.name, user.age, user.id)\n",
    "    except Exception:\n",
    "        log.error(\"Failed to process user %s\", user.id)\n",
    "\n",
    "def handle_error(exception):\n",
    "    log.error(\"Failed to fetch user info: %s\", exception)\n",
    "\n",
    "# lanciamo la query asincrona e agganciamo le due funzioni di callback\n",
    "future = session.execute_async(query)\n",
    "future.add_callbacks(handle_success, handle_error)\n",
    "```"
   ]
  },
  {
   "cell_type": "markdown",
   "metadata": {},
   "source": [
    "### Utilizzo degli Object Mapper"
   ]
  },
  {
   "cell_type": "code",
   "execution_count": 10,
   "metadata": {},
   "outputs": [
    {
     "output_type": "execute_result",
     "data": {
      "text/plain": [
       "<cassandra.cluster.ResultSet at 0x7fa33046a1c0>"
      ]
     },
     "metadata": {},
     "execution_count": 10
    }
   ],
   "source": [
    "# Effettuiamo il drop della tabella\n",
    "\n",
    "session.execute('DROP TABLE titanic.passengers')"
   ]
  },
  {
   "cell_type": "code",
   "execution_count": 12,
   "metadata": {},
   "outputs": [],
   "source": [
    "# La API per generare gli Object Mapper\n",
    "# si trova nel modulo cassandra.cqlengine\n",
    "import cassandra\n",
    "from cassandra.cqlengine import columns\n",
    "from cassandra.cqlengine import connection\n",
    "from datetime import datetime\n",
    "from cassandra.cqlengine.management import sync_table\n",
    "from cassandra.cqlengine.models import Model\n",
    "\n",
    "\n",
    "# setup della connessione\n",
    "connection.setup(['127.0.0.1'],'titanic',consistency=cassandra.ConsistencyLevel.ONE)"
   ]
  },
  {
   "cell_type": "code",
   "execution_count": 13,
   "metadata": {},
   "outputs": [],
   "source": [
    "# Creazione del modello dei dati,\n",
    "# cioè la tabella, come classe derivata dsa Model\n",
    "\n",
    "class Passengers(Model):\n",
    "    survived = columns.Integer(primary_key=True,partition_key=True)\n",
    "    pclass = columns.Integer(primary_key=True,partition_key=True)\n",
    "    sex = columns.Text(primary_key=True,partition_key=True)\n",
    "    pid = columns.Integer(primary_key=True, clustering_order='asc') \n",
    "    age = columns.Float()\n",
    "    cabin = columns.Text()\n",
    "    embarked = columns.Text()\n",
    "    fare = columns.Float()\n",
    "    name = columns.Text()\n",
    "    parch = columns.Integer()\n",
    "    sibsp = columns.Integer()\n",
    "    ticket = columns.Text() \n"
   ]
  },
  {
   "cell_type": "code",
   "execution_count": 14,
   "metadata": {},
   "outputs": [],
   "source": [
    "# Viene create una tabella dal nome uguale al modello\n",
    "# all'interno del keyspace di default della connessione\n",
    "\n",
    "sync_table(Passengers)"
   ]
  },
  {
   "cell_type": "code",
   "execution_count": 15,
   "metadata": {},
   "outputs": [
    {
     "output_type": "execute_result",
     "data": {
      "text/plain": [
       "0"
      ]
     },
     "metadata": {},
     "execution_count": 15
    }
   ],
   "source": [
    "# importiamo i dati richiamando cqlsh da sistema\n",
    "import os\n",
    "\n",
    "os.system(\"cqlsh -k titanic -e \\\"COPY passengers (pid , survived , pclass , name , sex , age , sibsp , parch , ticket , fare , cabin , embarked ) FROM 'Data/titanic.csv' WITH SKIPROWS = 1\\\"\")"
   ]
  },
  {
   "cell_type": "code",
   "execution_count": 16,
   "metadata": {},
   "outputs": [
    {
     "output_type": "execute_result",
     "data": {
      "text/plain": [
       "Passengers(survived=1, pclass=1, sex='male', pid=892, age=45.0, cabin='Z76', embarked='S', fare=123.456, name='John Smith', parch=2, sibsp=1, ticket='TiketOne')"
      ]
     },
     "metadata": {},
     "execution_count": 16
    }
   ],
   "source": [
    "# eseguiamo operazioni di insert\n",
    "Passengers.create(survived=1,pclass=1,sex='male',pid=892,age=45.0,cabin='Z76',embarked='S',fare=123.456,name='John Smith',parch=2,sibsp=1,ticket='TiketOne')"
   ]
  },
  {
   "cell_type": "code",
   "execution_count": 17,
   "metadata": {},
   "outputs": [
    {
     "output_type": "execute_result",
     "data": {
      "text/plain": [
       "892"
      ]
     },
     "metadata": {},
     "execution_count": 17
    }
   ],
   "source": [
    "# manipoliamo gli oggetti della tabella attraverso la classe model\n",
    "# che consente di fare query e update\n",
    "Passengers.objects.count()"
   ]
  },
  {
   "cell_type": "code",
   "execution_count": 18,
   "metadata": {},
   "outputs": [],
   "source": [
    "# l'operazione di update dev'essere fatta selezionando l'intera chiave primaria\n",
    "\n",
    "Passengers.objects(survived=1,pclass=1,sex='male',pid=892).update(ticket='VivaTicket')"
   ]
  },
  {
   "cell_type": "code",
   "execution_count": 19,
   "metadata": {},
   "outputs": [
    {
     "output_type": "stream",
     "name": "stdout",
     "text": [
      "Cumings, Mrs. John Bradley (Florence Briggs Thayer)\n38.0\n---------------\nFutrelle, Mrs. Jacques Heath (Lily May Peel)\n35.0\n---------------\nBonnell, Miss. Elizabeth\n58.0\n---------------\nSpencer, Mrs. William Augustus (Marie Eugenie)\nNone\n---------------\nHarper, Mrs. Henry Sleeper (Myna Haxtun)\n49.0\n---------------\nIcard, Miss. Amelie\n38.0\n---------------\nFortune, Miss. Mabel Helen\n23.0\n---------------\nNewsom, Miss. Helen Monypeny\n19.0\n---------------\nPears, Mrs. Thomas (Edith Wearne)\n22.0\n---------------\nChibnall, Mrs. (Edith Martha Bowerman)\nNone\n---------------\nBrown, Mrs. James Joseph (Margaret Tobin)\n44.0\n---------------\nLurette, Miss. Elise\n58.0\n---------------\nNewell, Miss. Madeleine\n31.0\n---------------\nBazzani, Miss. Albina\n32.0\n---------------\nHarris, Mrs. Henry Birkhardt (Irene Wallach)\n35.0\n---------------\nThorne, Mrs. Gertrude Maybelle\nNone\n---------------\nCherry, Miss. Gladys\n30.0\n---------------\nWard, Miss. Anna\n35.0\n---------------\nGraham, Mrs. William Thompson (Edith Junkins)\n58.0\n---------------\nBissette, Miss. Amelia\n35.0\n---------------\nAndrews, Miss. Kornelia Theodosia\n63.0\n---------------\nBarber, Miss. Ellen \"Nellie\"\"\"\n26.0\n---------------\nBishop, Mrs. Dickinson H (Helen Walton)\n19.0\n---------------\nBaxter, Mrs. James (Helene DeLaudeniere Chaput)\n50.0\n---------------\nFleming, Miss. Margaret\nNone\n---------------\nPenasco y Castellana, Mrs. Victor de Satode (Maria Josefa Perez de Soto y Vallejo)\n17.0\n---------------\nFrancatelli, Miss. Laura Mabel\n30.0\n---------------\nHays, Miss. Margaret Bechstein\n24.0\n---------------\nRyerson, Miss. Emily Borie\n18.0\n---------------\nWick, Miss. Mary Natalie\n31.0\n---------------\nSpedden, Mrs. Frederic Oakley (Margaretta Corning Stone)\n40.0\n---------------\nYoung, Miss. Marie Grice\n36.0\n---------------\nHippach, Miss. Jean Gertrude\n16.0\n---------------\nFrauenthal, Mrs. Henry William (Clara Heinsheimer)\nNone\n---------------\nBurns, Miss. Elizabeth Margaret\n41.0\n---------------\nFortune, Miss. Alice Elizabeth\n24.0\n---------------\nBowerman, Miss. Elsie Edith\n22.0\n---------------\nWarren, Mrs. Frank Manley (Anna Sophia Atkinson)\n60.0\n---------------\nAubart, Mme. Leontine Pauline\n24.0\n---------------\nMeyer, Mrs. Edgar Joseph (Leila Saks)\nNone\n---------------\nBidois, Miss. Rosalie\n42.0\n---------------\nHolverson, Mrs. Alexander Oskar (Mary Aline Towner)\n35.0\n---------------\nNewell, Miss. Marjorie\n23.0\n---------------\nMinahan, Miss. Daisy E\n33.0\n---------------\nCarter, Miss. Lucile Polk\n14.0\n---------------\nKenyon, Mrs. Frederick R (Marion)\nNone\n---------------\nHoyt, Mrs. Frederick Maxfield (Jane Anne Forby)\n35.0\n---------------\nEustis, Miss. Elizabeth Mussey\n54.0\n---------------\nMaioni, Miss. Roberta\n16.0\n---------------\nRothschild, Mrs. Martin (Elizabeth L. Barrett)\n54.0\n---------------\nPerreault, Miss. Anne\n30.0\n---------------\nHippach, Mrs. Louis Albert (Ida Sophia Fischer)\n44.0\n---------------\nLeRoy, Miss. Bertha\n30.0\n---------------\nFrolicher, Miss. Hedwig Margaritha\n22.0\n---------------\nCrosby, Miss. Harriet R\n36.0\n---------------\nDuff Gordon, Lady. (Lucille Christiana Sutherland) (\"Mrs Morgan\"\")\"\n48.0\n---------------\nTaussig, Mrs. Emil (Tillie Mandelbaum)\n39.0\n---------------\nAppleton, Mrs. Edward Dale (Charlotte Lamson)\n53.0\n---------------\nSilvey, Mrs. William Baird (Alice Munger)\n39.0\n---------------\nThayer, Mrs. John Borland (Marian Longstreth Morris)\n39.0\n---------------\nTaussig, Miss. Ruth\n18.0\n---------------\nStephenson, Mrs. Walter Bertram (Martha Eustis)\n52.0\n---------------\nShutes, Miss. Elizabeth W\n40.0\n---------------\nLongley, Miss. Gretchen Fiske\n21.0\n---------------\nSagesser, Mlle. Emma\n24.0\n---------------\nTaylor, Mrs. Elmer Zebley (Juliet Cummins Wright)\nNone\n---------------\nMadill, Miss. Georgette Alexandra\n15.0\n---------------\nAstor, Mrs. John Jacob (Madeleine Talmadge Force)\n18.0\n---------------\nCleaver, Miss. Alice\n22.0\n---------------\nMayne, Mlle. Berthe Antonine (\"Mrs de Villiers\"\")\"\n24.0\n---------------\nEndres, Miss. Caroline Louise\n38.0\n---------------\nAllen, Miss. Elisabeth Walton\n29.0\n---------------\nRyerson, Miss. Susan Parker \"Suzette\"\"\"\n21.0\n---------------\nRothes, the Countess. of (Lucy Noel Martha Dyer-Edwards)\n33.0\n---------------\nCarter, Mrs. William Ernest (Lucile Polk)\n36.0\n---------------\nHogeboom, Mrs. John C (Anna Andrews)\n51.0\n---------------\nRobert, Mrs. Edward Scott (Elisabeth Walton McMillan)\n43.0\n---------------\nDick, Mrs. Albert Adrian (Vera Gillespie)\n17.0\n---------------\nLeader, Dr. Alice (Farnham)\n49.0\n---------------\nChambers, Mrs. Norman Campbell (Bertha Griggs)\n33.0\n---------------\nHays, Mrs. Charles Melville (Clara Jennings Gregg)\n52.0\n---------------\nStone, Mrs. George Nelson (Martha Evelyn)\n62.0\n---------------\nCompton, Miss. Sara Rebecca\n39.0\n---------------\nSerepeca, Miss. Augusta\n30.0\n---------------\nGoldenberg, Mrs. Samuel L (Edwiga Grabowska)\nNone\n---------------\nLines, Miss. Mary Conover\n16.0\n---------------\nWick, Mrs. George Dennick (Mary Hitchcock)\n45.0\n---------------\nSwift, Mrs. Frederick Joel (Margaret Welles Barron)\n48.0\n---------------\nBeckwith, Mrs. Richard Leonard (Sallie Monypeny)\n47.0\n---------------\nPotter, Mrs. Thomas Jr (Lily Alexenia Wilson)\n56.0\n---------------\nGraham, Miss. Margaret Edith\n19.0\n---------------\nNasser, Mrs. Nicholas (Adele Achem)\n14.0\n---------------\nHewlett, Mrs. (Mary D Kingcome) \n55.0\n---------------\nLaroche, Miss. Simonne Marie Anne Andree\n3.0\n---------------\nFaunthorpe, Mrs. Lizzie (Elizabeth Anne Wilkinson)\n29.0\n---------------\nRugg, Miss. Emily\n21.0\n---------------\nWest, Miss. Constance Mirium\n5.0\n---------------\nNye, Mrs. (Elizabeth Ramell)\n29.0\n---------------\nIlett, Miss. Bertha\n17.0\n---------------\nDoling, Mrs. John T (Ada Julia Bone)\n34.0\n---------------\nWebber, Miss. Susan\n32.5\n---------------\nWeisz, Mrs. Leopold (Mathilde Francoise Pede)\n29.0\n---------------\nWatt, Mrs. James (Elizabeth \"Bessie\"\" Inglis Milne)\"\n40.0\n---------------\nPinsky, Mrs. (Rosa)\n32.0\n---------------\nCameron, Miss. Clear Annie\n35.0\n---------------\nCollyer, Miss. Marjorie \"Lottie\"\"\"\n8.0\n---------------\nHamalainen, Mrs. William (Anna)\n24.0\n---------------\nParrish, Mrs. (Lutie Davis)\n50.0\n---------------\nMellinger, Mrs. (Elizabeth Anne Maidment)\n41.0\n---------------\nKeane, Miss. Nora A\nNone\n---------------\nKantor, Mrs. Sinai (Miriam Sternin)\n24.0\n---------------\nSlayter, Miss. Hilda Mary\n30.0\n---------------\nCaldwell, Mrs. Albert Francis (Sylvia Mae Harbaugh)\n22.0\n---------------\nBall, Mrs. (Ada E Hall)\n36.0\n---------------\nBrown, Miss. Amelia \"Mildred\"\"\"\n24.0\n---------------\nSmith, Miss. Marion Elsie\n40.0\n---------------\nBuss, Miss. Kate\n36.0\n---------------\nLehmann, Miss. Bertha\n17.0\n---------------\nTrout, Mrs. William H (Jessie L)\n28.0\n---------------\nDrew, Mrs. James Vivian (Lulu Thorne Christian)\n34.0\n---------------\nSilven, Miss. Lyyli Karoliina\n18.0\n---------------\nClarke, Mrs. Charles V (Ada Maria Winfield)\n28.0\n---------------\nPhillips, Miss. Kate Florence (\"Mrs Kate Louise Phillips Marshall\"\")\"\n19.0\n---------------\nLouch, Mrs. Charles Alexander (Alice Adelaide Slow)\n42.0\n---------------\nRichards, Mrs. Sidney (Emily Hocking)\n24.0\n---------------\nHart, Mrs. Benjamin (Esther Ada Bloomfield)\n45.0\n---------------\nReynaldo, Ms. Encarnacion\n28.0\n---------------\nMellinger, Miss. Madeleine Violet\n13.0\n---------------\nToomey, Miss. Ellen\n50.0\n---------------\nWest, Mrs. Edwy Arthur (Ada Mary Worth)\n33.0\n---------------\nJerwan, Mrs. Amin S (Marie Marthe Thuillard)\n23.0\n---------------\nQuick, Mrs. Frederick Charles (Jane Richards)\n33.0\n---------------\nLemore, Mrs. (Amelia Milley)\n34.0\n---------------\nAngle, Mrs. William A (Florence \"Mary\"\" Agnes Hughes)\"\n36.0\n---------------\nRidsdale, Miss. Lucy\n50.0\n---------------\nQuick, Miss. Phyllis May\n2.0\n---------------\nHart, Miss. Eva Miriam\n7.0\n---------------\nBeane, Mrs. Edward (Ethel Clarke)\n19.0\n---------------\nGarside, Miss. Ethel\n34.0\n---------------\nChristy, Miss. Julie Rachel\n25.0\n---------------\nLeitch, Miss. Jessie Wills\nNone\n---------------\nJacobsohn, Mrs. Sidney Samuel (Amy Frances Christy)\n24.0\n---------------\nLaroche, Mrs. Joseph (Juliette Marie Louise Lafargue)\n22.0\n---------------\nHerman, Miss. Alice\n24.0\n---------------\nBecker, Miss. Marion Louise\n4.0\n---------------\nDavis, Miss. Mary\n28.0\n---------------\nDoling, Miss. Elsie\n18.0\n---------------\nBrown, Mrs. Thomas William Solomon (Elizabeth Catherine Ford)\n40.0\n---------------\nKelly, Mrs. Florence \"Fannie\"\"\"\n45.0\n---------------\nTroutt, Miss. Edwina Celia \"Winnie\"\"\"\n27.0\n---------------\nHarper, Miss. Annie Jessie \"Nina\"\"\"\n6.0\n---------------\nRenouf, Mrs. Peter Henry (Lillian Jefferys)\n30.0\n---------------\nSinkkonen, Miss. Anna\n30.0\n---------------\nWells, Miss. Joan\n4.0\n---------------\nHerman, Mrs. Samuel (Jane Laver)\n48.0\n---------------\nHocking, Mrs. Elizabeth (Eliza Needs)\n54.0\n---------------\nCollyer, Mrs. Harvey (Charlotte Annie Tate)\n31.0\n---------------\nBystrom, Mrs. (Karolina)\n42.0\n---------------\nDuran y More, Miss. Asuncion\n27.0\n---------------\nAbelson, Mrs. Samuel (Hannah Wizosky)\n28.0\n---------------\nShelley, Mrs. William (Imanita Parrish Hall)\n25.0\n---------------\n"
     ]
    }
   ],
   "source": [
    "q = Passengers.objects.filter(survived=1,pclass__in=[1,2],sex='female')\n",
    "\n",
    "for passenger in q:\n",
    "    print(passenger.name,passenger.age,sep='\\n',end='\\n---------------\\n')"
   ]
  },
  {
   "cell_type": "code",
   "execution_count": 23,
   "metadata": {},
   "outputs": [
    {
     "ename": "InvalidRequest",
     "evalue": "Error from server: code=2200 [Invalid query] message=\"LIKE restriction is only supported on properly indexed columns. cabin LIKE 'C%' is not valid.\"",
     "output_type": "error",
     "traceback": [
      "\u001b[0;31m---------------------------------------------------------------------------\u001b[0m",
      "\u001b[0;31mInvalidRequest\u001b[0m                            Traceback (most recent call last)",
      "\u001b[0;32m<ipython-input-23-38fd8eb9c1e7>\u001b[0m in \u001b[0;36m<module>\u001b[0;34m\u001b[0m\n\u001b[1;32m      6\u001b[0m \u001b[0mq\u001b[0m \u001b[0;34m=\u001b[0m \u001b[0mPassengers\u001b[0m\u001b[0;34m.\u001b[0m\u001b[0mobjects\u001b[0m\u001b[0;34m.\u001b[0m\u001b[0mfilter\u001b[0m\u001b[0;34m(\u001b[0m\u001b[0msurvived\u001b[0m\u001b[0;34m=\u001b[0m\u001b[0;36m1\u001b[0m\u001b[0;34m,\u001b[0m\u001b[0mpclass__in\u001b[0m\u001b[0;34m=\u001b[0m\u001b[0;34m[\u001b[0m\u001b[0;36m1\u001b[0m\u001b[0;34m,\u001b[0m\u001b[0;36m2\u001b[0m\u001b[0;34m]\u001b[0m\u001b[0;34m,\u001b[0m\u001b[0msex\u001b[0m\u001b[0;34m=\u001b[0m\u001b[0;34m'female'\u001b[0m\u001b[0;34m,\u001b[0m\u001b[0mcabin__like\u001b[0m\u001b[0;34m=\u001b[0m\u001b[0;34m'C%'\u001b[0m\u001b[0;34m)\u001b[0m\u001b[0;34m\u001b[0m\u001b[0;34m\u001b[0m\u001b[0m\n\u001b[1;32m      7\u001b[0m \u001b[0;34m\u001b[0m\u001b[0m\n\u001b[0;32m----> 8\u001b[0;31m \u001b[0;32mfor\u001b[0m \u001b[0mpassenger\u001b[0m \u001b[0;32min\u001b[0m \u001b[0mq\u001b[0m\u001b[0;34m:\u001b[0m\u001b[0;34m\u001b[0m\u001b[0;34m\u001b[0m\u001b[0m\n\u001b[0m\u001b[1;32m      9\u001b[0m     \u001b[0mprint\u001b[0m\u001b[0;34m(\u001b[0m\u001b[0mpassenger\u001b[0m\u001b[0;34m.\u001b[0m\u001b[0mname\u001b[0m\u001b[0;34m,\u001b[0m\u001b[0mpassenger\u001b[0m\u001b[0;34m.\u001b[0m\u001b[0mage\u001b[0m\u001b[0;34m,\u001b[0m\u001b[0msep\u001b[0m\u001b[0;34m=\u001b[0m\u001b[0;34m'\\n'\u001b[0m\u001b[0;34m,\u001b[0m\u001b[0mend\u001b[0m\u001b[0;34m=\u001b[0m\u001b[0;34m'\\n---------------\\n'\u001b[0m\u001b[0;34m)\u001b[0m\u001b[0;34m\u001b[0m\u001b[0;34m\u001b[0m\u001b[0m\n",
      "\u001b[0;32m~/anaconda3/envs/bigdata/lib/python3.7/site-packages/cassandra/cqlengine/query.py\u001b[0m in \u001b[0;36m__iter__\u001b[0;34m(self)\u001b[0m\n\u001b[1;32m    513\u001b[0m \u001b[0;34m\u001b[0m\u001b[0m\n\u001b[1;32m    514\u001b[0m     \u001b[0;32mdef\u001b[0m \u001b[0m__iter__\u001b[0m\u001b[0;34m(\u001b[0m\u001b[0mself\u001b[0m\u001b[0;34m)\u001b[0m\u001b[0;34m:\u001b[0m\u001b[0;34m\u001b[0m\u001b[0;34m\u001b[0m\u001b[0m\n\u001b[0;32m--> 515\u001b[0;31m         \u001b[0mself\u001b[0m\u001b[0;34m.\u001b[0m\u001b[0m_execute_query\u001b[0m\u001b[0;34m(\u001b[0m\u001b[0;34m)\u001b[0m\u001b[0;34m\u001b[0m\u001b[0;34m\u001b[0m\u001b[0m\n\u001b[0m\u001b[1;32m    516\u001b[0m \u001b[0;34m\u001b[0m\u001b[0m\n\u001b[1;32m    517\u001b[0m         \u001b[0midx\u001b[0m \u001b[0;34m=\u001b[0m \u001b[0;36m0\u001b[0m\u001b[0;34m\u001b[0m\u001b[0;34m\u001b[0m\u001b[0m\n",
      "\u001b[0;32m~/anaconda3/envs/bigdata/lib/python3.7/site-packages/cassandra/cqlengine/query.py\u001b[0m in \u001b[0;36m_execute_query\u001b[0;34m(self)\u001b[0m\n\u001b[1;32m    470\u001b[0m             \u001b[0;32mraise\u001b[0m \u001b[0mCQLEngineException\u001b[0m\u001b[0;34m(\u001b[0m\u001b[0;34m\"Only inserts, updates, and deletes are available in batch mode\"\u001b[0m\u001b[0;34m)\u001b[0m\u001b[0;34m\u001b[0m\u001b[0;34m\u001b[0m\u001b[0m\n\u001b[1;32m    471\u001b[0m         \u001b[0;32mif\u001b[0m \u001b[0mself\u001b[0m\u001b[0;34m.\u001b[0m\u001b[0m_result_cache\u001b[0m \u001b[0;32mis\u001b[0m \u001b[0;32mNone\u001b[0m\u001b[0;34m:\u001b[0m\u001b[0;34m\u001b[0m\u001b[0;34m\u001b[0m\u001b[0m\n\u001b[0;32m--> 472\u001b[0;31m             \u001b[0mself\u001b[0m\u001b[0;34m.\u001b[0m\u001b[0m_result_generator\u001b[0m \u001b[0;34m=\u001b[0m \u001b[0;34m(\u001b[0m\u001b[0mi\u001b[0m \u001b[0;32mfor\u001b[0m \u001b[0mi\u001b[0m \u001b[0;32min\u001b[0m \u001b[0mself\u001b[0m\u001b[0;34m.\u001b[0m\u001b[0m_execute\u001b[0m\u001b[0;34m(\u001b[0m\u001b[0mself\u001b[0m\u001b[0;34m.\u001b[0m\u001b[0m_select_query\u001b[0m\u001b[0;34m(\u001b[0m\u001b[0;34m)\u001b[0m\u001b[0;34m)\u001b[0m\u001b[0;34m)\u001b[0m\u001b[0;34m\u001b[0m\u001b[0;34m\u001b[0m\u001b[0m\n\u001b[0m\u001b[1;32m    473\u001b[0m             \u001b[0mself\u001b[0m\u001b[0;34m.\u001b[0m\u001b[0m_result_cache\u001b[0m \u001b[0;34m=\u001b[0m \u001b[0;34m[\u001b[0m\u001b[0;34m]\u001b[0m\u001b[0;34m\u001b[0m\u001b[0;34m\u001b[0m\u001b[0m\n\u001b[1;32m    474\u001b[0m             \u001b[0mself\u001b[0m\u001b[0;34m.\u001b[0m\u001b[0m_construct_result\u001b[0m \u001b[0;34m=\u001b[0m \u001b[0mself\u001b[0m\u001b[0;34m.\u001b[0m\u001b[0m_maybe_inject_deferred\u001b[0m\u001b[0;34m(\u001b[0m\u001b[0mself\u001b[0m\u001b[0;34m.\u001b[0m\u001b[0m_get_result_constructor\u001b[0m\u001b[0;34m(\u001b[0m\u001b[0;34m)\u001b[0m\u001b[0;34m)\u001b[0m\u001b[0;34m\u001b[0m\u001b[0;34m\u001b[0m\u001b[0m\n",
      "\u001b[0;32m~/anaconda3/envs/bigdata/lib/python3.7/site-packages/cassandra/cqlengine/query.py\u001b[0m in \u001b[0;36m_execute\u001b[0;34m(self, statement)\u001b[0m\n\u001b[1;32m    402\u001b[0m         \u001b[0;32melse\u001b[0m\u001b[0;34m:\u001b[0m\u001b[0;34m\u001b[0m\u001b[0;34m\u001b[0m\u001b[0m\n\u001b[1;32m    403\u001b[0m             \u001b[0mconnection\u001b[0m \u001b[0;34m=\u001b[0m \u001b[0mself\u001b[0m\u001b[0;34m.\u001b[0m\u001b[0m_connection\u001b[0m \u001b[0;32mor\u001b[0m \u001b[0mself\u001b[0m\u001b[0;34m.\u001b[0m\u001b[0mmodel\u001b[0m\u001b[0;34m.\u001b[0m\u001b[0m_get_connection\u001b[0m\u001b[0;34m(\u001b[0m\u001b[0;34m)\u001b[0m\u001b[0;34m\u001b[0m\u001b[0;34m\u001b[0m\u001b[0m\n\u001b[0;32m--> 404\u001b[0;31m             \u001b[0mresult\u001b[0m \u001b[0;34m=\u001b[0m \u001b[0m_execute_statement\u001b[0m\u001b[0;34m(\u001b[0m\u001b[0mself\u001b[0m\u001b[0;34m.\u001b[0m\u001b[0mmodel\u001b[0m\u001b[0;34m,\u001b[0m \u001b[0mstatement\u001b[0m\u001b[0;34m,\u001b[0m \u001b[0mself\u001b[0m\u001b[0;34m.\u001b[0m\u001b[0m_consistency\u001b[0m\u001b[0;34m,\u001b[0m \u001b[0mself\u001b[0m\u001b[0;34m.\u001b[0m\u001b[0m_timeout\u001b[0m\u001b[0;34m,\u001b[0m \u001b[0mconnection\u001b[0m\u001b[0;34m=\u001b[0m\u001b[0mconnection\u001b[0m\u001b[0;34m)\u001b[0m\u001b[0;34m\u001b[0m\u001b[0;34m\u001b[0m\u001b[0m\n\u001b[0m\u001b[1;32m    405\u001b[0m             \u001b[0;32mif\u001b[0m \u001b[0mself\u001b[0m\u001b[0;34m.\u001b[0m\u001b[0m_if_not_exists\u001b[0m \u001b[0;32mor\u001b[0m \u001b[0mself\u001b[0m\u001b[0;34m.\u001b[0m\u001b[0m_if_exists\u001b[0m \u001b[0;32mor\u001b[0m \u001b[0mself\u001b[0m\u001b[0;34m.\u001b[0m\u001b[0m_conditional\u001b[0m\u001b[0;34m:\u001b[0m\u001b[0;34m\u001b[0m\u001b[0;34m\u001b[0m\u001b[0m\n\u001b[1;32m    406\u001b[0m                 \u001b[0mcheck_applied\u001b[0m\u001b[0;34m(\u001b[0m\u001b[0mresult\u001b[0m\u001b[0;34m)\u001b[0m\u001b[0;34m\u001b[0m\u001b[0;34m\u001b[0m\u001b[0m\n",
      "\u001b[0;32m~/anaconda3/envs/bigdata/lib/python3.7/site-packages/cassandra/cqlengine/query.py\u001b[0m in \u001b[0;36m_execute_statement\u001b[0;34m(model, statement, consistency_level, timeout, connection)\u001b[0m\n\u001b[1;32m   1529\u001b[0m             \u001b[0ms\u001b[0m\u001b[0;34m.\u001b[0m\u001b[0mkeyspace\u001b[0m \u001b[0;34m=\u001b[0m \u001b[0mmodel\u001b[0m\u001b[0;34m.\u001b[0m\u001b[0m_get_keyspace\u001b[0m\u001b[0;34m(\u001b[0m\u001b[0;34m)\u001b[0m\u001b[0;34m\u001b[0m\u001b[0;34m\u001b[0m\u001b[0m\n\u001b[1;32m   1530\u001b[0m     \u001b[0mconnection\u001b[0m \u001b[0;34m=\u001b[0m \u001b[0mconnection\u001b[0m \u001b[0;32mor\u001b[0m \u001b[0mmodel\u001b[0m\u001b[0;34m.\u001b[0m\u001b[0m_get_connection\u001b[0m\u001b[0;34m(\u001b[0m\u001b[0;34m)\u001b[0m\u001b[0;34m\u001b[0m\u001b[0;34m\u001b[0m\u001b[0m\n\u001b[0;32m-> 1531\u001b[0;31m     \u001b[0;32mreturn\u001b[0m \u001b[0mconn\u001b[0m\u001b[0;34m.\u001b[0m\u001b[0mexecute\u001b[0m\u001b[0;34m(\u001b[0m\u001b[0ms\u001b[0m\u001b[0;34m,\u001b[0m \u001b[0mparams\u001b[0m\u001b[0;34m,\u001b[0m \u001b[0mtimeout\u001b[0m\u001b[0;34m=\u001b[0m\u001b[0mtimeout\u001b[0m\u001b[0;34m,\u001b[0m \u001b[0mconnection\u001b[0m\u001b[0;34m=\u001b[0m\u001b[0mconnection\u001b[0m\u001b[0;34m)\u001b[0m\u001b[0;34m\u001b[0m\u001b[0;34m\u001b[0m\u001b[0m\n\u001b[0m",
      "\u001b[0;32m~/anaconda3/envs/bigdata/lib/python3.7/site-packages/cassandra/cqlengine/connection.py\u001b[0m in \u001b[0;36mexecute\u001b[0;34m(query, params, consistency_level, timeout, connection)\u001b[0m\n\u001b[1;32m    338\u001b[0m     \u001b[0mlog\u001b[0m\u001b[0;34m.\u001b[0m\u001b[0mdebug\u001b[0m\u001b[0;34m(\u001b[0m\u001b[0mformat_log_context\u001b[0m\u001b[0;34m(\u001b[0m\u001b[0mquery\u001b[0m\u001b[0;34m.\u001b[0m\u001b[0mquery_string\u001b[0m\u001b[0;34m,\u001b[0m \u001b[0mconnection\u001b[0m\u001b[0;34m=\u001b[0m\u001b[0mconnection\u001b[0m\u001b[0;34m)\u001b[0m\u001b[0;34m)\u001b[0m\u001b[0;34m\u001b[0m\u001b[0;34m\u001b[0m\u001b[0m\n\u001b[1;32m    339\u001b[0m \u001b[0;34m\u001b[0m\u001b[0m\n\u001b[0;32m--> 340\u001b[0;31m     \u001b[0mresult\u001b[0m \u001b[0;34m=\u001b[0m \u001b[0mconn\u001b[0m\u001b[0;34m.\u001b[0m\u001b[0msession\u001b[0m\u001b[0;34m.\u001b[0m\u001b[0mexecute\u001b[0m\u001b[0;34m(\u001b[0m\u001b[0mquery\u001b[0m\u001b[0;34m,\u001b[0m \u001b[0mparams\u001b[0m\u001b[0;34m,\u001b[0m \u001b[0mtimeout\u001b[0m\u001b[0;34m=\u001b[0m\u001b[0mtimeout\u001b[0m\u001b[0;34m)\u001b[0m\u001b[0;34m\u001b[0m\u001b[0;34m\u001b[0m\u001b[0m\n\u001b[0m\u001b[1;32m    341\u001b[0m \u001b[0;34m\u001b[0m\u001b[0m\n\u001b[1;32m    342\u001b[0m     \u001b[0;32mreturn\u001b[0m \u001b[0mresult\u001b[0m\u001b[0;34m\u001b[0m\u001b[0;34m\u001b[0m\u001b[0m\n",
      "\u001b[0;32m~/anaconda3/envs/bigdata/lib/python3.7/site-packages/cassandra/cluster.cpython-37m-darwin.so\u001b[0m in \u001b[0;36mcassandra.cluster.Session.execute\u001b[0;34m()\u001b[0m\n",
      "\u001b[0;32m~/anaconda3/envs/bigdata/lib/python3.7/site-packages/cassandra/cluster.cpython-37m-darwin.so\u001b[0m in \u001b[0;36mcassandra.cluster.ResponseFuture.result\u001b[0;34m()\u001b[0m\n",
      "\u001b[0;31mInvalidRequest\u001b[0m: Error from server: code=2200 [Invalid query] message=\"LIKE restriction is only supported on properly indexed columns. cabin LIKE 'C%' is not valid.\""
     ]
    }
   ],
   "source": [
    "# non funziona perché bisogna etichettare cabin come indice\n",
    "# al momento della creazione della tabella\n",
    "\n",
    "os.system(\"cqlsh -k titanic -e \\\"CREATE INDEX cabin_idx ON passengers(cabin)\\\"\")\n",
    "\n",
    "q = Passengers.objects.filter(survived=1,pclass__in=[1,2],sex='female',cabin__like='C%')\n",
    "\n",
    "for passenger in q:\n",
    "    print(passenger.name,passenger.age,sep='\\n',end='\\n---------------\\n')"
   ]
  },
  {
   "cell_type": "code",
   "execution_count": 20,
   "metadata": {},
   "outputs": [
    {
     "output_type": "execute_result",
     "data": {
      "text/plain": [
       "0.9680851063829787"
      ]
     },
     "metadata": {},
     "execution_count": 20
    }
   ],
   "source": [
    "# aggregazione con valori medi -- fuori dal driver\n",
    "# tasso di sopravvivenza\n",
    "\n",
    "females_1_class=Passengers.objects(survived=1,pclass=1,sex='female').count() / Passengers.objects.filter(pclass=1,sex='female').allow_filtering().count()\n",
    "females_1_class"
   ]
  },
  {
   "cell_type": "code",
   "execution_count": 21,
   "metadata": {},
   "outputs": [
    {
     "output_type": "execute_result",
     "data": {
      "text/plain": [
       "31.483516483516482"
      ]
     },
     "metadata": {},
     "execution_count": 21
    }
   ],
   "source": [
    "# Età media\n",
    "\n",
    "q = Passengers.objects(survived=1,pclass=1,sex='female')\n",
    "avg_age = 0\n",
    "\n",
    "for item in q:\n",
    "    if item.age != None:\n",
    "        avg_age+=item.age\n",
    "\n",
    "avg_age /= len(q)\n",
    "avg_age"
   ]
  },
  {
   "cell_type": "code",
   "execution_count": null,
   "metadata": {},
   "outputs": [],
   "source": []
  }
 ],
 "metadata": {
  "kernelspec": {
   "name": "python3",
   "display_name": "Python 3.8.3 64-bit ('bigdata': conda)",
   "metadata": {
    "interpreter": {
     "hash": "ddc5808000e670ee531b6d0df5cab3b50e0bc41afef88fb058cf86665e26377c"
    }
   }
  },
  "language_info": {
   "codemirror_mode": {
    "name": "ipython",
    "version": 3
   },
   "file_extension": ".py",
   "mimetype": "text/x-python",
   "name": "python",
   "nbconvert_exporter": "python",
   "pygments_lexer": "ipython3",
   "version": "3.8.3-final"
  }
 },
 "nbformat": 4,
 "nbformat_minor": 4
}