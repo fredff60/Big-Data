{
 "cells": [
  {
   "cell_type": "markdown",
   "metadata": {},
   "source": [
    "## Algoritmo Apriori e sue varianti\n",
    "\n",
    "Va installata una libreria di machine learning che contenga apriori. Nella fattispecie, usiamo `mlxtend` che installiamo con `conda`."
   ]
  },
  {
   "cell_type": "code",
   "execution_count": 1,
   "metadata": {},
   "outputs": [
    {
     "output_type": "execute_result",
     "data": {
      "text/plain": [
       "   Apple   Corn   Dill   Eggs  Ice cream  Kidney Beans   Milk  Nutmeg  Onion  \\\n",
       "0  False  False  False   True      False          True   True    True   True   \n",
       "1  False  False   True   True      False          True  False    True   True   \n",
       "2   True  False  False   True      False          True   True   False  False   \n",
       "3  False   True  False  False      False          True   True   False  False   \n",
       "4  False   True  False   True       True          True  False   False   True   \n",
       "\n",
       "   Unicorn  Yogurt  \n",
       "0    False    True  \n",
       "1    False    True  \n",
       "2    False   False  \n",
       "3     True    True  \n",
       "4    False   False  "
      ],
      "text/html": "<div>\n<style scoped>\n    .dataframe tbody tr th:only-of-type {\n        vertical-align: middle;\n    }\n\n    .dataframe tbody tr th {\n        vertical-align: top;\n    }\n\n    .dataframe thead th {\n        text-align: right;\n    }\n</style>\n<table border=\"1\" class=\"dataframe\">\n  <thead>\n    <tr style=\"text-align: right;\">\n      <th></th>\n      <th>Apple</th>\n      <th>Corn</th>\n      <th>Dill</th>\n      <th>Eggs</th>\n      <th>Ice cream</th>\n      <th>Kidney Beans</th>\n      <th>Milk</th>\n      <th>Nutmeg</th>\n      <th>Onion</th>\n      <th>Unicorn</th>\n      <th>Yogurt</th>\n    </tr>\n  </thead>\n  <tbody>\n    <tr>\n      <th>0</th>\n      <td>False</td>\n      <td>False</td>\n      <td>False</td>\n      <td>True</td>\n      <td>False</td>\n      <td>True</td>\n      <td>True</td>\n      <td>True</td>\n      <td>True</td>\n      <td>False</td>\n      <td>True</td>\n    </tr>\n    <tr>\n      <th>1</th>\n      <td>False</td>\n      <td>False</td>\n      <td>True</td>\n      <td>True</td>\n      <td>False</td>\n      <td>True</td>\n      <td>False</td>\n      <td>True</td>\n      <td>True</td>\n      <td>False</td>\n      <td>True</td>\n    </tr>\n    <tr>\n      <th>2</th>\n      <td>True</td>\n      <td>False</td>\n      <td>False</td>\n      <td>True</td>\n      <td>False</td>\n      <td>True</td>\n      <td>True</td>\n      <td>False</td>\n      <td>False</td>\n      <td>False</td>\n      <td>False</td>\n    </tr>\n    <tr>\n      <th>3</th>\n      <td>False</td>\n      <td>True</td>\n      <td>False</td>\n      <td>False</td>\n      <td>False</td>\n      <td>True</td>\n      <td>True</td>\n      <td>False</td>\n      <td>False</td>\n      <td>True</td>\n      <td>True</td>\n    </tr>\n    <tr>\n      <th>4</th>\n      <td>False</td>\n      <td>True</td>\n      <td>False</td>\n      <td>True</td>\n      <td>True</td>\n      <td>True</td>\n      <td>False</td>\n      <td>False</td>\n      <td>True</td>\n      <td>False</td>\n      <td>False</td>\n    </tr>\n  </tbody>\n</table>\n</div>"
     },
     "metadata": {},
     "execution_count": 1
    }
   ],
   "source": [
    "import pandas as pd\n",
    "from mlxtend.preprocessing import TransactionEncoder\n",
    "from mlxtend.frequent_patterns import apriori, association_rules\n",
    "\n",
    "# il dataset è una lista di transazioni, anch'esse espresse come liste\n",
    "dataset = [['Milk', 'Onion', 'Nutmeg', 'Kidney Beans', 'Eggs', 'Yogurt'],\n",
    "           ['Dill', 'Onion', 'Nutmeg', 'Kidney Beans', 'Eggs', 'Yogurt'],\n",
    "           ['Milk', 'Apple', 'Kidney Beans', 'Eggs'],\n",
    "           ['Milk', 'Unicorn', 'Corn', 'Kidney Beans', 'Yogurt'],\n",
    "           ['Corn', 'Onion', 'Onion', 'Kidney Beans', 'Ice cream', 'Eggs']]\n",
    "\n",
    "\n",
    "# La classe TransactionEncoder analizza i dati, che possono avere una qualunque\n",
    "# forma iterabile e genera una struttura intermedia da cui si ottiene\n",
    "# il dataframe\n",
    "te = TransactionEncoder()\n",
    "te_ary = te.fit(dataset).transform(dataset)\n",
    "df = pd.DataFrame(te_ary, columns=te.columns_)\n",
    "\n",
    "df"
   ]
  },
  {
   "cell_type": "code",
   "execution_count": 2,
   "metadata": {},
   "outputs": [
    {
     "output_type": "execute_result",
     "data": {
      "text/plain": [
       "                  0      1      2      3      4\n",
       "Apple         False  False   True  False  False\n",
       "Corn          False  False  False   True   True\n",
       "Dill          False   True  False  False  False\n",
       "Eggs           True   True   True  False   True\n",
       "Ice cream     False  False  False  False   True\n",
       "Kidney Beans   True   True   True   True   True\n",
       "Milk           True  False   True   True  False\n",
       "Nutmeg         True   True  False  False  False\n",
       "Onion          True   True  False  False   True\n",
       "Unicorn       False  False  False   True  False\n",
       "Yogurt         True   True  False   True  False"
      ],
      "text/html": "<div>\n<style scoped>\n    .dataframe tbody tr th:only-of-type {\n        vertical-align: middle;\n    }\n\n    .dataframe tbody tr th {\n        vertical-align: top;\n    }\n\n    .dataframe thead th {\n        text-align: right;\n    }\n</style>\n<table border=\"1\" class=\"dataframe\">\n  <thead>\n    <tr style=\"text-align: right;\">\n      <th></th>\n      <th>0</th>\n      <th>1</th>\n      <th>2</th>\n      <th>3</th>\n      <th>4</th>\n    </tr>\n  </thead>\n  <tbody>\n    <tr>\n      <th>Apple</th>\n      <td>False</td>\n      <td>False</td>\n      <td>True</td>\n      <td>False</td>\n      <td>False</td>\n    </tr>\n    <tr>\n      <th>Corn</th>\n      <td>False</td>\n      <td>False</td>\n      <td>False</td>\n      <td>True</td>\n      <td>True</td>\n    </tr>\n    <tr>\n      <th>Dill</th>\n      <td>False</td>\n      <td>True</td>\n      <td>False</td>\n      <td>False</td>\n      <td>False</td>\n    </tr>\n    <tr>\n      <th>Eggs</th>\n      <td>True</td>\n      <td>True</td>\n      <td>True</td>\n      <td>False</td>\n      <td>True</td>\n    </tr>\n    <tr>\n      <th>Ice cream</th>\n      <td>False</td>\n      <td>False</td>\n      <td>False</td>\n      <td>False</td>\n      <td>True</td>\n    </tr>\n    <tr>\n      <th>Kidney Beans</th>\n      <td>True</td>\n      <td>True</td>\n      <td>True</td>\n      <td>True</td>\n      <td>True</td>\n    </tr>\n    <tr>\n      <th>Milk</th>\n      <td>True</td>\n      <td>False</td>\n      <td>True</td>\n      <td>True</td>\n      <td>False</td>\n    </tr>\n    <tr>\n      <th>Nutmeg</th>\n      <td>True</td>\n      <td>True</td>\n      <td>False</td>\n      <td>False</td>\n      <td>False</td>\n    </tr>\n    <tr>\n      <th>Onion</th>\n      <td>True</td>\n      <td>True</td>\n      <td>False</td>\n      <td>False</td>\n      <td>True</td>\n    </tr>\n    <tr>\n      <th>Unicorn</th>\n      <td>False</td>\n      <td>False</td>\n      <td>False</td>\n      <td>True</td>\n      <td>False</td>\n    </tr>\n    <tr>\n      <th>Yogurt</th>\n      <td>True</td>\n      <td>True</td>\n      <td>False</td>\n      <td>True</td>\n      <td>False</td>\n    </tr>\n  </tbody>\n</table>\n</div>"
     },
     "metadata": {},
     "execution_count": 2
    }
   ],
   "source": [
    "# Generare il database verticale in forma di tid-list dei singoli item è immediato\n",
    "\n",
    "df.transpose()"
   ]
  },
  {
   "cell_type": "code",
   "execution_count": 3,
   "metadata": {},
   "outputs": [
    {
     "output_type": "execute_result",
     "data": {
      "text/plain": [
       "    support                     itemsets\n",
       "0       0.8                       (Eggs)\n",
       "1       1.0               (Kidney Beans)\n",
       "2       0.6                       (Milk)\n",
       "3       0.6                      (Onion)\n",
       "4       0.6                     (Yogurt)\n",
       "5       0.8         (Eggs, Kidney Beans)\n",
       "6       0.6                (Onion, Eggs)\n",
       "7       0.6         (Milk, Kidney Beans)\n",
       "8       0.6        (Onion, Kidney Beans)\n",
       "9       0.6       (Yogurt, Kidney Beans)\n",
       "10      0.6  (Onion, Eggs, Kidney Beans)"
      ],
      "text/html": "<div>\n<style scoped>\n    .dataframe tbody tr th:only-of-type {\n        vertical-align: middle;\n    }\n\n    .dataframe tbody tr th {\n        vertical-align: top;\n    }\n\n    .dataframe thead th {\n        text-align: right;\n    }\n</style>\n<table border=\"1\" class=\"dataframe\">\n  <thead>\n    <tr style=\"text-align: right;\">\n      <th></th>\n      <th>support</th>\n      <th>itemsets</th>\n    </tr>\n  </thead>\n  <tbody>\n    <tr>\n      <th>0</th>\n      <td>0.8</td>\n      <td>(Eggs)</td>\n    </tr>\n    <tr>\n      <th>1</th>\n      <td>1.0</td>\n      <td>(Kidney Beans)</td>\n    </tr>\n    <tr>\n      <th>2</th>\n      <td>0.6</td>\n      <td>(Milk)</td>\n    </tr>\n    <tr>\n      <th>3</th>\n      <td>0.6</td>\n      <td>(Onion)</td>\n    </tr>\n    <tr>\n      <th>4</th>\n      <td>0.6</td>\n      <td>(Yogurt)</td>\n    </tr>\n    <tr>\n      <th>5</th>\n      <td>0.8</td>\n      <td>(Eggs, Kidney Beans)</td>\n    </tr>\n    <tr>\n      <th>6</th>\n      <td>0.6</td>\n      <td>(Onion, Eggs)</td>\n    </tr>\n    <tr>\n      <th>7</th>\n      <td>0.6</td>\n      <td>(Milk, Kidney Beans)</td>\n    </tr>\n    <tr>\n      <th>8</th>\n      <td>0.6</td>\n      <td>(Onion, Kidney Beans)</td>\n    </tr>\n    <tr>\n      <th>9</th>\n      <td>0.6</td>\n      <td>(Yogurt, Kidney Beans)</td>\n    </tr>\n    <tr>\n      <th>10</th>\n      <td>0.6</td>\n      <td>(Onion, Eggs, Kidney Beans)</td>\n    </tr>\n  </tbody>\n</table>\n</div>"
     },
     "metadata": {},
     "execution_count": 3
    }
   ],
   "source": [
    "# Applichiamo Apriori con un supporto minimo di 0.6\n",
    "\n",
    "frequent_itemsets = apriori(df, min_support=0.6, use_colnames=True)\n",
    "\n",
    "frequent_itemsets"
   ]
  },
  {
   "cell_type": "code",
   "execution_count": 4,
   "metadata": {},
   "outputs": [
    {
     "output_type": "execute_result",
     "data": {
      "text/plain": [
       "             antecedents           consequents  antecedent support  \\\n",
       "0                 (Eggs)        (Kidney Beans)                 0.8   \n",
       "1         (Kidney Beans)                (Eggs)                 1.0   \n",
       "2                (Onion)                (Eggs)                 0.6   \n",
       "3                 (Milk)        (Kidney Beans)                 0.6   \n",
       "4                (Onion)        (Kidney Beans)                 0.6   \n",
       "5               (Yogurt)        (Kidney Beans)                 0.6   \n",
       "6          (Onion, Eggs)        (Kidney Beans)                 0.6   \n",
       "7  (Onion, Kidney Beans)                (Eggs)                 0.6   \n",
       "8                (Onion)  (Eggs, Kidney Beans)                 0.6   \n",
       "\n",
       "   consequent support  support  confidence  lift  leverage  conviction  \n",
       "0                 1.0      0.8         1.0  1.00      0.00         inf  \n",
       "1                 0.8      0.8         0.8  1.00      0.00         1.0  \n",
       "2                 0.8      0.6         1.0  1.25      0.12         inf  \n",
       "3                 1.0      0.6         1.0  1.00      0.00         inf  \n",
       "4                 1.0      0.6         1.0  1.00      0.00         inf  \n",
       "5                 1.0      0.6         1.0  1.00      0.00         inf  \n",
       "6                 1.0      0.6         1.0  1.00      0.00         inf  \n",
       "7                 0.8      0.6         1.0  1.25      0.12         inf  \n",
       "8                 0.8      0.6         1.0  1.25      0.12         inf  "
      ],
      "text/html": "<div>\n<style scoped>\n    .dataframe tbody tr th:only-of-type {\n        vertical-align: middle;\n    }\n\n    .dataframe tbody tr th {\n        vertical-align: top;\n    }\n\n    .dataframe thead th {\n        text-align: right;\n    }\n</style>\n<table border=\"1\" class=\"dataframe\">\n  <thead>\n    <tr style=\"text-align: right;\">\n      <th></th>\n      <th>antecedents</th>\n      <th>consequents</th>\n      <th>antecedent support</th>\n      <th>consequent support</th>\n      <th>support</th>\n      <th>confidence</th>\n      <th>lift</th>\n      <th>leverage</th>\n      <th>conviction</th>\n    </tr>\n  </thead>\n  <tbody>\n    <tr>\n      <th>0</th>\n      <td>(Eggs)</td>\n      <td>(Kidney Beans)</td>\n      <td>0.8</td>\n      <td>1.0</td>\n      <td>0.8</td>\n      <td>1.0</td>\n      <td>1.00</td>\n      <td>0.00</td>\n      <td>inf</td>\n    </tr>\n    <tr>\n      <th>1</th>\n      <td>(Kidney Beans)</td>\n      <td>(Eggs)</td>\n      <td>1.0</td>\n      <td>0.8</td>\n      <td>0.8</td>\n      <td>0.8</td>\n      <td>1.00</td>\n      <td>0.00</td>\n      <td>1.0</td>\n    </tr>\n    <tr>\n      <th>2</th>\n      <td>(Onion)</td>\n      <td>(Eggs)</td>\n      <td>0.6</td>\n      <td>0.8</td>\n      <td>0.6</td>\n      <td>1.0</td>\n      <td>1.25</td>\n      <td>0.12</td>\n      <td>inf</td>\n    </tr>\n    <tr>\n      <th>3</th>\n      <td>(Milk)</td>\n      <td>(Kidney Beans)</td>\n      <td>0.6</td>\n      <td>1.0</td>\n      <td>0.6</td>\n      <td>1.0</td>\n      <td>1.00</td>\n      <td>0.00</td>\n      <td>inf</td>\n    </tr>\n    <tr>\n      <th>4</th>\n      <td>(Onion)</td>\n      <td>(Kidney Beans)</td>\n      <td>0.6</td>\n      <td>1.0</td>\n      <td>0.6</td>\n      <td>1.0</td>\n      <td>1.00</td>\n      <td>0.00</td>\n      <td>inf</td>\n    </tr>\n    <tr>\n      <th>5</th>\n      <td>(Yogurt)</td>\n      <td>(Kidney Beans)</td>\n      <td>0.6</td>\n      <td>1.0</td>\n      <td>0.6</td>\n      <td>1.0</td>\n      <td>1.00</td>\n      <td>0.00</td>\n      <td>inf</td>\n    </tr>\n    <tr>\n      <th>6</th>\n      <td>(Onion, Eggs)</td>\n      <td>(Kidney Beans)</td>\n      <td>0.6</td>\n      <td>1.0</td>\n      <td>0.6</td>\n      <td>1.0</td>\n      <td>1.00</td>\n      <td>0.00</td>\n      <td>inf</td>\n    </tr>\n    <tr>\n      <th>7</th>\n      <td>(Onion, Kidney Beans)</td>\n      <td>(Eggs)</td>\n      <td>0.6</td>\n      <td>0.8</td>\n      <td>0.6</td>\n      <td>1.0</td>\n      <td>1.25</td>\n      <td>0.12</td>\n      <td>inf</td>\n    </tr>\n    <tr>\n      <th>8</th>\n      <td>(Onion)</td>\n      <td>(Eggs, Kidney Beans)</td>\n      <td>0.6</td>\n      <td>0.8</td>\n      <td>0.6</td>\n      <td>1.0</td>\n      <td>1.25</td>\n      <td>0.12</td>\n      <td>inf</td>\n    </tr>\n  </tbody>\n</table>\n</div>"
     },
     "metadata": {},
     "execution_count": 4
    }
   ],
   "source": [
    "# calcoliamo le regole a supporto mininmo 0.6 e confidenza 0.8\n",
    "\n",
    "association_rules(frequent_itemsets, metric=\"confidence\", min_threshold=0.8)\n"
   ]
  },
  {
   "cell_type": "code",
   "execution_count": null,
   "metadata": {},
   "outputs": [],
   "source": []
  }
 ],
 "metadata": {
  "kernelspec": {
   "name": "python3",
   "display_name": "Python 3.8.3 64-bit ('bigdata': conda)",
   "metadata": {
    "interpreter": {
     "hash": "ddc5808000e670ee531b6d0df5cab3b50e0bc41afef88fb058cf86665e26377c"
    }
   }
  },
  "language_info": {
   "codemirror_mode": {
    "name": "ipython",
    "version": 3
   },
   "file_extension": ".py",
   "mimetype": "text/x-python",
   "name": "python",
   "nbconvert_exporter": "python",
   "pygments_lexer": "ipython3",
   "version": "3.8.3-final"
  }
 },
 "nbformat": 4,
 "nbformat_minor": 4
}