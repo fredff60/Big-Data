{
 "cells": [
  {
   "cell_type": "code",
   "execution_count": 1,
   "metadata": {},
   "outputs": [],
   "source": [
    "import numpy as np\n",
    "import pandas as pd\n",
    "import pymongo\n",
    "from bson.son import SON\n",
    "from bson.code import Code\n",
    "import os\n",
    "\n",
    "# importazione da script di sistema\n",
    "os.system('mongoimport -d titanic -c passengers --headerline --file ./Data/titanic.csv --type csv')\n",
    "\n",
    "myclient = pymongo.MongoClient(\"mongodb://localhost:27017/\") # 27017 è la porta di default\n",
    "\n",
    "db = myclient[\"titanic\"] # anche 'db = myclient.titanic'\n",
    "\n"
   ]
  },
  {
   "cell_type": "code",
   "execution_count": 2,
   "metadata": {},
   "outputs": [],
   "source": [
    "# definizione del mapper, del reducer e del finalizer\n",
    "# E' importante che il reducer restituisca esattamente\n",
    "# lo stesso oggetto che riceve come val cioè\n",
    "# il value emesso dal mapper.\n",
    "# Infatti il reducer può essere richiamato più volte su singole\n",
    "# porzioni di dati mappati i quali devono essere quindi concatenati\n",
    "# a quelli già processati in precedenza dal reducer stesso\n",
    "\n",
    "# emette un oggetto siffatto:\n",
    "# {id_classe, {countMale: 1/0, countFemale: 1/0}}\n",
    "# a seconda che il passeggero sia maschio o femmina\n",
    "mapfun = Code(\"\"\"\n",
    "    function (){\n",
    "\n",
    "        var key = this.Pclass;\n",
    "        var value = {countMale: 0, countFemale: 0};\n",
    "        \n",
    "        if (this.Sex == 'male')\n",
    "            value.countMale=1;\n",
    "        else\n",
    "            value.countFemale=1;\n",
    "        \n",
    "        emit(key,value);\n",
    "    }\n",
    "\"\"\");\n",
    "\n",
    "# riduce l'array di oggetti emessi per la stessa classe\n",
    "# generando un solo oggetto siffatto\n",
    "# {id_classe, {countMale: <somma uomini per classe>, countFemale: <somma donne per classe}}\n",
    "reducefun = Code(\"\"\"\n",
    "    function (key, val){\n",
    "    \n",
    "        var survived = {countMale: 0, countFemale: 0};\n",
    "        \n",
    "        for (var i=0; i < val.length; i++){\n",
    "            survived.countMale+=val[i].countMale;\n",
    "            survived.countFemale+=val[i].countFemale;\n",
    "        }\n",
    "        \n",
    "        return survived;\n",
    "            \n",
    "    }\n",
    "\"\"\");\n",
    "\n",
    "# calcola le percentuali di sopravvivenza utilizzando lo scope che è\n",
    "# costituito dalle query di conteggio dei passeggeri, maschi e femmine,\n",
    "# per ogni classe\n",
    "finalizefun = Code(\"\"\"\n",
    "    function finalize(key, reducedval){\n",
    "        \n",
    "        if(key == 1.0){\n",
    "            reducedval.countMale /= males1Class;\n",
    "            reducedval.countFemale /= females1Class;\n",
    "            }\n",
    "        else if(key == 2.0){\n",
    "            reducedval.countMale /= males2Class;\n",
    "            reducedval.countFemale /= females2Class;\n",
    "        }\n",
    "        else {\n",
    "            reducedval.countMale /= males3Class;\n",
    "            reducedval.countFemale /= females3Class;\n",
    "        }\n",
    "        \n",
    "        reducedval.countMale*=100;\n",
    "        reducedval.countMale = reducedval.countMale.toPrecision(4)*1;\n",
    "        reducedval.countFemale*=100;\n",
    "        reducedval.countFemale= reducedval.countFemale.toPrecision(4)*1;\n",
    "\n",
    "        return reducedval;\n",
    "    }\n",
    "\"\"\")"
   ]
  },
  {
   "cell_type": "code",
   "execution_count": 19,
   "metadata": {},
   "outputs": [],
   "source": [
    "# richiediamo al database i valori globali degli imbarcati per genere e per classe\n",
    "# per ottenere i tassi di sopravvivenza\n",
    "# e non i valori assoluti dei sopravvissuti\n",
    "\n",
    "males_1_class=db.passengers.count_documents({\"Pclass\": 1, \"Sex\": \"male\"})\n",
    "females_1_class=db.passengers.count_documents({\"Pclass\": 1, \"Sex\": \"female\"})\n",
    "males_2_class=db.passengers.count_documents({\"Pclass\": 2, \"Sex\": \"male\"})\n",
    "females_2_class=db.passengers.count_documents({\"Pclass\": 2, \"Sex\": \"female\"})\n",
    "males_3_class=db.passengers.count_documents({\"Pclass\": 3, \"Sex\": \"male\"})\n",
    "females_3_class=db.passengers.count_documents({\"Pclass\": 3, \"Sex\": \"female\"})\n",
    "\n",
    "mapreduce_info = db.passengers.map_reduce(mapfun,\n",
    "                                          reducefun,\n",
    "                                          \"survivedPassengers\",\n",
    "                                          full_response=True, # restituisce le info di esecuzione\n",
    "                                          query={\"Survived\":1},\n",
    "                                          scope={\"males1Class\": males_1_class,\n",
    "                                                 \"females1Class\": females_1_class,\n",
    "                                                 \"males2Class\": males_2_class,\n",
    "                                                 \"females2Class\": females_2_class,\n",
    "                                                 \"males3Class\": males_3_class,\n",
    "                                                 \"females3Class\": females_3_class},\n",
    "                                          finalize=finalizefun)\n"
   ]
  },
  {
   "cell_type": "code",
   "execution_count": 20,
   "metadata": {},
   "outputs": [
    {
     "output_type": "execute_result",
     "data": {
      "text/plain": [
       "{'result': 'survivedPassengers', 'ok': 1.0}"
      ]
     },
     "metadata": {},
     "execution_count": 20
    }
   ],
   "source": [
    "mapreduce_info"
   ]
  },
  {
   "cell_type": "code",
   "execution_count": 21,
   "metadata": {},
   "outputs": [
    {
     "output_type": "stream",
     "name": "stdout",
     "text": [
      "{'_id': 3.0, 'value': {'countMale': 13.54, 'countFemale': 50.0}}\n{'_id': 2.0, 'value': {'countMale': 15.74, 'countFemale': 92.11}}\n{'_id': 1.0, 'value': {'countMale': 36.89, 'countFemale': 96.81}}\n"
     ]
    }
   ],
   "source": [
    "for doc in db.survivedPassengers.find():\n",
    "    print(doc)"
   ]
  },
  {
   "cell_type": "code",
   "execution_count": 22,
   "metadata": {},
   "outputs": [
    {
     "output_type": "execute_result",
     "data": {
      "text/plain": [
       "   _id                                       value\n",
       "0  3.0   {'countMale': 13.54, 'countFemale': 50.0}\n",
       "1  2.0  {'countMale': 15.74, 'countFemale': 92.11}\n",
       "2  1.0  {'countMale': 36.89, 'countFemale': 96.81}"
      ],
      "text/html": "<div>\n<style scoped>\n    .dataframe tbody tr th:only-of-type {\n        vertical-align: middle;\n    }\n\n    .dataframe tbody tr th {\n        vertical-align: top;\n    }\n\n    .dataframe thead th {\n        text-align: right;\n    }\n</style>\n<table border=\"1\" class=\"dataframe\">\n  <thead>\n    <tr style=\"text-align: right;\">\n      <th></th>\n      <th>_id</th>\n      <th>value</th>\n    </tr>\n  </thead>\n  <tbody>\n    <tr>\n      <th>0</th>\n      <td>3.0</td>\n      <td>{'countMale': 13.54, 'countFemale': 50.0}</td>\n    </tr>\n    <tr>\n      <th>1</th>\n      <td>2.0</td>\n      <td>{'countMale': 15.74, 'countFemale': 92.11}</td>\n    </tr>\n    <tr>\n      <th>2</th>\n      <td>1.0</td>\n      <td>{'countMale': 36.89, 'countFemale': 96.81}</td>\n    </tr>\n  </tbody>\n</table>\n</div>"
     },
     "metadata": {},
     "execution_count": 22
    }
   ],
   "source": [
    "# La semplice importazione del risultato della query a MongoDB\n",
    "# ci restituisce un dataframe che non ha le caratteristiche volute\n",
    "\n",
    "pd.DataFrame(db.survivedPassengers.find())"
   ]
  },
  {
   "cell_type": "code",
   "execution_count": 23,
   "metadata": {},
   "outputs": [
    {
     "output_type": "execute_result",
     "data": {
      "text/plain": [
       "       Male %  Female %\n",
       "Class                  \n",
       "3.0     13.54     50.00\n",
       "2.0     15.74     92.11\n",
       "1.0     36.89     96.81"
      ],
      "text/html": "<div>\n<style scoped>\n    .dataframe tbody tr th:only-of-type {\n        vertical-align: middle;\n    }\n\n    .dataframe tbody tr th {\n        vertical-align: top;\n    }\n\n    .dataframe thead th {\n        text-align: right;\n    }\n</style>\n<table border=\"1\" class=\"dataframe\">\n  <thead>\n    <tr style=\"text-align: right;\">\n      <th></th>\n      <th>Male %</th>\n      <th>Female %</th>\n    </tr>\n    <tr>\n      <th>Class</th>\n      <th></th>\n      <th></th>\n    </tr>\n  </thead>\n  <tbody>\n    <tr>\n      <th>3.0</th>\n      <td>13.54</td>\n      <td>50.00</td>\n    </tr>\n    <tr>\n      <th>2.0</th>\n      <td>15.74</td>\n      <td>92.11</td>\n    </tr>\n    <tr>\n      <th>1.0</th>\n      <td>36.89</td>\n      <td>96.81</td>\n    </tr>\n  </tbody>\n</table>\n</div>"
     },
     "metadata": {},
     "execution_count": 23
    }
   ],
   "source": [
    "raw_data = list(db.survivedPassengers.find())\n",
    "\n",
    "transformed_data = []\n",
    "\n",
    "for data in raw_data:\n",
    "    transformed_data.append({'Class': data['_id'],\n",
    "                             'Male %': data['value']['countMale'],\n",
    "                             'Female %': data['value']['countFemale']})\n",
    "\n",
    "survived_passengers = pd.DataFrame(transformed_data)\n",
    "survived_passengers.set_index('Class')"
   ]
  },
  {
   "cell_type": "code",
   "execution_count": null,
   "metadata": {},
   "outputs": [],
   "source": []
  }
 ],
 "metadata": {
  "kernelspec": {
   "name": "python3",
   "display_name": "Python 3.8.3 64-bit ('bigdata': conda)",
   "metadata": {
    "interpreter": {
     "hash": "ddc5808000e670ee531b6d0df5cab3b50e0bc41afef88fb058cf86665e26377c"
    }
   }
  },
  "language_info": {
   "codemirror_mode": {
    "name": "ipython",
    "version": 3
   },
   "file_extension": ".py",
   "mimetype": "text/x-python",
   "name": "python",
   "nbconvert_exporter": "python",
   "pygments_lexer": "ipython3",
   "version": "3.8.3-final"
  }
 },
 "nbformat": 4,
 "nbformat_minor": 4
}