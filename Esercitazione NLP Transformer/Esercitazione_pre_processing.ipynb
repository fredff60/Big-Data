{
 "cells": [
  {
   "cell_type": "code",
   "execution_count": 1,
   "metadata": {},
   "outputs": [],
   "source": [
    "#create python env\n",
    "\n",
    "#conda install pip\n",
    "#pip install transformers\n",
    "#https://huggingface.co/docs/transformers/installation\n",
    "#conda install -c anaconda pandas\n",
    "#conda install numpy\n",
    "#conda install -c conda-forge tqdm\n",
    "#conda install pytorch torchvision torchaudio cudatoolkit=11.3 -c pytorch\n",
    "#conda install -c conda-forge matplotlib\n",
    "\n",
    "#Dataset - SemEval 2010 task 8\n",
    "#https://semeval2.fbk.eu/semeval2.php?location=data\n"
   ]
  },
  {
   "cell_type": "code",
   "execution_count": 2,
   "metadata": {},
   "outputs": [],
   "source": [
    "import re\n",
    "import numpy as np\n",
    "import pandas as pd\n",
    "from tqdm import tqdm\n",
    "import torch\n",
    "from torch import nn\n",
    "from torch.optim import Adam"
   ]
  },
  {
   "cell_type": "code",
   "execution_count": 3,
   "metadata": {},
   "outputs": [
    {
     "name": "stdout",
     "output_type": "stream",
     "text": [
      "Number of relations 19\n"
     ]
    }
   ],
   "source": [
    "# create array with labels\n",
    "labels_names = [\n",
    "    'Cause-Effect(e1,e2)',\n",
    "    'Cause-Effect(e2,e1)',\n",
    "    'Instrument-Agency(e1,e2)',\n",
    "    'Instrument-Agency(e2,e1)',\n",
    "    'Product-Producer(e1,e2)',\n",
    "    'Product-Producer(e2,e1)',\n",
    "    'Content-Container(e1,e2)',\n",
    "    'Content-Container(e2,e1)',\n",
    "    'Entity-Origin(e1,e2)',\n",
    "    'Entity-Origin(e2,e1)',\n",
    "    'Entity-Destination(e1,e2)',\n",
    "    'Entity-Destination(e2,e1)',\n",
    "    'Component-Whole(e1,e2)',\n",
    "    'Component-Whole(e2,e1)',\n",
    "    'Member-Collection(e1,e2)',\n",
    "    'Member-Collection(e2,e1)',\n",
    "    'Message-Topic(e2,e1)',\n",
    "    'Message-Topic(e1,e2)',\n",
    "    'Other'\n",
    "]\n",
    "\n",
    "print(\"Number of relations \"+str(len(labels_names)))\n",
    "\n",
    "# Dataset dimentions\n",
    "\n",
    "N_SAMPLE_TRAIN = 7109\n",
    "N_SAMPLE_VAL = 891\n",
    "N_SAMPLE_TEST = 2717"
   ]
  },
  {
   "cell_type": "code",
   "execution_count": 4,
   "metadata": {},
   "outputs": [
    {
     "name": "stdout",
     "output_type": "stream",
     "text": [
      "Number of train phrases 7109\n",
      "Number of validation phrases 891\n"
     ]
    }
   ],
   "source": [
    "# loading the training data\n",
    "PATH = '/home/isiragusa/irene/NLP General/'\n",
    "f = open(PATH+\"dataset/SemEval2010/TRAIN_FILE.TXT\", \"r\")\n",
    "line = f.readline()\n",
    "train_complete = []\n",
    "val_complete = []\n",
    "for i in range(N_SAMPLE_TRAIN + N_SAMPLE_VAL):\n",
    "    if re.match(r'[0-9]', line) :\n",
    "        phrase = line.split(\"\\t\")[1]\n",
    "        phrase = phrase[1:-3]\n",
    "\n",
    "        entities = []\n",
    "\n",
    "        phs = re.search('<e1>(.+?)</e1>', phrase)\n",
    "        if phs:\n",
    "            entities.append(phs.group(1))\n",
    "        phs = re.search('<e2>(.+?)</e2>', phrase)\n",
    "        if phs:\n",
    "            entities.append(phs.group(1))\n",
    "\n",
    "        phrase = phrase.replace(\"<e1>\",\"\").replace(\"</e1>\",\"\").replace(\"<e2>\",\"\").replace(\"</e2>\",\"\")\n",
    "\n",
    "        line = f.readline()\n",
    "        rel = line[:-1]\n",
    "        # indexing labels \n",
    "        rel = labels_names.index(rel)\n",
    "        # read comment \n",
    "        line = f.readline()\n",
    "        # read space between phrases\n",
    "        line = f.readline()\n",
    "        # append the extracted elements\n",
    "        if i>= N_SAMPLE_TRAIN:\n",
    "            val_complete.append((phrase, entities[0], entities[1], rel))    \n",
    "        else:\n",
    "            train_complete.append((phrase, entities[0], entities[1], rel)) \n",
    "        # preparing for next block\n",
    "        line = f.readline()\n",
    "\n",
    "print(\"Number of train phrases \"+str(len(train_complete)))\n",
    "print(\"Number of validation phrases \"+str(len(val_complete)))"
   ]
  },
  {
   "cell_type": "code",
   "execution_count": 5,
   "metadata": {},
   "outputs": [
    {
     "name": "stdout",
     "output_type": "stream",
     "text": [
      "Number of test phrases 2717\n"
     ]
    }
   ],
   "source": [
    "# loading the test data\n",
    "f = open(PATH+\"dataset/SemEval2010/TEST_FILE.TXT\", \"r\")\n",
    "line = f.readline()\n",
    "phrases_test = []\n",
    "labels_test = []\n",
    "id_test = []\n",
    "test_complete = []\n",
    "for i in range(N_SAMPLE_TEST):\n",
    "    if re.match(r'[0-9]', line) :\n",
    "        phrase = line.split(\"\\t\")\n",
    "        id = phrase[0]\n",
    "        phrase = phrase[1]\n",
    "        phrase = phrase[1:-3]\n",
    "        entities = []\n",
    "\n",
    "        phs = re.search('<e1>(.+?)</e1>', phrase)\n",
    "        if phs:\n",
    "            entities.append(phs.group(1))\n",
    "        phs = re.search('<e2>(.+?)</e2>', phrase)\n",
    "        if phs:\n",
    "            entities.append(phs.group(1))\n",
    "\n",
    "        phrase = phrase.replace(\"<e1>\",\"\").replace(\"</e1>\",\"\").replace(\"<e2>\",\"\").replace(\"</e2>\",\"\")\n",
    "        \n",
    "        line = f.readline()\n",
    "        rel = line[:-1]\n",
    "        # indexing labels \n",
    "        rel = labels_names.index(rel)\n",
    "        # read comment \n",
    "        line = f.readline()\n",
    "        # read space between phrases\n",
    "        line = f.readline()\n",
    "        # append the new tuple\n",
    "        phrases_test.append([phrase])\n",
    "        labels_test.append([rel])\n",
    "        id_test.append(id)\n",
    "        test_complete.append((phrase, entities[0], entities[1],rel)) \n",
    "        # preparing for next block\n",
    "        line = f.readline()\n",
    "\n",
    "print(\"Number of test phrases \"+str(len(test_complete)))"
   ]
  },
  {
   "cell_type": "code",
   "execution_count": 6,
   "metadata": {},
   "outputs": [],
   "source": [
    "# create the dataframes\n",
    "df_train = pd.DataFrame.from_records(train_complete, columns = ['Phrase', 'E1', 'E2', 'Label'])\n",
    "df_val = pd.DataFrame.from_records(val_complete, columns = ['Phrase', 'E1', 'E2', 'Label'])\n",
    "df_test = pd.DataFrame.from_records(test_complete, columns = ['Phrase', 'E1', 'E2', 'Label'])\n",
    "\n",
    "df_train.to_csv(PATH+\"Esercitazione/train_cured.csv\", index = False)\n",
    "df_val.to_csv(PATH+\"Esercitazione/val_cured.csv\", index = False)\n",
    "df_test.to_csv(PATH+\"Esercitazione/test_cured.csv\", index = False)"
   ]
  },
  {
   "cell_type": "code",
   "execution_count": 7,
   "metadata": {},
   "outputs": [
    {
     "name": "stderr",
     "output_type": "stream",
     "text": [
      "Some weights of the model checkpoint at bert-base-uncased were not used when initializing BertModel: ['cls.seq_relationship.bias', 'cls.predictions.bias', 'cls.predictions.transform.LayerNorm.weight', 'cls.predictions.transform.LayerNorm.bias', 'cls.predictions.transform.dense.bias', 'cls.predictions.decoder.weight', 'cls.predictions.transform.dense.weight', 'cls.seq_relationship.weight']\n",
      "- This IS expected if you are initializing BertModel from the checkpoint of a model trained on another task or with another architecture (e.g. initializing a BertForSequenceClassification model from a BertForPreTraining model).\n",
      "- This IS NOT expected if you are initializing BertModel from the checkpoint of a model that you expect to be exactly identical (initializing a BertForSequenceClassification model from a BertForSequenceClassification model).\n"
     ]
    }
   ],
   "source": [
    "from transformers import AutoConfig, AutoModel, AutoTokenizer\n",
    "\n",
    "model_name = \"bert-base-uncased\"\n",
    "config = AutoConfig.from_pretrained(model_name)\n",
    "tokenizer = AutoTokenizer.from_pretrained(model_name)\n",
    "model = AutoModel.from_pretrained(model_name, config=config)"
   ]
  },
  {
   "cell_type": "code",
   "execution_count": 10,
   "metadata": {},
   "outputs": [
    {
     "name": "stdout",
     "output_type": "stream",
     "text": [
      "Loading bert-base-uncased ...\n",
      "bert-base-uncased loaded\n"
     ]
    }
   ],
   "source": [
    "print(\"Loading \"+model_name+\" ...\")\n",
    "if torch.cuda.is_available():\n",
    "    device = torch.device(\"cuda:0\")\n",
    "    model.to(device)\n",
    "    print(model_name+\" loaded\")"
   ]
  },
  {
   "cell_type": "code",
   "execution_count": 12,
   "metadata": {},
   "outputs": [
    {
     "name": "stdout",
     "output_type": "stream",
     "text": [
      "People have been moving back into downtown\n",
      "['people', 'have', 'been', 'moving', 'back', 'into', 'downtown']\n",
      "{'input_ids': tensor([[2111, 2031, 2042, 3048, 2067, 2046, 5116]]), 'token_type_ids': tensor([[0, 0, 0, 0, 0, 0, 0]]), 'attention_mask': tensor([[1, 1, 1, 1, 1, 1, 1]])}\n",
      "{'input_ids': tensor([[ 101, 2111, 2031, 2042, 3048, 2067, 2046, 5116,  102]]), 'token_type_ids': tensor([[0, 0, 0, 0, 0, 0, 0, 0, 0]]), 'attention_mask': tensor([[1, 1, 1, 1, 1, 1, 1, 1, 1]])}\n"
     ]
    }
   ],
   "source": [
    "i = 7\n",
    "sent = df_train['Phrase'][i]\n",
    "print(sent)\n",
    "tokens = tokenizer.tokenize(sent)\n",
    "print(tokens)\n",
    "tokens_ids = tokenizer(sent, add_special_tokens=False, return_tensors=\"pt\")\n",
    "print(tokens_ids)\n",
    "\n",
    "tokens_ids = tokenizer(sent, add_special_tokens=True, return_tensors=\"pt\")\n",
    "print(tokens_ids)"
   ]
  },
  {
   "cell_type": "code",
   "execution_count": 13,
   "metadata": {},
   "outputs": [],
   "source": [
    "input = tokens_ids['input_ids'].to(device) \n",
    "att_mask = tokens_ids['attention_mask'].to(device) \n",
    "with torch.no_grad():\n",
    "    last_hidden_states = model(input, attention_mask=att_mask)\n",
    "input = input.detach().cpu()\n",
    "att_mask = att_mask.detach().cpu()\n",
    "emb = last_hidden_states[0][0,0,:].detach().cpu()"
   ]
  },
  {
   "cell_type": "code",
   "execution_count": null,
   "metadata": {},
   "outputs": [],
   "source": [
    "last_hidden_states"
   ]
  },
  {
   "cell_type": "code",
   "execution_count": 15,
   "metadata": {},
   "outputs": [
    {
     "data": {
      "text/plain": [
       "torch.Size([1, 9, 768])"
      ]
     },
     "execution_count": 15,
     "metadata": {},
     "output_type": "execute_result"
    }
   ],
   "source": [
    "last_hidden_states[0].shape"
   ]
  },
  {
   "cell_type": "code",
   "execution_count": 17,
   "metadata": {},
   "outputs": [
    {
     "data": {
      "text/plain": [
       "torch.Size([768])"
      ]
     },
     "execution_count": 17,
     "metadata": {},
     "output_type": "execute_result"
    }
   ],
   "source": [
    "emb.shape"
   ]
  },
  {
   "cell_type": "code",
   "execution_count": null,
   "metadata": {},
   "outputs": [],
   "source": [
    "def gen_tokens_mask(df, tokenizer):\n",
    "    phrases_list = [elem for elem in df['Phrase']]\n",
    "    tokenized = []\n",
    "    for i, doc in enumerate(tqdm(phrases_list, desc='generating tokens')):\n",
    "        tokenized.append(tokenizer(doc, add_special_tokens=True, return_tensors=\"pt\"))\n",
    "\n",
    "    return tokenized\n",
    "\n",
    "tokenized_train = gen_tokens_mask(df_train, tokenizer)\n",
    "tokenized_val = gen_tokens_mask(df_val, tokenizer)\n",
    "tokenized_test = gen_tokens_mask(df_test, tokenizer)\n",
    "\n",
    "def gen_embeddings_doc(tok_attention_mask, model, device):\n",
    "    phrase_embeddings = []\n",
    "    for i in tqdm(range(len(tok_attention_mask)), desc='gen embeddings phrases'): # for sentence\n",
    "        input = torch.tensor(np.array(tok_attention_mask[i]['input_ids'])).to(device) \n",
    "        att_mask = torch.tensor(np.array(tok_attention_mask[i]['attention_mask'])).to(device) \n",
    "        with torch.no_grad():\n",
    "            last_hidden_states = model(input, attention_mask=att_mask)\n",
    "        input = input.detach().cpu()\n",
    "        att_mask = att_mask.detach().cpu()\n",
    "        emb = last_hidden_states[0][0,0,:].detach().cpu()\n",
    "        phrase_embeddings.append(emb)\n",
    "    \n",
    "    return torch.stack(phrase_embeddings)\n",
    "\n",
    "embeddings_train = gen_embeddings_doc(tokenized_train, model, device)\n",
    "embeddings_val = gen_embeddings_doc(tokenized_val, model, device)\n",
    "embeddings_test = gen_embeddings_doc(tokenized_test, model, device)"
   ]
  }
 ],
 "metadata": {
  "kernelspec": {
   "display_name": "NLPenv",
   "language": "python",
   "name": "python3"
  },
  "language_info": {
   "codemirror_mode": {
    "name": "ipython",
    "version": 3
   },
   "file_extension": ".py",
   "mimetype": "text/x-python",
   "name": "python",
   "nbconvert_exporter": "python",
   "pygments_lexer": "ipython3",
   "version": "3.7.11 (default, Jul 27 2021, 14:32:16) \n[GCC 7.5.0]"
  },
  "orig_nbformat": 4,
  "vscode": {
   "interpreter": {
    "hash": "061448e7adbb17b76f973e82ffc9480264f4afb56d4e5f7841a3e51b709e605b"
   }
  }
 },
 "nbformat": 4,
 "nbformat_minor": 2
}
