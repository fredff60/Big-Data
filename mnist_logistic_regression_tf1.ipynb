{
 "cells": [
  {
   "cell_type": "code",
   "execution_count": 1,
   "metadata": {},
   "outputs": [],
   "source": [
    "# Creiamo un regressore logistico per classificare le cifre MNIST usando\n",
    "# a pieno TF 1 e il concetto di grafo delle operazioni e di sessione\n",
    "\n",
    "import tensorflow.compat.v1 as tf # evitiamo le continue richieste di usare tf.compat.v1.*\n",
    "from tensorflow import keras\n",
    "import numpy as np\n",
    "from tqdm import trange\n",
    "import os\n",
    "# Non abilitiamo la eager execution: useremo il grafo di computazione e la tf.Session\n",
    "# tf.compat.v1.enable_eager_execution()\n",
    "\n",
    "# log dei messaggi solo  per gli errori\n",
    "os.environ[\"TF_CPP_MIN_LOG_LEVEL\"] = \"2\"\n",
    "\n",
    "# percorso di salvataggio dei pesi e dei log per tensorboard\n",
    "model_dir = '/home/rpirrone/tf1.15/mnist_logistic_regression'\n",
    "\n",
    "save_path = os.path.join(model_dir,'weights','epoch_')"
   ]
  },
  {
   "cell_type": "code",
   "execution_count": 2,
   "metadata": {},
   "outputs": [],
   "source": [
    "# Importiamo il dataset\n",
    "(x_train, y_train), (x_test, y_test) = keras.datasets.mnist.load_data()\n",
    "\n",
    "# Creiamo la struttura del data set per l'addestramento del modello\n",
    "def process_input_data(x_train, y_train, x_test):\n",
    "    \n",
    "    # stimiamo il numero delle classi e delle feature per creare un vettore monodimensionale\n",
    "\n",
    "    num_classes = y_train.max()+1 # le classi hanno etichette numeriche da 0 a num_classes - 1\n",
    "\n",
    "    num_features = 1\n",
    "    \n",
    "    for dim in x_train[0].shape:\n",
    "        num_features *= dim     # le feature sono il prodotto delle dimensioni dell'immagine campione\n",
    "        \n",
    "    # Convertiamo in float32.\n",
    "\n",
    "    x_train, x_test = np.array(x_train, np.float32), np.array(x_test, np.float32)\n",
    "\n",
    "    # Convertiamo le immagini con shape (28,28) in un vettore monodimensionale di 784 elementi (Flattening)\n",
    "\n",
    "    x_train, x_test = x_train.reshape([-1, num_features]), x_test.reshape([-1, num_features])\n",
    "\n",
    "    # Creiamo l'embedding numerico ovvero la rappresentazione come reali in [0,1]\n",
    "\n",
    "    x_train, x_test = x_train / 255., x_test / 255.\n",
    "        \n",
    "    # il vero Dataset TF è ottenuto per trasformazione di una serie di 'slice' di un tensore\n",
    "    # ovvero una serie di immagini in una sequenza organizzata come una matrice 3D\n",
    "    train_data=tf.data.Dataset.from_tensor_slices((x_train,y_train))\n",
    "    \n",
    "    return (num_classes, num_features, train_data, x_train, x_test)\n"
   ]
  },
  {
   "cell_type": "code",
   "execution_count": 3,
   "metadata": {},
   "outputs": [],
   "source": [
    "def train_logistic_regression(x_train, y_train, x_test, y_test,\\\n",
    "    shuffle=50000,\\\n",
    "    epochs=100,\\\n",
    "    save_steps=10,\\\n",
    "    learning_rate=0.01,\\\n",
    "    batch_size=128,\\\n",
    "    momentum=0.9,\\\n",
    "    nesterov=True):\n",
    "    \n",
    "    #\n",
    "    # Pipeline di costruzione del data set\n",
    "    #\n",
    "    print('Building the data set ...',end=' ')\n",
    "    \n",
    "    # Eseguiamo il preprocessing del data set su CPU e lasciamo il reesto della computazione su GPU\n",
    "    with tf.device('CPU:0'):\n",
    "        num_classes, num_features, train_data, x_train, x_test = process_input_data(x_train, y_train, x_test)\n",
    "        \n",
    "        # Processing del data set: ripetizione indefinita dei campioni, shuffling e impostazione della dimensione\n",
    "        # dei batch; impostazione del numero di batch già caricati in memoria quando si itera sul data set\n",
    "        train_data = (train_data.repeat()\\\n",
    "                                .shuffle(shuffle)\\\n",
    "                                .batch(batch_size)\\\n",
    "                                .prefetch(tf.data.experimental.AUTOTUNE))\n",
    "\n",
    "    # Creiamo l'iteratore sul data set per scorrere i batch\n",
    "    # inisieme alla sua operazione di next e all'inizializzatore\n",
    "    iterator = train_data.make_initializable_iterator()\n",
    "    next_element = iterator.get_next()\n",
    "    iterator_init_op = iterator.initializer\n",
    "    \n",
    "    print('Done!\\n')\n",
    "    \n",
    "    #\n",
    "    # Costruzione del modello e delle metriche di valutazione\n",
    "    # \n",
    "    print('Building the model graph ...',end=' ')\n",
    "    \n",
    "    # definiamo il nodo di bias inizializzato a 0\n",
    "    b = tf.Variable(tf.zeros([num_classes]), name='bias')\n",
    "\n",
    "    # definiamo il nodo della matrice pesi 'W' inizializzata randomicamente tra -1 e 1\n",
    "    W = tf.Variable(tf.random_uniform((num_features, num_classes),minval=-1.0,maxval=1.0), name='weight')\n",
    "    \n",
    "    # Placeholder per il batch di ingresso e delle etichette di uscita\n",
    "    x = tf.placeholder(tf.float32, shape=(None,num_features))\n",
    "    y = tf.placeholder(tf.int64, shape=(None,))\n",
    "    \n",
    "    # Inizializzazione delle variabili globali del grafo\n",
    "    global_init_op = tf.global_variables_initializer()\n",
    "    \n",
    "    # predizioni della regressione logistica: log-probabilità non scalate \n",
    "    logit = tf.matmul(x, W) + b\n",
    "    \n",
    "    # loss per singolo batch: cross-entropia multi classe\n",
    "    loss = tf.reduce_mean(tf.nn.softmax_cross_entropy_with_logits_v2(labels=tf.stop_gradient(tf.one_hot(y,depth=num_classes))\\\n",
    "                                                                    ,logits=logit))\n",
    "    \n",
    "    # Definizione delle metriche\n",
    "    with (tf.variable_scope('metrics')):\n",
    "        mean_acc, mean_acc_op = tf.metrics.accuracy(labels=tf.argmax(tf.one_hot(y,depth=num_classes),1),\\\n",
    "                                                    predictions=tf.argmax(tf.nn.softmax(logit),1))\n",
    "        mean_loss, mean_loss_op = tf.metrics.mean(loss)\n",
    "\n",
    "    # Operazione di aggiornamento delle metriche\n",
    "    update_metrics_op = tf.group(*[mean_acc_op, mean_loss_op])\n",
    "\n",
    "    # Inizializzazione delle variabili locali delle metriche\n",
    "    metric_variables = tf.get_collection(tf.GraphKeys.LOCAL_VARIABLES, scope=\"metrics\")\n",
    "    metrics_init_op = tf.variables_initializer(metric_variables)\n",
    "\n",
    "    print('Done!\\n')\n",
    "\n",
    "    #\n",
    "    # Ottimizzatore, step di addestramento e relativa inizializzazione\n",
    "    #\n",
    "    print('Setting up the optimizer ...',end=' ')\n",
    "    \n",
    "    optimizer = tf.train.MomentumOptimizer(learning_rate=learning_rate,use_nesterov=nesterov,momentum=momentum)\n",
    "    train_op = optimizer.minimize(loss)\n",
    "    train_init_op = tf.variables_initializer(optimizer.variables())\n",
    "    \n",
    "    print('Done!\\n')\n",
    "    \n",
    "    #\n",
    "    # Saver del modello e summary per tensorboard\n",
    "    #\n",
    "    print('Creating saver and summaries ...',end=' ')\n",
    "    \n",
    "    # definizione dei summary\n",
    "    tf.summary.scalar('loss', mean_loss)\n",
    "    tf.summary.scalar('accuracy', mean_acc)\n",
    "    \n",
    "    summary_op = tf.summary.merge_all()\n",
    "    \n",
    "    # Saver\n",
    "    saver = tf.train.Saver()\n",
    "    \n",
    "    print('Done!\\n')\n",
    "    \n",
    "    #\n",
    "    # Addestramento e valutazione del modello\n",
    "    #\n",
    "    \n",
    "    print('---- Start training ----\\n')\n",
    "    with tf.Session(config=tf.ConfigProto(allow_soft_placement=True)) as sess:\n",
    "        \n",
    "        # Creazione dei writer per tensorboard\n",
    "        train_writer = tf.summary.FileWriter(os.path.join(model_dir, 'train_summaries'), sess.graph)\n",
    "        eval_writer = tf.summary.FileWriter(os.path.join(model_dir, 'eval_summaries'), sess.graph)\n",
    "\n",
    "        # Definizione del numero di batch arrotondato all'intero successivo\n",
    "        num_batches = x_train.shape[0]//batch_size + 1\n",
    "        \n",
    "        print('Global init operations ...',end=' ')\n",
    "        \n",
    "        # Operazioni di inizializzazione globali\n",
    "        sess.run([global_init_op,train_init_op])\n",
    "        \n",
    "        print('Done!\\n')\n",
    "               \n",
    "        for epoch in range(1,epochs + 1):\n",
    "\n",
    "            # Progress bar\n",
    "            t = trange(num_batches)\n",
    "            t.set_description(desc='Epoch {:4d}'.format(epoch))\n",
    "            \n",
    "            # Inizializzazione dell'iteratore sul data set e delle metriche di valutazione del training\n",
    "            sess.run([iterator_init_op,metrics_init_op])\n",
    "            \n",
    "            for _ in t:\n",
    "                \n",
    "                # prendiamo un batch\n",
    "                batch_x, batch_y = sess.run(next_element)\n",
    "                \n",
    "                # addestriamo, aggiorniamo le metriche e calcoliamo la loss\n",
    "                _, _, loss_val = sess.run([train_op, update_metrics_op, loss],feed_dict={x: batch_x, y: batch_y})\n",
    "                \n",
    "            # Salvataggio del modello ogni save_steps epoche\n",
    "            if epoch % save_steps == 0:\n",
    "                saver.save(sess,save_path,global_step=epoch)\n",
    "                \n",
    "            # Valutazione dell'epoca di addestramento\n",
    "            mean_acc_val, mean_loss_val = sess.run([mean_acc, mean_loss])\n",
    "            out_string = '----Train metrics: accuracy: {:5.3f}; loss: {:5.3f}\\n'.format(mean_acc_val, mean_loss_val)\n",
    "            \n",
    "            # salvataggio per tensorboard\n",
    "            summ = sess.run(summary_op)\n",
    "            train_writer.add_summary(summ,global_step=epoch)\n",
    "            \n",
    "            # Valutazione sul test set\n",
    "            sess.run(metrics_init_op)\n",
    "            \n",
    "            sess.run(update_metrics_op,feed_dict={x: x_test, y: y_test})\n",
    "            mean_acc_val, mean_loss_val = sess.run([mean_acc, mean_loss])\n",
    "            out_string += '----Eval. metrics: accuracy: {:5.3f}; loss: {:5.3f}\\n'.format(mean_acc_val, mean_loss_val)\n",
    "            \n",
    "            # salvataggio per tensorboard\n",
    "            summ = sess.run(summary_op)\n",
    "            eval_writer.add_summary(summ,global_step=epoch)\n",
    "            \n",
    "            print(out_string)"
   ]
  },
  {
   "cell_type": "code",
   "execution_count": 4,
   "metadata": {},
   "outputs": [
    {
     "name": "stdout",
     "output_type": "stream",
     "text": [
      "Building the data set ... WARNING:tensorflow:From /tmp/ipykernel_23045/4184321682.py:28: DatasetV1.make_initializable_iterator (from tensorflow.python.data.ops.dataset_ops) is deprecated and will be removed in a future version.\n",
      "Instructions for updating:\n",
      "Use `for ... in dataset:` to iterate over a dataset. If using `tf.estimator`, return the `Dataset` object directly from your input function. As a last resort, you can use `tf.compat.v1.data.make_initializable_iterator(dataset)`.\n",
      "Done!\n",
      "\n",
      "Building the model graph ... Done!\n",
      "\n",
      "Setting up the optimizer ... Done!\n",
      "\n",
      "Creating saver and summaries ... Done!\n",
      "\n",
      "---- Start training ----\n",
      "\n",
      "Global init operations ... Done!\n",
      "\n"
     ]
    },
    {
     "name": "stderr",
     "output_type": "stream",
     "text": [
      "Epoch    1: 100%|██████████| 469/469 [00:04<00:00, 107.62it/s]\n"
     ]
    },
    {
     "name": "stdout",
     "output_type": "stream",
     "text": [
      "----Train metrics: accuracy: 0.642; loss: 1.596\n",
      "----Eval. metrics: accuracy: 0.801; loss: 0.726\n",
      "\n"
     ]
    },
    {
     "name": "stderr",
     "output_type": "stream",
     "text": [
      "Epoch    2: 100%|██████████| 469/469 [00:01<00:00, 244.06it/s]\n"
     ]
    },
    {
     "name": "stdout",
     "output_type": "stream",
     "text": [
      "----Train metrics: accuracy: 0.817; loss: 0.658\n",
      "----Eval. metrics: accuracy: 0.843; loss: 0.561\n",
      "\n"
     ]
    },
    {
     "name": "stderr",
     "output_type": "stream",
     "text": [
      "Epoch    3: 100%|██████████| 469/469 [00:01<00:00, 244.19it/s]\n"
     ]
    },
    {
     "name": "stdout",
     "output_type": "stream",
     "text": [
      "----Train metrics: accuracy: 0.849; loss: 0.545\n",
      "----Eval. metrics: accuracy: 0.861; loss: 0.495\n",
      "\n"
     ]
    },
    {
     "name": "stderr",
     "output_type": "stream",
     "text": [
      "Epoch    4: 100%|██████████| 469/469 [00:01<00:00, 259.83it/s]\n"
     ]
    },
    {
     "name": "stdout",
     "output_type": "stream",
     "text": [
      "----Train metrics: accuracy: 0.863; loss: 0.494\n",
      "----Eval. metrics: accuracy: 0.872; loss: 0.457\n",
      "\n"
     ]
    },
    {
     "name": "stderr",
     "output_type": "stream",
     "text": [
      "Epoch    5: 100%|██████████| 469/469 [00:01<00:00, 253.74it/s]\n"
     ]
    },
    {
     "name": "stdout",
     "output_type": "stream",
     "text": [
      "----Train metrics: accuracy: 0.875; loss: 0.452\n",
      "----Eval. metrics: accuracy: 0.879; loss: 0.429\n",
      "\n"
     ]
    },
    {
     "name": "stderr",
     "output_type": "stream",
     "text": [
      "Epoch    6: 100%|██████████| 469/469 [00:01<00:00, 247.68it/s]\n"
     ]
    },
    {
     "name": "stdout",
     "output_type": "stream",
     "text": [
      "----Train metrics: accuracy: 0.880; loss: 0.432\n",
      "----Eval. metrics: accuracy: 0.884; loss: 0.412\n",
      "\n"
     ]
    },
    {
     "name": "stderr",
     "output_type": "stream",
     "text": [
      "Epoch    7: 100%|██████████| 469/469 [00:01<00:00, 273.93it/s]\n"
     ]
    },
    {
     "name": "stdout",
     "output_type": "stream",
     "text": [
      "----Train metrics: accuracy: 0.883; loss: 0.416\n",
      "----Eval. metrics: accuracy: 0.890; loss: 0.396\n",
      "\n"
     ]
    },
    {
     "name": "stderr",
     "output_type": "stream",
     "text": [
      "Epoch    8: 100%|██████████| 469/469 [00:01<00:00, 246.69it/s]\n"
     ]
    },
    {
     "name": "stdout",
     "output_type": "stream",
     "text": [
      "----Train metrics: accuracy: 0.889; loss: 0.398\n",
      "----Eval. metrics: accuracy: 0.894; loss: 0.384\n",
      "\n"
     ]
    },
    {
     "name": "stderr",
     "output_type": "stream",
     "text": [
      "Epoch    9: 100%|██████████| 469/469 [00:01<00:00, 234.54it/s]\n"
     ]
    },
    {
     "name": "stdout",
     "output_type": "stream",
     "text": [
      "----Train metrics: accuracy: 0.894; loss: 0.384\n",
      "----Eval. metrics: accuracy: 0.896; loss: 0.374\n",
      "\n"
     ]
    },
    {
     "name": "stderr",
     "output_type": "stream",
     "text": [
      "Epoch   10: 100%|██████████| 469/469 [00:02<00:00, 224.52it/s]\n"
     ]
    },
    {
     "name": "stdout",
     "output_type": "stream",
     "text": [
      "----Train metrics: accuracy: 0.894; loss: 0.380\n",
      "----Eval. metrics: accuracy: 0.898; loss: 0.368\n",
      "\n"
     ]
    },
    {
     "name": "stderr",
     "output_type": "stream",
     "text": [
      "Epoch   11: 100%|██████████| 469/469 [00:01<00:00, 236.60it/s]\n"
     ]
    },
    {
     "name": "stdout",
     "output_type": "stream",
     "text": [
      "----Train metrics: accuracy: 0.897; loss: 0.366\n",
      "----Eval. metrics: accuracy: 0.901; loss: 0.363\n",
      "\n"
     ]
    },
    {
     "name": "stderr",
     "output_type": "stream",
     "text": [
      "Epoch   12: 100%|██████████| 469/469 [00:01<00:00, 262.48it/s]\n"
     ]
    },
    {
     "name": "stdout",
     "output_type": "stream",
     "text": [
      "----Train metrics: accuracy: 0.898; loss: 0.361\n",
      "----Eval. metrics: accuracy: 0.903; loss: 0.356\n",
      "\n"
     ]
    },
    {
     "name": "stderr",
     "output_type": "stream",
     "text": [
      "Epoch   13: 100%|██████████| 469/469 [00:02<00:00, 233.24it/s]\n"
     ]
    },
    {
     "name": "stdout",
     "output_type": "stream",
     "text": [
      "----Train metrics: accuracy: 0.901; loss: 0.358\n",
      "----Eval. metrics: accuracy: 0.905; loss: 0.350\n",
      "\n"
     ]
    },
    {
     "name": "stderr",
     "output_type": "stream",
     "text": [
      "Epoch   14: 100%|██████████| 469/469 [00:01<00:00, 236.36it/s]\n"
     ]
    },
    {
     "name": "stdout",
     "output_type": "stream",
     "text": [
      "----Train metrics: accuracy: 0.903; loss: 0.344\n",
      "----Eval. metrics: accuracy: 0.905; loss: 0.347\n",
      "\n"
     ]
    },
    {
     "name": "stderr",
     "output_type": "stream",
     "text": [
      "Epoch   15: 100%|██████████| 469/469 [00:02<00:00, 234.26it/s]\n"
     ]
    },
    {
     "name": "stdout",
     "output_type": "stream",
     "text": [
      "----Train metrics: accuracy: 0.902; loss: 0.348\n",
      "----Eval. metrics: accuracy: 0.908; loss: 0.341\n",
      "\n"
     ]
    },
    {
     "name": "stderr",
     "output_type": "stream",
     "text": [
      "Epoch   16: 100%|██████████| 469/469 [00:01<00:00, 243.83it/s]\n"
     ]
    },
    {
     "name": "stdout",
     "output_type": "stream",
     "text": [
      "----Train metrics: accuracy: 0.903; loss: 0.341\n",
      "----Eval. metrics: accuracy: 0.908; loss: 0.338\n",
      "\n"
     ]
    },
    {
     "name": "stderr",
     "output_type": "stream",
     "text": [
      "Epoch   17: 100%|██████████| 469/469 [00:02<00:00, 232.40it/s]\n"
     ]
    },
    {
     "name": "stdout",
     "output_type": "stream",
     "text": [
      "----Train metrics: accuracy: 0.905; loss: 0.336\n",
      "----Eval. metrics: accuracy: 0.909; loss: 0.334\n",
      "\n"
     ]
    },
    {
     "name": "stderr",
     "output_type": "stream",
     "text": [
      "Epoch   18: 100%|██████████| 469/469 [00:01<00:00, 248.24it/s]\n"
     ]
    },
    {
     "name": "stdout",
     "output_type": "stream",
     "text": [
      "----Train metrics: accuracy: 0.908; loss: 0.330\n",
      "----Eval. metrics: accuracy: 0.909; loss: 0.332\n",
      "\n"
     ]
    },
    {
     "name": "stderr",
     "output_type": "stream",
     "text": [
      "Epoch   19: 100%|██████████| 469/469 [00:01<00:00, 250.53it/s]\n"
     ]
    },
    {
     "name": "stdout",
     "output_type": "stream",
     "text": [
      "----Train metrics: accuracy: 0.909; loss: 0.326\n",
      "----Eval. metrics: accuracy: 0.909; loss: 0.328\n",
      "\n"
     ]
    },
    {
     "name": "stderr",
     "output_type": "stream",
     "text": [
      "Epoch   20: 100%|██████████| 469/469 [00:01<00:00, 240.64it/s]\n"
     ]
    },
    {
     "name": "stdout",
     "output_type": "stream",
     "text": [
      "----Train metrics: accuracy: 0.910; loss: 0.324\n",
      "----Eval. metrics: accuracy: 0.910; loss: 0.327\n",
      "\n"
     ]
    },
    {
     "name": "stderr",
     "output_type": "stream",
     "text": [
      "Epoch   21: 100%|██████████| 469/469 [00:01<00:00, 258.30it/s]\n"
     ]
    },
    {
     "name": "stdout",
     "output_type": "stream",
     "text": [
      "----Train metrics: accuracy: 0.910; loss: 0.321\n",
      "----Eval. metrics: accuracy: 0.910; loss: 0.324\n",
      "\n"
     ]
    },
    {
     "name": "stderr",
     "output_type": "stream",
     "text": [
      "Epoch   22: 100%|██████████| 469/469 [00:01<00:00, 260.50it/s]\n"
     ]
    },
    {
     "name": "stdout",
     "output_type": "stream",
     "text": [
      "----Train metrics: accuracy: 0.911; loss: 0.315\n",
      "----Eval. metrics: accuracy: 0.911; loss: 0.322\n",
      "\n"
     ]
    },
    {
     "name": "stderr",
     "output_type": "stream",
     "text": [
      "Epoch   23: 100%|██████████| 469/469 [00:01<00:00, 260.96it/s]\n"
     ]
    },
    {
     "name": "stdout",
     "output_type": "stream",
     "text": [
      "----Train metrics: accuracy: 0.913; loss: 0.313\n",
      "----Eval. metrics: accuracy: 0.912; loss: 0.320\n",
      "\n"
     ]
    },
    {
     "name": "stderr",
     "output_type": "stream",
     "text": [
      "Epoch   24: 100%|██████████| 469/469 [00:01<00:00, 282.92it/s]\n"
     ]
    },
    {
     "name": "stdout",
     "output_type": "stream",
     "text": [
      "----Train metrics: accuracy: 0.912; loss: 0.313\n",
      "----Eval. metrics: accuracy: 0.913; loss: 0.319\n",
      "\n"
     ]
    },
    {
     "name": "stderr",
     "output_type": "stream",
     "text": [
      "Epoch   25: 100%|██████████| 469/469 [00:01<00:00, 263.92it/s]\n"
     ]
    },
    {
     "name": "stdout",
     "output_type": "stream",
     "text": [
      "----Train metrics: accuracy: 0.913; loss: 0.310\n",
      "----Eval. metrics: accuracy: 0.912; loss: 0.317\n",
      "\n"
     ]
    },
    {
     "name": "stderr",
     "output_type": "stream",
     "text": [
      "Epoch   26: 100%|██████████| 469/469 [00:01<00:00, 283.09it/s]\n"
     ]
    },
    {
     "name": "stdout",
     "output_type": "stream",
     "text": [
      "----Train metrics: accuracy: 0.913; loss: 0.311\n",
      "----Eval. metrics: accuracy: 0.912; loss: 0.315\n",
      "\n"
     ]
    },
    {
     "name": "stderr",
     "output_type": "stream",
     "text": [
      "Epoch   27: 100%|██████████| 469/469 [00:01<00:00, 268.16it/s]\n"
     ]
    },
    {
     "name": "stdout",
     "output_type": "stream",
     "text": [
      "----Train metrics: accuracy: 0.915; loss: 0.308\n",
      "----Eval. metrics: accuracy: 0.913; loss: 0.316\n",
      "\n"
     ]
    },
    {
     "name": "stderr",
     "output_type": "stream",
     "text": [
      "Epoch   28: 100%|██████████| 469/469 [00:01<00:00, 276.31it/s]\n"
     ]
    },
    {
     "name": "stdout",
     "output_type": "stream",
     "text": [
      "----Train metrics: accuracy: 0.914; loss: 0.308\n",
      "----Eval. metrics: accuracy: 0.914; loss: 0.313\n",
      "\n"
     ]
    },
    {
     "name": "stderr",
     "output_type": "stream",
     "text": [
      "Epoch   29: 100%|██████████| 469/469 [00:01<00:00, 253.57it/s]\n"
     ]
    },
    {
     "name": "stdout",
     "output_type": "stream",
     "text": [
      "----Train metrics: accuracy: 0.915; loss: 0.302\n",
      "----Eval. metrics: accuracy: 0.914; loss: 0.310\n",
      "\n"
     ]
    },
    {
     "name": "stderr",
     "output_type": "stream",
     "text": [
      "Epoch   30: 100%|██████████| 469/469 [00:01<00:00, 259.66it/s]\n"
     ]
    },
    {
     "name": "stdout",
     "output_type": "stream",
     "text": [
      "----Train metrics: accuracy: 0.915; loss: 0.304\n",
      "----Eval. metrics: accuracy: 0.914; loss: 0.310\n",
      "\n"
     ]
    },
    {
     "name": "stderr",
     "output_type": "stream",
     "text": [
      "Epoch   31: 100%|██████████| 469/469 [00:01<00:00, 274.49it/s]\n"
     ]
    },
    {
     "name": "stdout",
     "output_type": "stream",
     "text": [
      "----Train metrics: accuracy: 0.916; loss: 0.298\n",
      "----Eval. metrics: accuracy: 0.915; loss: 0.307\n",
      "\n"
     ]
    },
    {
     "name": "stderr",
     "output_type": "stream",
     "text": [
      "Epoch   32: 100%|██████████| 469/469 [00:01<00:00, 272.76it/s]\n"
     ]
    },
    {
     "name": "stdout",
     "output_type": "stream",
     "text": [
      "----Train metrics: accuracy: 0.916; loss: 0.299\n",
      "----Eval. metrics: accuracy: 0.915; loss: 0.306\n",
      "\n"
     ]
    },
    {
     "name": "stderr",
     "output_type": "stream",
     "text": [
      "Epoch   33: 100%|██████████| 469/469 [00:01<00:00, 265.41it/s]\n"
     ]
    },
    {
     "name": "stdout",
     "output_type": "stream",
     "text": [
      "----Train metrics: accuracy: 0.917; loss: 0.299\n",
      "----Eval. metrics: accuracy: 0.914; loss: 0.306\n",
      "\n"
     ]
    },
    {
     "name": "stderr",
     "output_type": "stream",
     "text": [
      "Epoch   34: 100%|██████████| 469/469 [00:01<00:00, 260.09it/s]\n"
     ]
    },
    {
     "name": "stdout",
     "output_type": "stream",
     "text": [
      "----Train metrics: accuracy: 0.917; loss: 0.299\n",
      "----Eval. metrics: accuracy: 0.917; loss: 0.305\n",
      "\n"
     ]
    },
    {
     "name": "stderr",
     "output_type": "stream",
     "text": [
      "Epoch   35: 100%|██████████| 469/469 [00:01<00:00, 262.16it/s]\n"
     ]
    },
    {
     "name": "stdout",
     "output_type": "stream",
     "text": [
      "----Train metrics: accuracy: 0.918; loss: 0.295\n",
      "----Eval. metrics: accuracy: 0.915; loss: 0.305\n",
      "\n"
     ]
    },
    {
     "name": "stderr",
     "output_type": "stream",
     "text": [
      "Epoch   36: 100%|██████████| 469/469 [00:01<00:00, 272.42it/s]\n"
     ]
    },
    {
     "name": "stdout",
     "output_type": "stream",
     "text": [
      "----Train metrics: accuracy: 0.919; loss: 0.290\n",
      "----Eval. metrics: accuracy: 0.915; loss: 0.305\n",
      "\n"
     ]
    },
    {
     "name": "stderr",
     "output_type": "stream",
     "text": [
      "Epoch   37: 100%|██████████| 469/469 [00:01<00:00, 266.00it/s]\n"
     ]
    },
    {
     "name": "stdout",
     "output_type": "stream",
     "text": [
      "----Train metrics: accuracy: 0.920; loss: 0.286\n",
      "----Eval. metrics: accuracy: 0.916; loss: 0.304\n",
      "\n"
     ]
    },
    {
     "name": "stderr",
     "output_type": "stream",
     "text": [
      "Epoch   38: 100%|██████████| 469/469 [00:01<00:00, 259.03it/s]\n"
     ]
    },
    {
     "name": "stdout",
     "output_type": "stream",
     "text": [
      "----Train metrics: accuracy: 0.920; loss: 0.289\n",
      "----Eval. metrics: accuracy: 0.916; loss: 0.303\n",
      "\n"
     ]
    },
    {
     "name": "stderr",
     "output_type": "stream",
     "text": [
      "Epoch   39: 100%|██████████| 469/469 [00:01<00:00, 259.87it/s]\n"
     ]
    },
    {
     "name": "stdout",
     "output_type": "stream",
     "text": [
      "----Train metrics: accuracy: 0.920; loss: 0.289\n",
      "----Eval. metrics: accuracy: 0.918; loss: 0.302\n",
      "\n"
     ]
    },
    {
     "name": "stderr",
     "output_type": "stream",
     "text": [
      "Epoch   40: 100%|██████████| 469/469 [00:01<00:00, 264.41it/s]\n"
     ]
    },
    {
     "name": "stdout",
     "output_type": "stream",
     "text": [
      "----Train metrics: accuracy: 0.920; loss: 0.289\n",
      "----Eval. metrics: accuracy: 0.918; loss: 0.300\n",
      "\n"
     ]
    },
    {
     "name": "stderr",
     "output_type": "stream",
     "text": [
      "Epoch   41: 100%|██████████| 469/469 [00:01<00:00, 255.48it/s]\n"
     ]
    },
    {
     "name": "stdout",
     "output_type": "stream",
     "text": [
      "----Train metrics: accuracy: 0.920; loss: 0.286\n",
      "----Eval. metrics: accuracy: 0.918; loss: 0.298\n",
      "\n"
     ]
    },
    {
     "name": "stderr",
     "output_type": "stream",
     "text": [
      "Epoch   42: 100%|██████████| 469/469 [00:01<00:00, 267.34it/s]\n"
     ]
    },
    {
     "name": "stdout",
     "output_type": "stream",
     "text": [
      "----Train metrics: accuracy: 0.920; loss: 0.286\n",
      "----Eval. metrics: accuracy: 0.918; loss: 0.298\n",
      "\n"
     ]
    },
    {
     "name": "stderr",
     "output_type": "stream",
     "text": [
      "Epoch   43: 100%|██████████| 469/469 [00:01<00:00, 272.07it/s]\n"
     ]
    },
    {
     "name": "stdout",
     "output_type": "stream",
     "text": [
      "----Train metrics: accuracy: 0.920; loss: 0.284\n",
      "----Eval. metrics: accuracy: 0.919; loss: 0.298\n",
      "\n"
     ]
    },
    {
     "name": "stderr",
     "output_type": "stream",
     "text": [
      "Epoch   44: 100%|██████████| 469/469 [00:01<00:00, 263.61it/s]\n"
     ]
    },
    {
     "name": "stdout",
     "output_type": "stream",
     "text": [
      "----Train metrics: accuracy: 0.921; loss: 0.287\n",
      "----Eval. metrics: accuracy: 0.919; loss: 0.298\n",
      "\n"
     ]
    },
    {
     "name": "stderr",
     "output_type": "stream",
     "text": [
      "Epoch   45: 100%|██████████| 469/469 [00:01<00:00, 265.85it/s]\n"
     ]
    },
    {
     "name": "stdout",
     "output_type": "stream",
     "text": [
      "----Train metrics: accuracy: 0.923; loss: 0.278\n",
      "----Eval. metrics: accuracy: 0.919; loss: 0.298\n",
      "\n"
     ]
    },
    {
     "name": "stderr",
     "output_type": "stream",
     "text": [
      "Epoch   46: 100%|██████████| 469/469 [00:01<00:00, 243.62it/s]\n"
     ]
    },
    {
     "name": "stdout",
     "output_type": "stream",
     "text": [
      "----Train metrics: accuracy: 0.921; loss: 0.283\n",
      "----Eval. metrics: accuracy: 0.918; loss: 0.297\n",
      "\n"
     ]
    },
    {
     "name": "stderr",
     "output_type": "stream",
     "text": [
      "Epoch   47: 100%|██████████| 469/469 [00:01<00:00, 254.41it/s]\n"
     ]
    },
    {
     "name": "stdout",
     "output_type": "stream",
     "text": [
      "----Train metrics: accuracy: 0.921; loss: 0.277\n",
      "----Eval. metrics: accuracy: 0.918; loss: 0.296\n",
      "\n"
     ]
    },
    {
     "name": "stderr",
     "output_type": "stream",
     "text": [
      "Epoch   48: 100%|██████████| 469/469 [00:01<00:00, 267.03it/s]\n"
     ]
    },
    {
     "name": "stdout",
     "output_type": "stream",
     "text": [
      "----Train metrics: accuracy: 0.922; loss: 0.281\n",
      "----Eval. metrics: accuracy: 0.918; loss: 0.295\n",
      "\n"
     ]
    },
    {
     "name": "stderr",
     "output_type": "stream",
     "text": [
      "Epoch   49: 100%|██████████| 469/469 [00:01<00:00, 253.54it/s]\n"
     ]
    },
    {
     "name": "stdout",
     "output_type": "stream",
     "text": [
      "----Train metrics: accuracy: 0.922; loss: 0.282\n",
      "----Eval. metrics: accuracy: 0.920; loss: 0.296\n",
      "\n"
     ]
    },
    {
     "name": "stderr",
     "output_type": "stream",
     "text": [
      "Epoch   50: 100%|██████████| 469/469 [00:01<00:00, 246.72it/s]\n"
     ]
    },
    {
     "name": "stdout",
     "output_type": "stream",
     "text": [
      "----Train metrics: accuracy: 0.923; loss: 0.279\n",
      "----Eval. metrics: accuracy: 0.919; loss: 0.294\n",
      "\n"
     ]
    },
    {
     "name": "stderr",
     "output_type": "stream",
     "text": [
      "Epoch   51: 100%|██████████| 469/469 [00:01<00:00, 250.94it/s]\n"
     ]
    },
    {
     "name": "stdout",
     "output_type": "stream",
     "text": [
      "----Train metrics: accuracy: 0.922; loss: 0.275\n",
      "----Eval. metrics: accuracy: 0.920; loss: 0.295\n",
      "\n"
     ]
    },
    {
     "name": "stderr",
     "output_type": "stream",
     "text": [
      "Epoch   52: 100%|██████████| 469/469 [00:01<00:00, 258.02it/s]\n"
     ]
    },
    {
     "name": "stdout",
     "output_type": "stream",
     "text": [
      "----Train metrics: accuracy: 0.923; loss: 0.277\n",
      "----Eval. metrics: accuracy: 0.919; loss: 0.295\n",
      "\n"
     ]
    },
    {
     "name": "stderr",
     "output_type": "stream",
     "text": [
      "Epoch   53: 100%|██████████| 469/469 [00:01<00:00, 285.05it/s]\n"
     ]
    },
    {
     "name": "stdout",
     "output_type": "stream",
     "text": [
      "----Train metrics: accuracy: 0.924; loss: 0.276\n",
      "----Eval. metrics: accuracy: 0.919; loss: 0.293\n",
      "\n"
     ]
    },
    {
     "name": "stderr",
     "output_type": "stream",
     "text": [
      "Epoch   54: 100%|██████████| 469/469 [00:01<00:00, 271.30it/s]\n"
     ]
    },
    {
     "name": "stdout",
     "output_type": "stream",
     "text": [
      "----Train metrics: accuracy: 0.924; loss: 0.273\n",
      "----Eval. metrics: accuracy: 0.920; loss: 0.293\n",
      "\n"
     ]
    },
    {
     "name": "stderr",
     "output_type": "stream",
     "text": [
      "Epoch   55: 100%|██████████| 469/469 [00:01<00:00, 257.47it/s]\n"
     ]
    },
    {
     "name": "stdout",
     "output_type": "stream",
     "text": [
      "----Train metrics: accuracy: 0.925; loss: 0.273\n",
      "----Eval. metrics: accuracy: 0.920; loss: 0.291\n",
      "\n"
     ]
    },
    {
     "name": "stderr",
     "output_type": "stream",
     "text": [
      "Epoch   56: 100%|██████████| 469/469 [00:01<00:00, 239.65it/s]\n"
     ]
    },
    {
     "name": "stdout",
     "output_type": "stream",
     "text": [
      "----Train metrics: accuracy: 0.925; loss: 0.274\n",
      "----Eval. metrics: accuracy: 0.920; loss: 0.290\n",
      "\n"
     ]
    },
    {
     "name": "stderr",
     "output_type": "stream",
     "text": [
      "Epoch   57: 100%|██████████| 469/469 [00:01<00:00, 238.57it/s]\n"
     ]
    },
    {
     "name": "stdout",
     "output_type": "stream",
     "text": [
      "----Train metrics: accuracy: 0.924; loss: 0.273\n",
      "----Eval. metrics: accuracy: 0.920; loss: 0.291\n",
      "\n"
     ]
    },
    {
     "name": "stderr",
     "output_type": "stream",
     "text": [
      "Epoch   58: 100%|██████████| 469/469 [00:01<00:00, 247.49it/s]\n"
     ]
    },
    {
     "name": "stdout",
     "output_type": "stream",
     "text": [
      "----Train metrics: accuracy: 0.923; loss: 0.278\n",
      "----Eval. metrics: accuracy: 0.921; loss: 0.291\n",
      "\n"
     ]
    },
    {
     "name": "stderr",
     "output_type": "stream",
     "text": [
      "Epoch   59: 100%|██████████| 469/469 [00:01<00:00, 264.03it/s]\n"
     ]
    },
    {
     "name": "stdout",
     "output_type": "stream",
     "text": [
      "----Train metrics: accuracy: 0.923; loss: 0.275\n",
      "----Eval. metrics: accuracy: 0.921; loss: 0.289\n",
      "\n"
     ]
    },
    {
     "name": "stderr",
     "output_type": "stream",
     "text": [
      "Epoch   60: 100%|██████████| 469/469 [00:01<00:00, 267.65it/s]"
     ]
    },
    {
     "name": "stdout",
     "output_type": "stream",
     "text": [
      "WARNING:tensorflow:From /home/rpirrone/virtualenvs/deeplearning/lib/python3.7/site-packages/tensorflow_core/python/training/saver.py:963: remove_checkpoint (from tensorflow.python.training.checkpoint_management) is deprecated and will be removed in a future version.\n",
      "Instructions for updating:\n",
      "Use standard file APIs to delete files with this prefix.\n"
     ]
    },
    {
     "name": "stderr",
     "output_type": "stream",
     "text": [
      "\n"
     ]
    },
    {
     "name": "stdout",
     "output_type": "stream",
     "text": [
      "----Train metrics: accuracy: 0.925; loss: 0.267\n",
      "----Eval. metrics: accuracy: 0.920; loss: 0.290\n",
      "\n"
     ]
    },
    {
     "name": "stderr",
     "output_type": "stream",
     "text": [
      "Epoch   61: 100%|██████████| 469/469 [00:01<00:00, 247.70it/s]\n"
     ]
    },
    {
     "name": "stdout",
     "output_type": "stream",
     "text": [
      "----Train metrics: accuracy: 0.925; loss: 0.272\n",
      "----Eval. metrics: accuracy: 0.921; loss: 0.291\n",
      "\n"
     ]
    },
    {
     "name": "stderr",
     "output_type": "stream",
     "text": [
      "Epoch   62: 100%|██████████| 469/469 [00:01<00:00, 261.53it/s]\n"
     ]
    },
    {
     "name": "stdout",
     "output_type": "stream",
     "text": [
      "----Train metrics: accuracy: 0.925; loss: 0.269\n",
      "----Eval. metrics: accuracy: 0.920; loss: 0.290\n",
      "\n"
     ]
    },
    {
     "name": "stderr",
     "output_type": "stream",
     "text": [
      "Epoch   63: 100%|██████████| 469/469 [00:01<00:00, 246.72it/s]\n"
     ]
    },
    {
     "name": "stdout",
     "output_type": "stream",
     "text": [
      "----Train metrics: accuracy: 0.924; loss: 0.270\n",
      "----Eval. metrics: accuracy: 0.921; loss: 0.288\n",
      "\n"
     ]
    },
    {
     "name": "stderr",
     "output_type": "stream",
     "text": [
      "Epoch   64: 100%|██████████| 469/469 [00:01<00:00, 253.07it/s]\n"
     ]
    },
    {
     "name": "stdout",
     "output_type": "stream",
     "text": [
      "----Train metrics: accuracy: 0.925; loss: 0.272\n",
      "----Eval. metrics: accuracy: 0.919; loss: 0.290\n",
      "\n"
     ]
    },
    {
     "name": "stderr",
     "output_type": "stream",
     "text": [
      "Epoch   65: 100%|██████████| 469/469 [00:02<00:00, 232.69it/s]\n"
     ]
    },
    {
     "name": "stdout",
     "output_type": "stream",
     "text": [
      "----Train metrics: accuracy: 0.926; loss: 0.267\n",
      "----Eval. metrics: accuracy: 0.920; loss: 0.290\n",
      "\n"
     ]
    },
    {
     "name": "stderr",
     "output_type": "stream",
     "text": [
      "Epoch   66: 100%|██████████| 469/469 [00:01<00:00, 249.81it/s]\n"
     ]
    },
    {
     "name": "stdout",
     "output_type": "stream",
     "text": [
      "----Train metrics: accuracy: 0.925; loss: 0.269\n",
      "----Eval. metrics: accuracy: 0.920; loss: 0.288\n",
      "\n"
     ]
    },
    {
     "name": "stderr",
     "output_type": "stream",
     "text": [
      "Epoch   67: 100%|██████████| 469/469 [00:01<00:00, 247.11it/s]\n"
     ]
    },
    {
     "name": "stdout",
     "output_type": "stream",
     "text": [
      "----Train metrics: accuracy: 0.926; loss: 0.266\n",
      "----Eval. metrics: accuracy: 0.920; loss: 0.289\n",
      "\n"
     ]
    },
    {
     "name": "stderr",
     "output_type": "stream",
     "text": [
      "Epoch   68: 100%|██████████| 469/469 [00:02<00:00, 229.95it/s]\n"
     ]
    },
    {
     "name": "stdout",
     "output_type": "stream",
     "text": [
      "----Train metrics: accuracy: 0.926; loss: 0.268\n",
      "----Eval. metrics: accuracy: 0.922; loss: 0.287\n",
      "\n"
     ]
    },
    {
     "name": "stderr",
     "output_type": "stream",
     "text": [
      "Epoch   69: 100%|██████████| 469/469 [00:01<00:00, 256.49it/s]\n"
     ]
    },
    {
     "name": "stdout",
     "output_type": "stream",
     "text": [
      "----Train metrics: accuracy: 0.925; loss: 0.265\n",
      "----Eval. metrics: accuracy: 0.921; loss: 0.287\n",
      "\n"
     ]
    },
    {
     "name": "stderr",
     "output_type": "stream",
     "text": [
      "Epoch   70: 100%|██████████| 469/469 [00:01<00:00, 241.43it/s]\n"
     ]
    },
    {
     "name": "stdout",
     "output_type": "stream",
     "text": [
      "----Train metrics: accuracy: 0.925; loss: 0.270\n",
      "----Eval. metrics: accuracy: 0.921; loss: 0.287\n",
      "\n"
     ]
    },
    {
     "name": "stderr",
     "output_type": "stream",
     "text": [
      "Epoch   71: 100%|██████████| 469/469 [00:01<00:00, 235.25it/s]\n"
     ]
    },
    {
     "name": "stdout",
     "output_type": "stream",
     "text": [
      "----Train metrics: accuracy: 0.927; loss: 0.264\n",
      "----Eval. metrics: accuracy: 0.922; loss: 0.286\n",
      "\n"
     ]
    },
    {
     "name": "stderr",
     "output_type": "stream",
     "text": [
      "Epoch   72: 100%|██████████| 469/469 [00:01<00:00, 250.40it/s]\n"
     ]
    },
    {
     "name": "stdout",
     "output_type": "stream",
     "text": [
      "----Train metrics: accuracy: 0.927; loss: 0.266\n",
      "----Eval. metrics: accuracy: 0.922; loss: 0.287\n",
      "\n"
     ]
    },
    {
     "name": "stderr",
     "output_type": "stream",
     "text": [
      "Epoch   73: 100%|██████████| 469/469 [00:01<00:00, 237.96it/s]\n"
     ]
    },
    {
     "name": "stdout",
     "output_type": "stream",
     "text": [
      "----Train metrics: accuracy: 0.927; loss: 0.264\n",
      "----Eval. metrics: accuracy: 0.921; loss: 0.286\n",
      "\n"
     ]
    },
    {
     "name": "stderr",
     "output_type": "stream",
     "text": [
      "Epoch   74: 100%|██████████| 469/469 [00:01<00:00, 244.89it/s]\n"
     ]
    },
    {
     "name": "stdout",
     "output_type": "stream",
     "text": [
      "----Train metrics: accuracy: 0.927; loss: 0.266\n",
      "----Eval. metrics: accuracy: 0.921; loss: 0.285\n",
      "\n"
     ]
    },
    {
     "name": "stderr",
     "output_type": "stream",
     "text": [
      "Epoch   75: 100%|██████████| 469/469 [00:01<00:00, 242.73it/s]\n"
     ]
    },
    {
     "name": "stdout",
     "output_type": "stream",
     "text": [
      "----Train metrics: accuracy: 0.926; loss: 0.266\n",
      "----Eval. metrics: accuracy: 0.921; loss: 0.286\n",
      "\n"
     ]
    },
    {
     "name": "stderr",
     "output_type": "stream",
     "text": [
      "Epoch   76: 100%|██████████| 469/469 [00:01<00:00, 253.82it/s]\n"
     ]
    },
    {
     "name": "stdout",
     "output_type": "stream",
     "text": [
      "----Train metrics: accuracy: 0.927; loss: 0.263\n",
      "----Eval. metrics: accuracy: 0.920; loss: 0.286\n",
      "\n"
     ]
    },
    {
     "name": "stderr",
     "output_type": "stream",
     "text": [
      "Epoch   77: 100%|██████████| 469/469 [00:01<00:00, 255.47it/s]\n"
     ]
    },
    {
     "name": "stdout",
     "output_type": "stream",
     "text": [
      "----Train metrics: accuracy: 0.927; loss: 0.263\n",
      "----Eval. metrics: accuracy: 0.922; loss: 0.285\n",
      "\n"
     ]
    },
    {
     "name": "stderr",
     "output_type": "stream",
     "text": [
      "Epoch   78: 100%|██████████| 469/469 [00:01<00:00, 252.74it/s]\n"
     ]
    },
    {
     "name": "stdout",
     "output_type": "stream",
     "text": [
      "----Train metrics: accuracy: 0.926; loss: 0.263\n",
      "----Eval. metrics: accuracy: 0.923; loss: 0.285\n",
      "\n"
     ]
    },
    {
     "name": "stderr",
     "output_type": "stream",
     "text": [
      "Epoch   79: 100%|██████████| 469/469 [00:01<00:00, 241.86it/s]\n"
     ]
    },
    {
     "name": "stdout",
     "output_type": "stream",
     "text": [
      "----Train metrics: accuracy: 0.928; loss: 0.259\n",
      "----Eval. metrics: accuracy: 0.922; loss: 0.285\n",
      "\n"
     ]
    },
    {
     "name": "stderr",
     "output_type": "stream",
     "text": [
      "Epoch   80: 100%|██████████| 469/469 [00:01<00:00, 235.25it/s]\n"
     ]
    },
    {
     "name": "stdout",
     "output_type": "stream",
     "text": [
      "----Train metrics: accuracy: 0.926; loss: 0.269\n",
      "----Eval. metrics: accuracy: 0.922; loss: 0.285\n",
      "\n"
     ]
    },
    {
     "name": "stderr",
     "output_type": "stream",
     "text": [
      "Epoch   81: 100%|██████████| 469/469 [00:01<00:00, 235.48it/s]\n"
     ]
    },
    {
     "name": "stdout",
     "output_type": "stream",
     "text": [
      "----Train metrics: accuracy: 0.927; loss: 0.263\n",
      "----Eval. metrics: accuracy: 0.921; loss: 0.285\n",
      "\n"
     ]
    },
    {
     "name": "stderr",
     "output_type": "stream",
     "text": [
      "Epoch   82: 100%|██████████| 469/469 [00:01<00:00, 265.46it/s]\n"
     ]
    },
    {
     "name": "stdout",
     "output_type": "stream",
     "text": [
      "----Train metrics: accuracy: 0.927; loss: 0.262\n",
      "----Eval. metrics: accuracy: 0.922; loss: 0.285\n",
      "\n"
     ]
    },
    {
     "name": "stderr",
     "output_type": "stream",
     "text": [
      "Epoch   83: 100%|██████████| 469/469 [00:01<00:00, 250.12it/s]\n"
     ]
    },
    {
     "name": "stdout",
     "output_type": "stream",
     "text": [
      "----Train metrics: accuracy: 0.927; loss: 0.264\n",
      "----Eval. metrics: accuracy: 0.923; loss: 0.284\n",
      "\n"
     ]
    },
    {
     "name": "stderr",
     "output_type": "stream",
     "text": [
      "Epoch   84: 100%|██████████| 469/469 [00:01<00:00, 244.59it/s]\n"
     ]
    },
    {
     "name": "stdout",
     "output_type": "stream",
     "text": [
      "----Train metrics: accuracy: 0.929; loss: 0.255\n",
      "----Eval. metrics: accuracy: 0.923; loss: 0.283\n",
      "\n"
     ]
    },
    {
     "name": "stderr",
     "output_type": "stream",
     "text": [
      "Epoch   85: 100%|██████████| 469/469 [00:01<00:00, 249.15it/s]\n"
     ]
    },
    {
     "name": "stdout",
     "output_type": "stream",
     "text": [
      "----Train metrics: accuracy: 0.927; loss: 0.264\n",
      "----Eval. metrics: accuracy: 0.921; loss: 0.283\n",
      "\n"
     ]
    },
    {
     "name": "stderr",
     "output_type": "stream",
     "text": [
      "Epoch   86: 100%|██████████| 469/469 [00:01<00:00, 238.84it/s]\n"
     ]
    },
    {
     "name": "stdout",
     "output_type": "stream",
     "text": [
      "----Train metrics: accuracy: 0.928; loss: 0.261\n",
      "----Eval. metrics: accuracy: 0.921; loss: 0.283\n",
      "\n"
     ]
    },
    {
     "name": "stderr",
     "output_type": "stream",
     "text": [
      "Epoch   87: 100%|██████████| 469/469 [00:01<00:00, 246.43it/s]\n"
     ]
    },
    {
     "name": "stdout",
     "output_type": "stream",
     "text": [
      "----Train metrics: accuracy: 0.928; loss: 0.262\n",
      "----Eval. metrics: accuracy: 0.921; loss: 0.284\n",
      "\n"
     ]
    },
    {
     "name": "stderr",
     "output_type": "stream",
     "text": [
      "Epoch   88: 100%|██████████| 469/469 [00:02<00:00, 232.45it/s]\n"
     ]
    },
    {
     "name": "stdout",
     "output_type": "stream",
     "text": [
      "----Train metrics: accuracy: 0.928; loss: 0.259\n",
      "----Eval. metrics: accuracy: 0.921; loss: 0.284\n",
      "\n"
     ]
    },
    {
     "name": "stderr",
     "output_type": "stream",
     "text": [
      "Epoch   89: 100%|██████████| 469/469 [00:01<00:00, 258.80it/s]\n"
     ]
    },
    {
     "name": "stdout",
     "output_type": "stream",
     "text": [
      "----Train metrics: accuracy: 0.929; loss: 0.259\n",
      "----Eval. metrics: accuracy: 0.922; loss: 0.282\n",
      "\n"
     ]
    },
    {
     "name": "stderr",
     "output_type": "stream",
     "text": [
      "Epoch   90: 100%|██████████| 469/469 [00:01<00:00, 260.55it/s]\n"
     ]
    },
    {
     "name": "stdout",
     "output_type": "stream",
     "text": [
      "----Train metrics: accuracy: 0.928; loss: 0.262\n",
      "----Eval. metrics: accuracy: 0.922; loss: 0.283\n",
      "\n"
     ]
    },
    {
     "name": "stderr",
     "output_type": "stream",
     "text": [
      "Epoch   91: 100%|██████████| 469/469 [00:01<00:00, 261.43it/s]\n"
     ]
    },
    {
     "name": "stdout",
     "output_type": "stream",
     "text": [
      "----Train metrics: accuracy: 0.929; loss: 0.258\n",
      "----Eval. metrics: accuracy: 0.922; loss: 0.283\n",
      "\n"
     ]
    },
    {
     "name": "stderr",
     "output_type": "stream",
     "text": [
      "Epoch   92: 100%|██████████| 469/469 [00:02<00:00, 231.87it/s]\n"
     ]
    },
    {
     "name": "stdout",
     "output_type": "stream",
     "text": [
      "----Train metrics: accuracy: 0.930; loss: 0.255\n",
      "----Eval. metrics: accuracy: 0.922; loss: 0.283\n",
      "\n"
     ]
    },
    {
     "name": "stderr",
     "output_type": "stream",
     "text": [
      "Epoch   93: 100%|██████████| 469/469 [00:01<00:00, 241.30it/s]\n"
     ]
    },
    {
     "name": "stdout",
     "output_type": "stream",
     "text": [
      "----Train metrics: accuracy: 0.930; loss: 0.254\n",
      "----Eval. metrics: accuracy: 0.922; loss: 0.283\n",
      "\n"
     ]
    },
    {
     "name": "stderr",
     "output_type": "stream",
     "text": [
      "Epoch   94: 100%|██████████| 469/469 [00:02<00:00, 226.80it/s]\n"
     ]
    },
    {
     "name": "stdout",
     "output_type": "stream",
     "text": [
      "----Train metrics: accuracy: 0.929; loss: 0.256\n",
      "----Eval. metrics: accuracy: 0.923; loss: 0.281\n",
      "\n"
     ]
    },
    {
     "name": "stderr",
     "output_type": "stream",
     "text": [
      "Epoch   95: 100%|██████████| 469/469 [00:01<00:00, 260.47it/s]\n"
     ]
    },
    {
     "name": "stdout",
     "output_type": "stream",
     "text": [
      "----Train metrics: accuracy: 0.929; loss: 0.254\n",
      "----Eval. metrics: accuracy: 0.924; loss: 0.280\n",
      "\n"
     ]
    },
    {
     "name": "stderr",
     "output_type": "stream",
     "text": [
      "Epoch   96: 100%|██████████| 469/469 [00:01<00:00, 245.60it/s]\n"
     ]
    },
    {
     "name": "stdout",
     "output_type": "stream",
     "text": [
      "----Train metrics: accuracy: 0.929; loss: 0.257\n",
      "----Eval. metrics: accuracy: 0.923; loss: 0.282\n",
      "\n"
     ]
    },
    {
     "name": "stderr",
     "output_type": "stream",
     "text": [
      "Epoch   97: 100%|██████████| 469/469 [00:01<00:00, 246.14it/s]\n"
     ]
    },
    {
     "name": "stdout",
     "output_type": "stream",
     "text": [
      "----Train metrics: accuracy: 0.928; loss: 0.257\n",
      "----Eval. metrics: accuracy: 0.921; loss: 0.282\n",
      "\n"
     ]
    },
    {
     "name": "stderr",
     "output_type": "stream",
     "text": [
      "Epoch   98: 100%|██████████| 469/469 [00:01<00:00, 254.54it/s]\n"
     ]
    },
    {
     "name": "stdout",
     "output_type": "stream",
     "text": [
      "----Train metrics: accuracy: 0.930; loss: 0.255\n",
      "----Eval. metrics: accuracy: 0.923; loss: 0.281\n",
      "\n"
     ]
    },
    {
     "name": "stderr",
     "output_type": "stream",
     "text": [
      "Epoch   99: 100%|██████████| 469/469 [00:01<00:00, 245.58it/s]\n"
     ]
    },
    {
     "name": "stdout",
     "output_type": "stream",
     "text": [
      "----Train metrics: accuracy: 0.930; loss: 0.255\n",
      "----Eval. metrics: accuracy: 0.923; loss: 0.281\n",
      "\n"
     ]
    },
    {
     "name": "stderr",
     "output_type": "stream",
     "text": [
      "Epoch  100: 100%|██████████| 469/469 [00:01<00:00, 239.42it/s]\n"
     ]
    },
    {
     "name": "stdout",
     "output_type": "stream",
     "text": [
      "----Train metrics: accuracy: 0.930; loss: 0.252\n",
      "----Eval. metrics: accuracy: 0.923; loss: 0.281\n",
      "\n"
     ]
    }
   ],
   "source": [
    "train_logistic_regression(x_train, y_train, x_test, y_test)"
   ]
  }
 ],
 "metadata": {
  "interpreter": {
   "hash": "b8fa43838452e9e93f8e7562de70ac54321a3b66f4651442f84440771fb9be48"
  },
  "kernelspec": {
   "display_name": "Python 3.7.5 64-bit ('deeplearning': virtualenv)",
   "language": "python",
   "name": "python3"
  },
  "language_info": {
   "codemirror_mode": {
    "name": "ipython",
    "version": 3
   },
   "file_extension": ".py",
   "mimetype": "text/x-python",
   "name": "python",
   "nbconvert_exporter": "python",
   "pygments_lexer": "ipython3",
   "version": "3.7.5"
  },
  "orig_nbformat": 4
 },
 "nbformat": 4,
 "nbformat_minor": 2
}
